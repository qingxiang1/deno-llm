{
 "cells": [
  {
   "cell_type": "code",
   "execution_count": 2,
   "metadata": {},
   "outputs": [
    {
     "name": "stdout",
     "output_type": "stream",
     "text": [
      "[\n",
      "  Document {\n",
      "    pageContent: \u001b[32m\"三体前传：球状闪电 作者：刘慈欣\\n\"\u001b[39m +\n",
      "      \u001b[32m\"\\n\"\u001b[39m +\n",
      "      \u001b[32m\"内容简介：\\n\"\u001b[39m +\n",
      "      \u001b[32m\"　　没有《球状闪电》，就没有后来的《三体》！\\n\"\u001b[39m +\n",
      "      \u001b[32m\"　　《三体》前传！\\n\"\u001b[39m +\n",
      "      \u001b[32m\"　　亚洲首位雨果奖得主刘慈欣的三大长篇之一！（《三体》《球状闪电》《超新星纪元》）\\n\"\u001b[39m +\n",
      "      \u001b[32m\"　\"\u001b[39m... 189395 more characters,\n",
      "    metadata: { source: \u001b[32m\"data/qiu.txt\"\u001b[39m }\n",
      "  }\n",
      "]\n"
     ]
    }
   ],
   "source": [
    "import { TextLoader } from \"langchain/document_loaders/fs/text\";\n",
    "  \n",
    "const loader = new TextLoader(\"data/qiu.txt\");\n",
    "const docs = await loader.load();\n",
    "console.log(docs);"
   ]
  },
  {
   "cell_type": "code",
   "execution_count": 3,
   "metadata": {},
   "outputs": [],
   "source": [
    "import { RecursiveCharacterTextSplitter } from \"langchain/text_splitter\";\n",
    "import { TextLoader } from \"langchain/document_loaders/fs/text\";\n",
    "  \n",
    "const loader = new TextLoader(\"data/qiu.txt\");\n",
    "const docs = await loader.load();\n",
    "\n",
    "const splitter = new RecursiveCharacterTextSplitter({\n",
    "    chunkSize: 500,\n",
    "    chunkOverlap: 100,\n",
    "});\n",
    "\n",
    "const splitDocs = await splitter.splitDocuments(docs);\n",
    "\n",
    "console.log(splitDocs[4])\n"
   ]
  },
  {
   "cell_type": "code",
   "execution_count": 4,
   "metadata": {},
   "outputs": [
    {
     "ename": "ReferenceError",
     "evalue": "splitDocs is not defined",
     "output_type": "error",
     "traceback": [
      "Stack trace:",
      "ReferenceError: splitDocs is not defined",
      "    at <anonymous>:1:34"
     ]
    }
   ],
   "source": []
  },
  {
   "cell_type": "code",
   "execution_count": null,
   "metadata": {},
   "outputs": [],
   "source": []
  }
 ],
 "metadata": {
  "kernelspec": {
   "display_name": "Deno",
   "language": "typescript",
   "name": "deno"
  },
  "language_info": {
   "file_extension": ".ts",
   "mimetype": "text/x.typescript",
   "name": "typescript",
   "nb_converter": "script",
   "pygments_lexer": "typescript",
   "version": "5.4.5"
  }
 },
 "nbformat": 4,
 "nbformat_minor": 4
}
