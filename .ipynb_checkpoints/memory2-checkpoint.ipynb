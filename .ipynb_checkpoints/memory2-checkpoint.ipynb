{
 "cells": [
  {
   "cell_type": "code",
   "execution_count": 1,
   "id": "79d8f19a-93a2-414c-a277-83c905119d2b",
   "metadata": {},
   "outputs": [
    {
     "name": "stdout",
     "output_type": "stream",
     "text": [
      "{ response: \u001b[32m\"你好，小明！我是AI助手，有什么问题或者需要帮助的吗？我很乐意提供支持。\"\u001b[39m }\n"
     ]
    }
   ],
   "source": [
    "import { BufferMemory } from \"langchain/memory\";\n",
    "import { ConversationChain } from \"langchain/chains\";\n",
    "import { Ollama } from \"@langchain/community/llms/ollama\";\n",
    "\n",
    "const chatModel = new Ollama({\n",
    "  baseUrl: \"http://localhost:11434\", \n",
    "  model: \"qwen:7b\", \n",
    "});\n",
    "\n",
    "const memory = new BufferMemory();\n",
    "const chain = new ConversationChain({ llm: chatModel, memory: memory });\n",
    "const res1 = await chain.call({ input: \"我是小明\" });\n",
    "\n",
    "console.log(res1);"
   ]
  },
  {
   "cell_type": "code",
   "execution_count": 2,
   "id": "d1fa5e97-6c11-4738-b9bf-f69bd48677f3",
   "metadata": {},
   "outputs": [
    {
     "name": "stdout",
     "output_type": "stream",
     "text": [
      "{ response: \u001b[32m\"你的名字是小明。\"\u001b[39m }\n"
     ]
    }
   ],
   "source": [
    "const res2 = await chain.call({ input: \"我叫什么？\" });\n",
    "console.log(res2);"
   ]
  },
  {
   "cell_type": "code",
   "execution_count": 3,
   "id": "aafb5a7a-90b0-4b0f-83ad-4326fd545d20",
   "metadata": {},
   "outputs": [],
   "source": [
    "import { ConversationSummaryBufferMemory } from \"langchain/memory\";\n",
    "import { ConversationChain } from \"langchain/chains\";\n",
    "import { Ollama } from \"@langchain/community/llms/ollama\";\n",
    "\n",
    "const model = new Ollama({\n",
    "  baseUrl: \"http://localhost:11434\", \n",
    "  model: \"qwen:7b\", \n",
    "});\n",
    "\n",
    "const memory = new ConversationSummaryBufferMemory({\n",
    "  llm: model,\n",
    "  maxTokenLimit: 200\n",
    "});\n",
    "const chain = new ConversationChain({ llm: model, memory: memory, verbose: true });"
   ]
  },
  {
   "cell_type": "code",
   "execution_count": 4,
   "id": "17c576e2-bd3d-4a9a-8370-491434d197a3",
   "metadata": {},
   "outputs": [],
   "source": [
    "import { EntityMemory, ENTITY_MEMORY_CONVERSATION_TEMPLATE } from \"langchain/memory\";\n",
    "import { ConversationChain } from \"langchain/chains\";\n",
    "\n",
    "\n",
    "const model = new Ollama({\n",
    "  baseUrl: \"http://localhost:11434\", \n",
    "  model: \"qwen:7b\", \n",
    "});\n",
    "const memory = new EntityMemory({\n",
    "    llm: model,\n",
    "    chatHistoryKey: \"history\",\n",
    "    entitiesKey: \"entities\"\n",
    "});\n",
    "const chain = new ConversationChain({ \n",
    "    llm: model, \n",
    "    prompt: ENTITY_MEMORY_CONVERSATION_TEMPLATE,\n",
    "    memory: memory, \n",
    "    verbose: true \n",
    "});"
   ]
  },
  {
   "cell_type": "code",
   "execution_count": 6,
   "id": "8adb0e95-5ea7-4fb5-ba6f-8e4537ffe262",
   "metadata": {},
   "outputs": [
    {
     "ename": "TypeError",
     "evalue": "Cannot read properties of undefined (reading 'env')",
     "output_type": "error",
     "traceback": [
      "Stack trace:",
      "TypeError: Cannot read properties of undefined (reading 'env')",
      "    at <anonymous>:1:30"
     ]
    }
   ],
   "source": [
    "// process.env.LANGCHAIN_VERBOSE = \"false\";\n",
    "\n",
    "const res1 = await chain.call({ input: \"我叫小明，今年 18 岁\" });\n",
    "const res2 = await chain.call({ input: \"ABC 是一家互联网公司，主要是售卖方便面的公司\" });\n",
    "\n",
    "console.log(res1);\n",
    "console.log(res2);"
   ]
  },
  {
   "cell_type": "code",
   "execution_count": null,
   "id": "a14a7575-fc90-420e-805c-80f8fe7ef62e",
   "metadata": {},
   "outputs": [],
   "source": [
    "const res3 = await chain.call({ input: \"介绍小明和 ABC\" });\n",
    "console.log(res3);"
   ]
  }
 ],
 "metadata": {
  "kernelspec": {
   "display_name": "Deno",
   "language": "typescript",
   "name": "deno"
  },
  "language_info": {
   "file_extension": ".ts",
   "mimetype": "text/x.typescript",
   "name": "typescript",
   "nb_converter": "script",
   "pygments_lexer": "typescript",
   "version": "5.4.5"
  }
 },
 "nbformat": 4,
 "nbformat_minor": 5
}
