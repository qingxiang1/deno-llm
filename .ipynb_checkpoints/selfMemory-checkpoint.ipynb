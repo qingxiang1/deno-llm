{
 "cells": [
  {
   "cell_type": "code",
   "execution_count": 2,
   "id": "858e8a4b-5f8e-4649-891b-19a699431188",
   "metadata": {},
   "outputs": [],
   "source": [
    "import { load } from \"dotenv\";\n",
    "const env = await load();\n",
    "\n",
    "const process = {\n",
    "    env\n",
    "}"
   ]
  },
  {
   "cell_type": "code",
   "execution_count": 3,
   "id": "f0c73264-aa94-4543-81dd-31fe5de706ee",
   "metadata": {},
   "outputs": [],
   "source": [
    "import { ChatAlibabaTongyi } from \"@langchain/community/chat_models/alibaba_tongyi\";\n",
    "import { BufferMemory } from \"langchain/memory\";\n",
    "import { ChatPromptTemplate } from \"@langchain/core/prompts\";\n",
    "\n",
    "const chatModel = new ChatAlibabaTongyi({\n",
    "    verbose:true\n",
    "});\n",
    "const memory = new BufferMemory();\n",
    "\n",
    "const TEMPLATE = `\n",
    "你是一个乐于助人的 ai 助手。尽你所能回答所有问题。\n",
    "\n",
    "这是跟人类沟通的聊天历史:\n",
    "{history}\n",
    "\n",
    "据此回答人类的问题:\n",
    "{input}\n",
    "`\n",
    "const prompt = ChatPromptTemplate.fromTemplate(TEMPLATE);"
   ]
  },
  {
   "cell_type": "code",
   "execution_count": 4,
   "id": "7fe096f3-b427-4513-8c22-3247c4e51a9b",
   "metadata": {},
   "outputs": [],
   "source": [
    "import { RunnableSequence, RunnablePassthrough } from \"@langchain/core/runnables\";\n",
    "import { StringOutputParser } from \"@langchain/core/output_parsers\";\n",
    "\n",
    "let tempInput = \"\"\n",
    "\n",
    "const chain =  RunnableSequence.from([\n",
    "    {\n",
    "        input: new RunnablePassthrough(),\n",
    "        memoryObject: async (input) => {\n",
    "            const history = await memory.loadMemoryVariables({\n",
    "                input\n",
    "            })\n",
    "            tempInput = input\n",
    "            return history\n",
    "        }\n",
    "    },\n",
    "    RunnablePassthrough.assign({\n",
    "        history: (input) => input.memoryObject.history\n",
    "    }),\n",
    "    prompt,\n",
    "    chatModel,\n",
    "    new StringOutputParser(),\n",
    "    new RunnablePassthrough({\n",
    "        func: async (output) => {\n",
    "            await memory.saveContext({\n",
    "                input: tempInput\n",
    "            }, {\n",
    "                output\n",
    "            })\n",
    "        }\n",
    "    }),\n",
    "]);"
   ]
  },
  {
   "cell_type": "code",
   "execution_count": 5,
   "id": "bbfa93a7-4333-48a8-9432-e6e9c2bb5173",
   "metadata": {},
   "outputs": [
    {
     "ename": "TypeError",
     "evalue": "Module not found \"file:///Users/luoqingxiang/Documents/Deno/JSONChatHistory/index.ts\".",
     "output_type": "error",
     "traceback": [
      "Stack trace:",
      "TypeError: Module not found \"file:///Users/luoqingxiang/Documents/Deno/JSONChatHistory/index.ts\".",
      "    at async <anonymous>:1:50"
     ]
    }
   ],
   "source": [
    "import { JSONChatHistory } from \"./JSONChatHistory/index.ts\"\n",
    "import { AIMessage, HumanMessage } from \"@langchain/core/messages\";\n",
    "\n",
    "const history = new JSONChatHistory({\n",
    "    dir: \"chat_data\",\n",
    "    sessionId: \"test\"\n",
    "})\n",
    "\n",
    "\n",
    "await history.addMessages([\n",
    "  new HumanMessage(\"Hi, 我叫小明\"),\n",
    "  new AIMessage(\"你好\"),\n",
    "]);\n",
    "\n",
    "const messages = await history.getMessages();\n",
    "console.log(messages)\n"
   ]
  },
  {
   "cell_type": "code",
   "execution_count": null,
   "id": "0e33897a-f63f-4df0-8609-1de01c6a40a8",
   "metadata": {},
   "outputs": [],
   "source": []
  }
 ],
 "metadata": {
  "kernelspec": {
   "display_name": "Deno",
   "language": "typescript",
   "name": "deno"
  },
  "language_info": {
   "file_extension": ".ts",
   "mimetype": "text/x.typescript",
   "name": "typescript",
   "nb_converter": "script",
   "pygments_lexer": "typescript",
   "version": "5.4.5"
  }
 },
 "nbformat": 4,
 "nbformat_minor": 5
}
