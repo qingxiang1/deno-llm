{
 "cells": [
  {
   "cell_type": "code",
   "execution_count": 1,
   "id": "5b9495b5-6d7e-4bdb-8ab0-8fb1f84dd0e1",
   "metadata": {},
   "outputs": [],
   "source": [
    "import { load } from \"dotenv\";\n",
    "const env = await load();\n",
    "\n",
    "const process = {\n",
    "    env\n",
    "}"
   ]
  },
  {
   "cell_type": "code",
   "execution_count": 2,
   "id": "f8f5914f-3485-49e7-b61f-3cc1976f9d09",
   "metadata": {},
   "outputs": [
    {
     "name": "stdout",
     "output_type": "stream",
     "text": [
      "好的，我可以为您讲一个故事。以下是一个关于勇气和友谊的故事：\n",
      "\n",
      "很久很久以前，有一个年轻的勇士名叫李雷。他生活在一个充满神秘和危险的世界里。李雷非常勇敢，他喜欢冒险和探索未知的地方。他的好朋友是一只聪明的猫头鹰，名叫艾米。艾米总是帮助李雷识别危险并找到正确的道路。\n",
      "\n",
      "有一天，李雷听说了一个古老的传说，关于一个神秘的宝藏，它隐藏在一个遥远的山谷里。这个宝藏拥有神奇的力量，可以帮助人们实现他们的梦想和愿望。李雷决定去寻找这个宝藏，他希望用它来帮助那些需要帮助的人。\n",
      "\n",
      "在寻找宝藏的路上，李雷遇到了许多困难和挑战。他不得不爬上陡峭的山峰，穿越湍急的河流，还要面对凶猛的怪兽和诡异的陷阱。然而，他从不放弃，因为他坚信自己能够找到宝藏并成功实现自己的梦想。\n",
      "\n",
      "在他的旅途中，李雷结识了许多新朋友。他们一起分享故事、互相帮助并共同面对困难。其中有一位智者告诉李雷一个重要的提示，帮助他找到了通往宝藏的隐秘通道。李雷感到非常感激他们的帮助和支持。\n",
      "\n",
      "最终，李雷找到了神秘的宝藏。他用它的力量帮助了许多需要帮助的人，实现了他们的梦想和愿望。他还与他的朋友们分享了这份神奇的力量，并一起度过了许多快乐的时光。\n",
      "\n",
      "这个故事告诉我们，勇气和友谊是成功的关键。当我们面对困难和挑战时，我们需要勇气去面对它们并克服它们。同时，我们也需要朋友的帮助和支持。友谊可以让我们变得更强大，帮助我们实现我们的梦想和目标。\n"
     ]
    }
   ],
   "source": [
    "import { ChatBaiduWenxin } from \"@langchain/community/chat_models/baiduwenxin\";\n",
    "import { HumanMessage } from \"@langchain/core/messages\";\n",
    "import { StringOutputParser } from \"@langchain/core/output_parsers\";\n",
    "\n",
    "const model = new ChatBaiduWenxin({\n",
    "  model: \"ERNIE-Speed-8K\", // ERNIE-Bot,ERNIE-Bot-turbo,ERNIE-Bot-4,ERNIE-Speed-8K,ERNIE-Speed-128K,ERNIE-4.0-8K, ERNIE-4.0-8K-Preview,ERNIE-3.5-8K,ERNIE-3.5-8K-Preview,ERNIE-Lite-8K,ERNIE-Tiny-8K,ERNIE-Character-8K, ERNIE Speed-AppBuilder\n",
    "  temperature: 1,\n",
    "});\n",
    "\n",
    "const outputPrase = new StringOutputParser();\n",
    "const messages = [new HumanMessage(\"Hello\")];\n",
    "\n",
    "const simpleChain = model.pipe(outputPrase);\n",
    "\n",
    "const stream = await simpleChain.invoke([\n",
    "     new HumanMessage(\"讲个故事\"),\n",
    "])\n",
    "\n",
    "console.log(stream);"
   ]
  },
  {
   "cell_type": "code",
   "execution_count": null,
   "id": "3b1dd261-fb5b-41d4-946c-2148c667ea45",
   "metadata": {},
   "outputs": [],
   "source": []
  }
 ],
 "metadata": {
  "kernelspec": {
   "display_name": "Deno",
   "language": "typescript",
   "name": "deno"
  },
  "language_info": {
   "file_extension": ".ts",
   "mimetype": "text/x.typescript",
   "name": "typescript",
   "nb_converter": "script",
   "pygments_lexer": "typescript",
   "version": "5.4.5"
  }
 },
 "nbformat": 4,
 "nbformat_minor": 5
}
