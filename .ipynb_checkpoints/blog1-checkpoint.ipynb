{
 "cells": [
  {
   "cell_type": "code",
   "execution_count": 1,
   "id": "bfc34bca-c9cc-4c7a-8bb6-feba4fbf5d6d",
   "metadata": {},
   "outputs": [],
   "source": [
    "import { load } from \"dotenv\";\n",
    "const env = await load();\n",
    "\n",
    "const process = {\n",
    "    env\n",
    "}"
   ]
  },
  {
   "cell_type": "code",
   "execution_count": 6,
   "id": "26568ab3-cb26-4770-9792-9351145e7927",
   "metadata": {},
   "outputs": [
    {
     "name": "stdout",
     "output_type": "stream",
     "text": [
      "我是通义千问，由阿里云开发的AI助手。我被设计用来回答各种问题、提供信息和进行对话，但我自己不会创作笑话，不过我可以帮你找一个好玩的：\n",
      "\n",
      "为什么26个字母只剩下25个了？因为Q被拴住了，它总是“Queue”（排队）。哈哈，这个冷笑话希望你喜欢。\n"
     ]
    }
   ],
   "source": [
    "import { ChatAlibabaTongyi } from \"@langchain/community/chat_models/alibaba_tongyi\";\n",
    "import { HumanMessage } from \"@langchain/core/messages\";\n",
    "import { StringOutputParser } from \"@langchain/core/output_parsers\";\n",
    "\n",
    "const model = new ChatAlibabaTongyi({\n",
    "  model: \"qwen-turbo\", // Available models: qwen-turbo, qwen-plus, qwen-max\n",
    "  temperature: 1,\n",
    "});\n",
    "\n",
    "const outputPrase = new StringOutputParser();\n",
    "const simpleChain = model.pipe(outputPrase);\n",
    "\n",
    "const stream = await simpleChain.invoke([\n",
    "    new HumanMessage(\"你是谁\"),\n",
    "    new HumanMessage(\"讲个笑话\"),\n",
    "])\n",
    "\n",
    "console.log(stream);"
   ]
  },
  {
   "cell_type": "code",
   "execution_count": 7,
   "id": "d6238461-78c0-46ae-a0a6-ee3e2eade940",
   "metadata": {},
   "outputs": [
    {
     "name": "stdout",
     "output_type": "stream",
     "text": [
      "我是通义千问，由阿里云开发的AI助手。我被设计用来回答各种问题、提供信息和进行对话，但我自己不会创作笑话，但我可以帮你找一个：\n",
      "\n",
      "为什么26个字母只剩下25个了？因为Q被拴住了，它总是跟着U（Queue，队列）走。\n"
     ]
    }
   ],
   "source": [
    "import { ChatAlibabaTongyi } from \"@langchain/community/chat_models/alibaba_tongyi\";\n",
    "import { HumanMessage } from \"@langchain/core/messages\";\n",
    "import { StringOutputParser } from \"@langchain/core/output_parsers\";\n",
    "\n",
    "const model = new ChatAlibabaTongyi({\n",
    "    model: \"qwen-turbo\", // Available models: qwen-turbo, qwen-plus, qwen-max\n",
    "    temperature: 1,\n",
    "    maxRetries: 0, // 出错重试次数\n",
    "});\n",
    "\n",
    "const model2 = new ChatAlibabaTongyi({\n",
    "    model: \"qwen-plus\", // Available models: qwen-turbo, qwen-plus, qwen-max\n",
    "    temperature: 1,\n",
    "    maxRetries: 0, // 出错重试次数\n",
    "});\n",
    "\n",
    "const fallbackModl = model.withFallbacks({\n",
    "    fallbacks: [model2]\n",
    "})\n",
    "\n",
    "const outputPrase = new StringOutputParser();\n",
    "const simpleChain = fallbackModl.pipe(outputPrase);\n",
    "\n",
    "\n",
    "const stream = await simpleChain.invoke([\n",
    "    new HumanMessage(\"你是谁\"),\n",
    "    new HumanMessage(\"讲个笑话\"),\n",
    "]);\n",
    "\n",
    "console.log(stream);"
   ]
  },
  {
   "cell_type": "code",
   "execution_count": 8,
   "id": "b779d7c4-1e9c-4af7-ae66-da1cf64473dc",
   "metadata": {},
   "outputs": [
    {
     "name": "stdout",
     "output_type": "stream",
     "text": [
      "你是谁\n"
     ]
    }
   ],
   "source": [
    "import { PromptTemplate } from \"@langchain/core/prompts\";\n",
    "\n",
    "const prompt1 = new PromptTemplate({\n",
    "  inputVariables: [],\n",
    "  template: \"你是谁\",\n",
    "});\n",
    "const msg = await prompt1.format();\n",
    "\n",
    "console.log(msg);"
   ]
  },
  {
   "cell_type": "code",
   "execution_count": 10,
   "id": "edc2423b-00ac-4317-822d-f2930b32ae80",
   "metadata": {},
   "outputs": [
    {
     "name": "stdout",
     "output_type": "stream",
     "text": [
      "我是：小明\n"
     ]
    }
   ],
   "source": [
    "const paramPrompt = new PromptTemplate({\n",
    "  inputVariables: [\"name\"],\n",
    "  template: \"我是：{name}\",\n",
    "});\n",
    "const model = await paramPrompt.format({\n",
    "  name: \"小明\",\n",
    "});\n",
    "\n",
    "console.log(model);"
   ]
  },
  {
   "cell_type": "code",
   "execution_count": 15,
   "id": "00b120a8-073f-49c2-8e02-63220a3b8142",
   "metadata": {},
   "outputs": [
    {
     "name": "stdout",
     "output_type": "stream",
     "text": [
      "我是：小明，今年18岁，{男}\n"
     ]
    }
   ],
   "source": [
    "const paramPrompt = new PromptTemplate({\n",
    "    inputVariables: [\"name\", \"age\", \"sex\"],\n",
    "    template: \"我是：{name}，今年{age}岁，{{{sex}}}\",\n",
    "});\n",
    "const model = await paramPrompt.format({\n",
    "    name: \"小明\",\n",
    "    age: 18,\n",
    "    sex: \"男\",\n",
    "});\n",
    "\n",
    "console.log(model);"
   ]
  },
  {
   "cell_type": "code",
   "execution_count": 16,
   "id": "f3382ec2-f4d2-422f-97d2-737e0f4f049a",
   "metadata": {},
   "outputs": [
    {
     "name": "stdout",
     "output_type": "stream",
     "text": [
      "[ \u001b[32m\"name\"\u001b[39m, \u001b[32m\"age\"\u001b[39m, \u001b[32m\"sex\"\u001b[39m ]\n",
      "我是 小明，今年18岁，{男}\n"
     ]
    }
   ],
   "source": [
    "const simpleTemp = PromptTemplate.fromTemplate(\"我是 {name}，今年{age}岁，{{{sex}}}\");\n",
    "\n",
    "console.log(simpleTemp.inputVariables);\n",
    "\n",
    "const modal = await simpleTemp.format({\n",
    "  name: \"小明\",\n",
    "  age: 18,\n",
    "  sex: \"男\",\n",
    "});\n",
    "console.log(modal);"
   ]
  },
  {
   "cell_type": "code",
   "execution_count": 19,
   "id": "acd97365-507e-4d5e-82c0-efc31151cde0",
   "metadata": {},
   "outputs": [
    {
     "name": "stdout",
     "output_type": "stream",
     "text": [
      "我是：小明，今年23岁\n",
      "我是：小明，今年16岁\n"
     ]
    }
   ],
   "source": [
    "const initialPrompt = new PromptTemplate({\n",
    "  inputVariables: [\"name\", \"age\"],\n",
    "  template: \"我是：{name}，今年{age}岁\",\n",
    "});\n",
    "\n",
    "const partialedPrompt = await initialPrompt.partial({\n",
    "  name: \"小明\",\n",
    "});\n",
    "\n",
    "const format1 = await partialedPrompt.format({\n",
    "  age: 23,\n",
    "});\n",
    "\n",
    "console.log(format1);\n",
    "\n",
    "const format2 = await partialedPrompt.format({\n",
    "  age: 16,\n",
    "});\n",
    "\n",
    "console.log(format2);"
   ]
  },
  {
   "cell_type": "code",
   "execution_count": 20,
   "id": "0939155a-b61b-4425-83ae-1e33f7740496",
   "metadata": {},
   "outputs": [
    {
     "name": "stdout",
     "output_type": "stream",
     "text": [
      "现在是2024/5/23，该吃饭了。\n"
     ]
    }
   ],
   "source": [
    "const getCurrentTime = () => {\n",
    "  return new Date().toLocaleDateString();\n",
    "};\n",
    "\n",
    "const prompt1 = new PromptTemplate({\n",
    "  template: \"现在是{date}，{activity}。\",\n",
    "  inputVariables: [\"date\", \"activity\"],\n",
    "});\n",
    "\n",
    "const partialedPt = await prompt1.partial({\n",
    "  date: getCurrentTime,\n",
    "});\n",
    "\n",
    "const formatVal = await partialedPt.format({\n",
    "  activity: \"该吃饭了\",\n",
    "});\n",
    "\n",
    "console.log(formatVal);"
   ]
  },
  {
   "cell_type": "code",
   "execution_count": 22,
   "id": "f32f2bd5-3818-4a9d-b8ae-469d33d93c85",
   "metadata": {},
   "outputs": [
    {
     "name": "stdout",
     "output_type": "stream",
     "text": [
      "2024/5/23 下午好!\n"
     ]
    }
   ],
   "source": [
    "const getCurrentTime = () => {\n",
    "  return new Date().toLocaleDateString();\n",
    "};\n",
    "\n",
    "function getGreetings(timeOfDay) {\n",
    "  return () => {\n",
    "    const date = getCurrentTime()\n",
    "    switch (timeOfDay) {\n",
    "      case 'morning':\n",
    "        return date + ' 早上好';\n",
    "      case 'afternoon':\n",
    "        return date + ' 下午好';\n",
    "      case 'evening':\n",
    "        return date + ' 晚上好';\n",
    "      default:\n",
    "        return date + ' 你好';\n",
    "    }\n",
    "  };\n",
    "}\n",
    "\n",
    "const prompt = new PromptTemplate({\n",
    "  template: \"{greeting}!\",\n",
    "  inputVariables: [\"greeting\"],\n",
    "});\n",
    "\n",
    "const dayType = 'afternoon';\n",
    "\n",
    "const partialPt = await prompt.partial({\n",
    "  greeting: getGreetings(dayType),\n",
    "});\n",
    "\n",
    "const formatStr = await partialPt.format();\n",
    "\n",
    "console.log(formatStr);"
   ]
  },
  {
   "cell_type": "code",
   "execution_count": 23,
   "id": "31c65f71-5db4-47b6-b34f-476dafdb842d",
   "metadata": {},
   "outputs": [],
   "source": [
    "import { SystemMessagePromptTemplate } from \"@langchain/core/prompts\";\n",
    "\n",
    "const sysTemplate = SystemMessagePromptTemplate.fromTemplate(`你是一个专\n",
    "业的翻译员，你的任务是将文本从{source_lang}翻译成{target_lang}。`);"
   ]
  },
  {
   "cell_type": "code",
   "execution_count": 24,
   "id": "4576945e-3c42-4720-b632-ab8208465450",
   "metadata": {},
   "outputs": [],
   "source": [
    "import { HumanMessagePromptTemplate } from \"@langchain/core/prompts\";\n",
    "\n",
    "const userTemplate = HumanMessagePromptTemplate.fromTemplate(\"请翻译这句话：{text}\");"
   ]
  },
  {
   "cell_type": "code",
   "execution_count": 25,
   "id": "fc106e38-008f-4a97-9ef7-be2ca6da33a0",
   "metadata": {},
   "outputs": [],
   "source": [
    "import { ChatPromptTemplate } from \"@langchain/core/prompts\";\n",
    "\n",
    "const chatPrompt = ChatPromptTemplate.fromMessages([\n",
    "    sysTemplate,\n",
    "    userTemplate,\n",
    "]);"
   ]
  },
  {
   "cell_type": "code",
   "execution_count": 29,
   "id": "f1070ee3-8476-4762-b442-f6e5bd0cc5a8",
   "metadata": {},
   "outputs": [
    {
     "name": "stdout",
     "output_type": "stream",
     "text": [
      "[\n",
      "  SystemMessage {\n",
      "    lc_serializable: \u001b[33mtrue\u001b[39m,\n",
      "    lc_kwargs: {\n",
      "      content: \u001b[32m\"你是一个专\\n业的翻译员，你的任务是将文本从中文翻译成日语。\"\u001b[39m,\n",
      "      additional_kwargs: {},\n",
      "      response_metadata: {}\n",
      "    },\n",
      "    lc_namespace: [ \u001b[32m\"langchain_core\"\u001b[39m, \u001b[32m\"messages\"\u001b[39m ],\n",
      "    content: \u001b[32m\"你是一个专\\n业的翻译员，你的任务是将文本从中文翻译成日语。\"\u001b[39m,\n",
      "    name: \u001b[90mundefined\u001b[39m,\n",
      "    additional_kwargs: {},\n",
      "    response_metadata: {}\n",
      "  },\n",
      "  HumanMessage {\n",
      "    lc_serializable: \u001b[33mtrue\u001b[39m,\n",
      "    lc_kwargs: {\n",
      "      content: \u001b[32m\"请翻译这句话：你好，小明同学\"\u001b[39m,\n",
      "      additional_kwargs: {},\n",
      "      response_metadata: {}\n",
      "    },\n",
      "    lc_namespace: [ \u001b[32m\"langchain_core\"\u001b[39m, \u001b[32m\"messages\"\u001b[39m ],\n",
      "    content: \u001b[32m\"请翻译这句话：你好，小明同学\"\u001b[39m,\n",
      "    name: \u001b[90mundefined\u001b[39m,\n",
      "    additional_kwargs: {},\n",
      "    response_metadata: {}\n",
      "  }\n",
      "]\n"
     ]
    }
   ],
   "source": [
    "const formatPt = await chatPrompt.formatMessages({\n",
    "  source_lang: \"中文\",\n",
    "  target_lang: \"日语\",\n",
    "  text: \"你好，小明同学\",\n",
    "});\n",
    "\n",
    "console.log(formatPt)"
   ]
  },
  {
   "cell_type": "code",
   "execution_count": 30,
   "id": "f73d4bf9-a571-4155-b2b3-fc49fdf9bb6e",
   "metadata": {},
   "outputs": [
    {
     "name": "stdout",
     "output_type": "stream",
     "text": [
      "こんにちは、小明さん。\n"
     ]
    }
   ],
   "source": [
    "import { ChatAlibabaTongyi } from \"@langchain/community/chat_models/alibaba_tongyi\";\n",
    "import { HumanMessage } from \"@langchain/core/messages\";\n",
    "import { StringOutputParser } from \"@langchain/core/output_parsers\";\n",
    "\n",
    "const model = new ChatAlibabaTongyi({\n",
    "  model: \"qwen-turbo\", // Available models: qwen-turbo, qwen-plus, qwen-max\n",
    "  temperature: 1,\n",
    "});\n",
    "\n",
    "const outputPrase = new StringOutputParser();\n",
    "\n",
    "const simpleChain = chatPrompt.pipe(model).pipe(outputPrase);\n",
    "\n",
    "const stream = await simpleChain.invoke({\n",
    "    source_lang: \"中文\",\n",
    "    target_lang: \"日语\",\n",
    "    text: \"你好，小明同学\",\n",
    "});\n",
    "\n",
    "console.log(stream);"
   ]
  },
  {
   "cell_type": "code",
   "execution_count": 31,
   "id": "50b56043-724e-49c0-9bb3-d3515f05462e",
   "metadata": {},
   "outputs": [
    {
     "name": "stdout",
     "output_type": "stream",
     "text": [
      "\n",
      "你是一个智能管家，今天是 2024/5/23，现在是 早上，你的主人的信息是姓名是 小明, 性别是 男, \n",
      "根据上下文，完成主人的需求\n",
      "\n",
      "我想吃 早上 的 煎饼。 \n",
      "再重复一遍我的信息 姓名是 小明, 性别是 男\n"
     ]
    }
   ],
   "source": [
    "import {\n",
    "  PromptTemplate,\n",
    "  PipelinePromptTemplate,\n",
    "} from \"@langchain/core/prompts\";\n",
    "\n",
    "const getCurrentTime = () => {\n",
    "  return new Date().toLocaleDateString();\n",
    "};\n",
    "\n",
    "const fullPt = PromptTemplate.fromTemplate(`\n",
    "你是一个智能管家，今天是 {date}，你的主人的信息是{info}, \n",
    "根据上下文，完成主人的需求\n",
    "{task}`);\n",
    "\n",
    "const datePt = PromptTemplate.fromTemplate(\"{date}，现在是 {period}\")\n",
    "const periodPt = await datePt.partial({\n",
    "    date: getCurrentTime,\n",
    "})\n",
    "\n",
    "const infoPt =  PromptTemplate.fromTemplate(\"姓名是 {name}, 性别是 {sex}\");\n",
    "\n",
    "const taskPt = PromptTemplate.fromTemplate(`\n",
    "我想吃 {period} 的 {food}。 \n",
    "再重复一遍我的信息 {info}`);\n",
    "\n",
    "const composedPrompt = new PipelinePromptTemplate({\n",
    "  pipelinePrompts: [\n",
    "    {\n",
    "      name: \"date\",\n",
    "      prompt: periodPt,\n",
    "    },\n",
    "    {\n",
    "      name: \"info\",\n",
    "      prompt: infoPt,\n",
    "    },\n",
    "    {\n",
    "      name: \"task\",\n",
    "      prompt: taskPt,\n",
    "    },\n",
    "  ],\n",
    "  finalPrompt: fullPt,\n",
    "});\n",
    "\n",
    "const formatPt = await composedPrompt.format({\n",
    "    period: \"早上\",\n",
    "    name: \"小明\",\n",
    "    sex: \"男\",\n",
    "    food: \"煎饼\"\n",
    "});\n",
    "\n",
    "console.log(formatPt)\n"
   ]
  },
  {
   "cell_type": "code",
   "execution_count": 13,
   "id": "3e162f60-f2dd-4d6c-a832-dcf2c3550a4b",
   "metadata": {},
   "outputs": [
    {
     "name": "stdout",
     "output_type": "stream",
     "text": [
      "您好，我是一个人工智能语言模型，可以回答您的问题并提供帮助。请问有什么我可以帮助您的吗？\n"
     ]
    }
   ],
   "source": [
    "import { ChatBaiduWenxin } from \"@langchain/community/chat_models/baiduwenxin\";\n",
    "import { HumanMessage } from \"@langchain/core/messages\";\n",
    "import { StringOutputParser } from \"@langchain/core/output_parsers\";\n",
    "\n",
    "const model = new ChatBaiduWenxin({\n",
    "  model: \"ERNIE-Speed-8K\", // ERNIE-Lite-8K、ERNIE-Lite-8K-0922、ERNIE-Tiny-8K、ERNIE-Speed-128K、ERNIE-Speed-8K、ERNIE Speed-AppBuilder\n",
    "  temperature: 1,\n",
    "});\n",
    "\n",
    "const outputPrase = new StringOutputParser();\n",
    "const simpleChain = model.pipe(outputPrase);\n",
    "\n",
    "const stream = await simpleChain.invoke([\n",
    "    new HumanMessage(\"你是谁\"),\n",
    "]);\n",
    "\n",
    "console.log(stream);"
   ]
  },
  {
   "cell_type": "code",
   "execution_count": 15,
   "id": "60219f72-f235-4015-9abc-6999293ca3bb",
   "metadata": {},
   "outputs": [
    {
     "name": "stdout",
     "output_type": "stream",
     "text": [
      "{\n",
      "  answer: \u001b[32m\"蒙娜丽莎的作者是列奥纳多·达·芬奇，大约是在15世纪末期绘制的。\"\u001b[39m,\n",
      "  evidence: \u001b[32m\"这一信息来源于艺术史和相关的文化资料，蒙娜丽莎是一幅世界著名的画作，其作者和创作时间都是公众熟知的事实。\"\u001b[39m,\n",
      "  confidence: \u001b[32m\"95%\"\u001b[39m\n",
      "}\n"
     ]
    }
   ],
   "source": [
    "import { StructuredOutputParser } from \"langchain/output_parsers\";\n",
    "import { PromptTemplate } from \"@langchain/core/prompts\";\n",
    "\n",
    "const parser = StructuredOutputParser.fromNamesAndDescriptions({\n",
    "    answer: \"用户问题的答案\",\n",
    "    evidence: \"你回答用户问题所依据的答案\",\n",
    "    confidence: \"问题答案的可信度评分，格式是百分数\",\n",
    "});\n",
    "\n",
    "const prompt = PromptTemplate.fromTemplate(\"尽可能的回答用的问题 {instructions} {question}\")\n",
    "const model = new ChatBaiduWenxin({\n",
    "    model: \"ERNIE-Speed-8K\",\n",
    "    temperature: 1,\n",
    "});\n",
    "\n",
    "const chain = prompt.pipe(model).pipe(parser);\n",
    "\n",
    "const res = await chain.invoke({\n",
    "  question: \"蒙娜丽莎的作者是谁？是什么时候绘制的\",\n",
    "  instructions: parser.getFormatInstructions(),\n",
    "});\n",
    "\n",
    "console.log(res);"
   ]
  },
  {
   "cell_type": "code",
   "execution_count": 16,
   "id": "5d137784-134f-4086-ad21-d6112c410bf5",
   "metadata": {},
   "outputs": [
    {
     "name": "stdout",
     "output_type": "stream",
     "text": [
      "[ \u001b[32m\"百度，阿里巴巴，腾讯。\"\u001b[39m ]\n"
     ]
    }
   ],
   "source": [
    "import { CommaSeparatedListOutputParser } from \"@langchain/core/output_parsers\";\n",
    "\n",
    "const parser = new CommaSeparatedListOutputParser();\n",
    "const model = new ChatBaiduWenxin({\n",
    "    model: \"ERNIE-Speed-8K\",\n",
    "    temperature: 1,\n",
    "});\n",
    "\n",
    "const prompt = PromptTemplate.fromTemplate(\"列出3个 {country} 的著名的互联网公司. {instructions}\")\n",
    "  \n",
    "const chain = prompt.pipe(model).pipe(parser)\n",
    "\n",
    "const res = await chain.invoke({\n",
    "  country: \"中国\",\n",
    "  instructions: parser.getFormatInstructions(),\n",
    "});\n",
    "console.log(res);"
   ]
  },
  {
   "cell_type": "code",
   "execution_count": 17,
   "id": "e48e02b0-96ba-4caa-925a-604ded36458a",
   "metadata": {},
   "outputs": [
    {
     "name": "stdout",
     "output_type": "stream",
     "text": [
      "[ \u001b[32m\"Alibaba\"\u001b[39m, \u001b[32m\"Tencent\"\u001b[39m, \u001b[32m\"Baidu\"\u001b[39m ]\n"
     ]
    }
   ],
   "source": [
    "import { CommaSeparatedListOutputParser } from \"@langchain/core/output_parsers\";\n",
    "import { ChatAlibabaTongyi } from \"@langchain/community/chat_models/alibaba_tongyi\";\n",
    "\n",
    "const parser = new CommaSeparatedListOutputParser();\n",
    "const model = new ChatAlibabaTongyi({\n",
    "  model: \"qwen-turbo\", // Available models: qwen-turbo, qwen-plus, qwen-max\n",
    "  temperature: 1,\n",
    "});\n",
    "\n",
    "const prompt = PromptTemplate.fromTemplate(\"列出3个 {country} 的著名的互联网公司. {instructions}\")\n",
    "  \n",
    "const chain = prompt.pipe(model).pipe(parser)\n",
    "\n",
    "const res = await chain.invoke({\n",
    "  country: \"中国\",\n",
    "  instructions: parser.getFormatInstructions(),\n",
    "});\n",
    "console.log(res);"
   ]
  },
  {
   "cell_type": "code",
   "execution_count": 18,
   "id": "62160477-e7e1-40bd-b19e-b08752c91aaf",
   "metadata": {},
   "outputs": [],
   "source": [
    "import { z } from \"zod\";\n",
    "\n",
    "const schema = z.object({\n",
    "    answer:  z.string().describe(\"用户问题的答案\"),\n",
    "    confidence: z.number().min(0).max(100).describe(\"问题答案的可信度评分，满分 100\")\n",
    "});"
   ]
  },
  {
   "cell_type": "code",
   "execution_count": 21,
   "id": "73e7c51d-35d7-4c1b-8ad5-160bc7c14591",
   "metadata": {},
   "outputs": [
    {
     "name": "stdout",
     "output_type": "stream",
     "text": [
      "{ answer: \u001b[32m\"蒙娜丽莎的作者是列奥纳多·达·芬奇，大约是在15世纪末期绘制的。\"\u001b[39m, confidence: \u001b[33m100\u001b[39m }\n"
     ]
    }
   ],
   "source": [
    "import { PromptTemplate } from \"@langchain/core/prompts\";\n",
    "import { StructuredOutputParser } from \"langchain/output_parsers\";\n",
    "\n",
    "const parser = StructuredOutputParser.fromZodSchema(schema);\n",
    "const prompt = PromptTemplate.fromTemplate(\"尽可能的回答用的问题 {instructions} {question}\")\n",
    "\n",
    "const model = new ChatBaiduWenxin({\n",
    "    model: \"ERNIE-Speed-8K\",\n",
    "    temperature: 1,\n",
    "});\n",
    "\n",
    "const chain = prompt.pipe(model).pipe(parser)\n",
    "const res = await chain.invoke({\n",
    "    question: \"蒙娜丽莎的作者是谁？是什么时候绘制的\",\n",
    "    instructions: parser.getFormatInstructions()\n",
    "})\n",
    "                               \n",
    "console.log(res)"
   ]
  },
  {
   "cell_type": "code",
   "execution_count": 22,
   "id": "88012f3b-ce23-4a92-abb8-1b36ec097469",
   "metadata": {},
   "outputs": [],
   "source": [
    "import { OutputFixingParser } from \"langchain/output_parsers\";\n",
    "\n",
    "const fixParser = OutputFixingParser.fromLLM(model, parser);"
   ]
  },
  {
   "cell_type": "code",
   "execution_count": 23,
   "id": "5fd98c7b-a815-48be-8507-2a50e7f03629",
   "metadata": {},
   "outputs": [
    {
     "name": "stdout",
     "output_type": "stream",
     "text": [
      "{ answer: \u001b[32m\"蒙娜丽莎的作者是达芬奇，大约在15世纪末期至16世纪初期开始绘制。\"\u001b[39m, confidence: \u001b[33m90\u001b[39m }\n"
     ]
    }
   ],
   "source": [
    "const wrongOutput = {\n",
    "    \"answer\": \"蒙娜丽莎的作者是达芬奇，大约在16世纪初期（1503年至1506年之间）开始绘制。\",\n",
    "    \"sources\": \"90%\",\n",
    "};\n",
    "\n",
    "const fixParser = OutputFixingParser.fromLLM(model, parser);\n",
    "const output = await fixParser.parse(JSON.stringify(wrongOutput));\n",
    "\n",
    "console.log(output);"
   ]
  },
  {
   "cell_type": "code",
   "execution_count": 24,
   "id": "97f973fd-1b36-4985-ba2d-51eb892bb23f",
   "metadata": {},
   "outputs": [
    {
     "name": "stdout",
     "output_type": "stream",
     "text": [
      "{ answer: \u001b[32m\"蒙娜丽莎的作者是达芬奇，大约在15世纪末期至16世纪初期开始绘制。\"\u001b[39m, confidence: \u001b[33m95\u001b[39m }\n"
     ]
    }
   ],
   "source": [
    "const wrongOutput = {\n",
    "    \"answer\": \"蒙娜丽莎的作者是达芬奇，大约在16世纪初期（1503年至1506年之间）开始绘制。\",\n",
    "    \"sources\": \"-1\" \n",
    "};\n",
    "\n",
    "const fixParser = OutputFixingParser.fromLLM(model, parser);\n",
    "const output = await fixParser.parse(JSON.stringify(wrongOutput));\n",
    "\n",
    "console.log(output);"
   ]
  },
  {
   "cell_type": "code",
   "execution_count": 25,
   "id": "73aa2d15-c341-4767-a798-2d07761ef0a5",
   "metadata": {},
   "outputs": [
    {
     "name": "stdout",
     "output_type": "stream",
     "text": [
      "[\n",
      "  Document {\n",
      "    pageContent: \u001b[32m\"鲁镇的酒店的格局，是和别处不同的：都是当街一个曲尺形的大柜台，柜里面预备着热水，可以随时温酒。做工的人，傍午傍晚散了工，每每花四文铜钱，买一碗酒，——这是二十多年前的事，现在每碗要涨到十文，——靠柜外\"\u001b[39m... 2150 more characters,\n",
      "    metadata: { source: \u001b[32m\"data/2.txt\"\u001b[39m }\n",
      "  }\n",
      "]\n"
     ]
    }
   ],
   "source": [
    "import { TextLoader } from \"langchain/document_loaders/fs/text\";\n",
    "const loader = new TextLoader(\"data/2.txt\");\n",
    "\n",
    "const docs = await loader.load();\n",
    "console.log(docs);"
   ]
  },
  {
   "cell_type": "code",
   "execution_count": 28,
   "id": "4e76e41d-1c48-47eb-8969-6337bcc2cdce",
   "metadata": {},
   "outputs": [
    {
     "name": "stdout",
     "output_type": "stream",
     "text": [
      "Warning: TT: invalid function id: 11\n",
      "[\n",
      "  Document {\n",
      "    pageContent: \u001b[32m\"什么是前端工程化\\n\"\u001b[39m +\n",
      "      \u001b[32m\"前端工程化: 在企业级的前端项目开发中，把前端开发所需要的工具，技术，流程，经验等进行规范化，标准化。\\n\"\u001b[39m +\n",
      "      \u001b[32m\"前端工程化的解决方案\\n\"\u001b[39m +\n",
      "      \u001b[32m\"早期的前端工程化解决方案：grunt ,gulp\\n\"\u001b[39m +\n",
      "      \u001b[32m\"目前主\"\u001b[39m... 8041 more characters,\n",
      "    metadata: {\n",
      "      source: \u001b[32m\"./data/webpack.pdf\"\u001b[39m,\n",
      "      pdf: {\n",
      "        version: \u001b[32m\"1.10.100\"\u001b[39m,\n",
      "        info: {\n",
      "          PDFFormatVersion: \u001b[32m\"1.3\"\u001b[39m,\n",
      "          IsAcroFormPresent: \u001b[33mfalse\u001b[39m,\n",
      "          IsXFAPresent: \u001b[33mfalse\u001b[39m,\n",
      "          Producer: \u001b[32m\"macOS 版本12.3.1（版号21E258） Quartz PDFContext\"\u001b[39m,\n",
      "          CreationDate: \u001b[32m\"D:20220430083114Z00'00'\"\u001b[39m,\n",
      "          ModDate: \u001b[32m\"D:20220430083114Z00'00'\"\u001b[39m\n",
      "        },\n",
      "        metadata: \u001b[1mnull\u001b[22m,\n",
      "        totalPages: \u001b[33m1\u001b[39m\n",
      "      },\n",
      "      loc: { pageNumber: \u001b[33m1\u001b[39m }\n",
      "    }\n",
      "  }\n",
      "]\n"
     ]
    }
   ],
   "source": [
    "import * as pdfParse from \"pdf-parse\";\n",
    "import { PDFLoader } from \"langchain/document_loaders/fs/pdf\";\n",
    "\n",
    "const loader = new PDFLoader(\"./data/webpack.pdf\");\n",
    "const pdfs = await loader.load()\n",
    "console.log(pdfs);"
   ]
  },
  {
   "cell_type": "code",
   "execution_count": 29,
   "id": "9ead7b58-673f-43fe-9b24-3a59ef870ec8",
   "metadata": {},
   "outputs": [
    {
     "name": "stderr",
     "output_type": "stream",
     "text": [
      "Unknown file type: .DS_Store\n"
     ]
    },
    {
     "name": "stdout",
     "output_type": "stream",
     "text": [
      "Warning: TT: invalid function id: 11\n",
      "[\n",
      "  Document {\n",
      "    pageContent: \u001b[32m\"什么是前端工程化\\n\"\u001b[39m +\n",
      "      \u001b[32m\"前端工程化: 在企业级的前端项目开发中，把前端开发所需要的工具，技术，流程，经验等进行规范化，标准化。\\n\"\u001b[39m +\n",
      "      \u001b[32m\"前端工程化的解决方案\\n\"\u001b[39m +\n",
      "      \u001b[32m\"早期的前端工程化解决方案：grunt ,gulp\\n\"\u001b[39m +\n",
      "      \u001b[32m\"目前主\"\u001b[39m... 8041 more characters,\n",
      "    metadata: {\n",
      "      source: \u001b[32m\"/Users/luoqingxiang/Documents/Deno/data/webpack.pdf\"\u001b[39m,\n",
      "      pdf: {\n",
      "        version: \u001b[32m\"1.10.100\"\u001b[39m,\n",
      "        info: {\n",
      "          PDFFormatVersion: \u001b[32m\"1.3\"\u001b[39m,\n",
      "          IsAcroFormPresent: \u001b[33mfalse\u001b[39m,\n",
      "          IsXFAPresent: \u001b[33mfalse\u001b[39m,\n",
      "          Producer: \u001b[32m\"macOS 版本12.3.1（版号21E258） Quartz PDFContext\"\u001b[39m,\n",
      "          CreationDate: \u001b[32m\"D:20220430083114Z00'00'\"\u001b[39m,\n",
      "          ModDate: \u001b[32m\"D:20220430083114Z00'00'\"\u001b[39m\n",
      "        },\n",
      "        metadata: \u001b[1mnull\u001b[22m,\n",
      "        totalPages: \u001b[33m1\u001b[39m\n",
      "      }\n",
      "    }\n",
      "  },\n",
      "  Document {\n",
      "    pageContent: \u001b[32m\"鲁镇的酒店的格局，是和别处不同的：都是当街一个曲尺形的大柜台，柜里面预备着热水，可以随时温酒。做工的人，傍午傍晚散了工，每每花四文铜钱，买一碗酒，——这是二十多年前的事，现在每碗要涨到十文，——靠柜外\"\u001b[39m... 2150 more characters,\n",
      "    metadata: { source: \u001b[32m\"/Users/luoqingxiang/Documents/Deno/data/2.txt\"\u001b[39m }\n",
      "  },\n",
      "  Document {\n",
      "    pageContent: \u001b[32m\"三体前传：球状闪电 作者：刘慈欣\\n\"\u001b[39m +\n",
      "      \u001b[32m\"\\n\"\u001b[39m +\n",
      "      \u001b[32m\"内容简介：\\n\"\u001b[39m +\n",
      "      \u001b[32m\"　　没有《球状闪电》，就没有后来的《三体》！\\n\"\u001b[39m +\n",
      "      \u001b[32m\"　　《三体》前传！\\n\"\u001b[39m +\n",
      "      \u001b[32m\"　　亚洲首位雨果奖得主刘慈欣的三大长篇之一！（《三体》《球状闪电》《超新星纪元》）\\n\"\u001b[39m +\n",
      "      \u001b[32m\"　\"\u001b[39m... 189395 more characters,\n",
      "    metadata: { source: \u001b[32m\"/Users/luoqingxiang/Documents/Deno/data/qiu.txt\"\u001b[39m }\n",
      "  },\n",
      "  Document {\n",
      "    pageContent: \u001b[32m\"《骆驼祥子》\\r\\n\"\u001b[39m +\n",
      "      \u001b[32m\"TXT小说天堂  http://www.xiaoshuotxt.com，最有文艺气息的文学网站，提供经典的文学名著、武侠小说、言情小说、人文社科类书籍在线阅读，所有TXT电子书手机免费\"\u001b[39m... 142316 more characters,\n",
      "    metadata: { source: \u001b[32m\"/Users/luoqingxiang/Documents/Deno/data/xiangzi.txt\"\u001b[39m }\n",
      "  },\n",
      "  Document {\n",
      "    pageContent: \u001b[32m\"温馨提示：\\n\"\u001b[39m +\n",
      "      \u001b[32m\"1、将《组织机构认证授权书》（在模板第二页）打印；\\n\"\u001b[39m +\n",
      "      \u001b[32m\"2、填写单位名称与日期并加盖组织机构公章；\\n\"\u001b[39m +\n",
      "      \u001b[32m\"*注：授权书中加盖的公章需和单位名称保持一致，且必须为公章不能是财务章或\\n\"\u001b[39m +\n",
      "      \u001b[32m\"人事章等。\\n\"\u001b[39m +\n",
      "      \u001b[32m\"3、扫\"\u001b[39m... 566 more characters,\n",
      "    metadata: {\n",
      "      source: \u001b[32m\"/Users/luoqingxiang/Documents/Deno/data/1.pdf\"\u001b[39m,\n",
      "      pdf: {\n",
      "        version: \u001b[32m\"1.10.100\"\u001b[39m,\n",
      "        info: {\n",
      "          PDFFormatVersion: \u001b[32m\"1.4\"\u001b[39m,\n",
      "          IsAcroFormPresent: \u001b[33mfalse\u001b[39m,\n",
      "          IsXFAPresent: \u001b[33mfalse\u001b[39m,\n",
      "          Producer: \u001b[32m\"qys-sign® 1.0.0 ©2013-2020\"\u001b[39m,\n",
      "          CreationDate: \u001b[32m\"D:20230704151941+08'00'\"\u001b[39m,\n",
      "          ModDate: \u001b[32m\"D:20230704151941+08'00'\"\u001b[39m\n",
      "        },\n",
      "        metadata: \u001b[1mnull\u001b[22m,\n",
      "        totalPages: \u001b[33m2\u001b[39m\n",
      "      }\n",
      "    }\n",
      "  }\n",
      "]\n"
     ]
    }
   ],
   "source": [
    "import { DirectoryLoader } from \"langchain/document_loaders/fs/directory\";\n",
    "\n",
    "const loader = new DirectoryLoader(\n",
    "  \"./data\",\n",
    "  {\n",
    "    \".pdf\": (path) => new PDFLoader(path, { splitPages: false }),\n",
    "    \".txt\": (path) => new TextLoader(path),\n",
    "  }\n",
    ");\n",
    "const docs = await loader.load();\n",
    "console.log(docs);"
   ]
  },
  {
   "cell_type": "code",
   "execution_count": 5,
   "id": "dafff861-2680-4fd0-9853-e320fad596c8",
   "metadata": {},
   "outputs": [
    {
     "name": "stdout",
     "output_type": "stream",
     "text": [
      "!function(){try{var d=document.documentElement,c=d.classList;c.remove('light','dark');var e=localStorage.getItem('theme');if('system'===e||(!e&&true)){var t='(prefers-color-scheme: dark)',m=window.matchMedia(t);if(m.media!==t||m.matches){d.style.colorScheme = 'dark';c.add('dark')}else{d.style.colorScheme = 'light';c.add('light')}}else if(e){c.add(e|| '')}if(e==='light'||e==='dark')d.style.colorScheme=e}catch(e){}}()游戏人生的博客博客笔记个人项目关于主页博客笔记个人项目关于{\"@context\":\"https://schema.org\",\"@type\":\"BlogPosting\",\"headline\":\"Jupyter Notebook 基础\",\"datePublished\":\"2024-05-19T00:00:00.000Z\",\"dateModified\":\"2024-05-19T00:00:00.000Z\",\"description\":\"基于 Deno 与 Jupyter Notebook 链接开源模型\",\"image\":\"/static/images/twitter-card.png\",\"url\":\"https://blog-site-template.vercel.app/blog/ai-model/大模型基础\",\"author\":[{\"@type\":\"Person\",\"name\":\"游戏人生\"}]}Published on2024年5月19日星期日Jupyter Notebook 基础AuthorsName游戏人生Twitter环境安装及配置安装 python安装 pip安装 Jupyter Notebook安装 Deno配置环境变量（MacOS）配置 Jupyter Notebook获取模型获取线上模型获取本地模型链接模型配置 deno 依赖链接线上模型链接本地模型 环境安装及配置安装 python  brew install python3\n",
      "安装 pip  sudo easy_install pip\n",
      "安装 Jupyter Notebook  pip install notebook\n",
      "安装 Deno  curl -fsSL https://deno.land/install.sh | sh\n",
      "配置环境变量（MacOS）Deno 安装完成后，在 ~/.bash_profile 中添加以下内容：xxxxxx 为当前用户的目录  export DENO_INSTALL=\"/Users/xxxxxx/.deno\"\n",
      "  export PATH=\"$DENO_INSTALL/bin:$PATH\"\n",
      "如果终端使用 zsh，则修改 ~/.zshrc 文件，加入如下内容：  source ~/.bash_profile\n",
      "配置完成后，重启终端，执行 deno --version 命令，如果出现版本信息，则表示安装成功。配置 Jupyter Notebook使用 Deno 为 Jupyter Notebook 配置 kernel：  deno jupyter --unstable --install\n",
      "验证是否配置成功：  deno jupyter --unstable\n",
      "出现 Deno kernel already installed 即表示配置成功。安装完成后，启动 notebook：  jupyter notebook\n",
      "启动成功后，在浏览器中访问 http://localhost:8888/tree 就可以看到 Jupyter Notebook 的界面。获取模型获取线上模型以阿里云灵积大模型为例，线上申请 模型。模型申请成功后，即可本地访问线上模型，做测试。获取本地模型因为线上模型一般都需要收费，为节约成本，也可以使用本地模型进行测试，但是本地模型对设备资源要求较高，可视情况安装对应的模型。本地模型平台 mac 系统推荐 Ollama，win 系统推荐 LM Studio，进入对应的官网下载即可， 安装成功后启动 app，即可在 http://localhost:11434 启动一个 llm 的服务。以 Ollama 为例，在 gitHub 中可以查找其支持的模型。 Ollama 服务启动后，在控制台中执行如下命令下载对应的模型到本地：  ollama run modelName\n",
      "链接模型在 notebook 界面中，创建项目文件夹，用于存放测试代码，测试代码是基于 Deno 和 js 实现。配置 deno 依赖Deno 是直接远程拉取依赖，且自带缓存机制，不需要本地安装，只需要配置依赖项即可。 模型的链接依赖于 langchain.js。在 Deno 使用 dotenv 来加载环境变量。在项目根目录下，新建 deno.json，加入以下内容：  {\n",
      "    \"imports\": {\n",
      "      \"langchain\": \"npm:/langchain@0.1.37\",\n",
      "      \"langchain/\": \"npm:/langchain@0.1.37/\",\n",
      "      \"@langchain/core\": \"npm:/@langchain/core@0.1.48\",\n",
      "      \"@langchain/core/\": \"npm:/@langchain/core@0.1.48/\",\n",
      "      \"@langchain/community\": \"npm:/@langchain/community\",\n",
      "      \"@langchain/community/\": \"npm:/@langchain/community/\",\n",
      "      \"dotenv\": \"https://deno.land/std@0.220.0/dotenv/mod.ts\"\n",
      "    },\n",
      "    \"deno.enable\": true\n",
      "  }\n",
      "链接线上模型在项目目录下新建 demo.ipynb 文件，在 notebook 中打开此文件，右侧内核选择 Deno。目录下新建 .env 文件，加入模型的 API（在对应的控制台获取）：  ALIBABA_API_KEY=xxx\n",
      "在 ipynb 文件中，首先加载环境变量，由于 langchain.js 是为 node 设计，因此会默认从 process.env 中进行读取。执行以下命令， 将环境变量加载到 process.env 中：  import { load } from \"dotenv\";\n",
      "  const env = await load();\n",
      "\n",
      "  const process = {\n",
      "    env,\n",
      "  };\n",
      "链接模型，并进行问询，参考自langchain.js：  import { ChatAlibabaTongyi } from \"@langchain/community/chat_models/alibaba_tongyi\";\n",
      "  import { HumanMessage } from \"@langchain/core/messages\";\n",
      "\n",
      "  const model = new ChatAlibabaTongyi({\n",
      "    model: \"qwen-turbo\", // Available models: qwen-turbo, qwen-plus, qwen-max\n",
      "    temperature: 1,\n",
      "  });\n",
      "\n",
      "  const stream = await model.invoke([\n",
      "    new HumanMessage(\"讲个笑话\"),\n",
      "  ]);\n",
      "\n",
      "  console.log(stream);\n",
      "返回内容格式如下：  AIMessage {\n",
      "    lc_serializable: true,\n",
      "    lc_kwargs: {\n",
      "      content: \"为什么袜子总是只丢一只？因为丢两只根本就不会发现。\",\n",
      "      tool_calls: [],\n",
      "      invalid_tool_calls: [],\n",
      "      additional_kwargs: {},\n",
      "      response_metadata: {}\n",
      "    },\n",
      "    lc_namespace: [ \"langchain_core\", \"messages\" ],\n",
      "    content: \"为什么袜子总是只丢一只？因为丢两只根本就不会发现。\",\n",
      "    name: undefined,\n",
      "    additional_kwargs: {},\n",
      "    response_metadata: {\n",
      "      tokenUsage: { promptTokens: 11, completionTokens: 15, totalTokens: 26 }\n",
      "    },\n",
      "    tool_calls: [],\n",
      "    invalid_tool_calls: []\n",
      "  }\n",
      "使用 StringOutputParser 对输出的内容进行处理，处理后只输出普通文本：  import { ChatAlibabaTongyi } from \"@langchain/community/chat_models/alibaba_tongyi\";\n",
      "  import { HumanMessage } from \"@langchain/core/messages\";\n",
      "  import { StringOutputParser } from \"@langchain/core/output_parsers\";\n",
      "\n",
      "  const model = new ChatAlibabaTongyi({\n",
      "    model: \"qwen-turbo\", // Available models: qwen-turbo, qwen-plus, qwen-max\n",
      "    temperature: 1,\n",
      "    maxRetries: 0, // 出错重试次数\n",
      "  });\n",
      "\n",
      "  const outputPrase = new StringOutputParser();\n",
      "  const simpleChain = model.pipe(outputPrase);\n",
      "\n",
      "  const stream = await simpleChain.invoke([\n",
      "    new HumanMessage(\"你是谁\"),\n",
      "    new HumanMessage(\"讲个笑话\"),\n",
      "  ]);\n",
      "\n",
      "  console.log(stream);\n",
      "使用 withFallbacks 增加 fallBack 保证在环境差的情况下也有输出：  import { ChatAlibabaTongyi } from \"@langchain/community/chat_models/alibaba_tongyi\";\n",
      "  import { HumanMessage } from \"@langchain/core/messages\";\n",
      "  import { StringOutputParser } from \"@langchain/core/output_parsers\";\n",
      "\n",
      "  const model = new ChatAlibabaTongyi({\n",
      "    model: \"qwen-turbo\", // Available models: qwen-turbo, qwen-plus, qwen-max\n",
      "    temperature: 1,\n",
      "    maxRetries: 0, // 出错重试次数\n",
      "  });\n",
      "\n",
      "  const model2 = new ChatAlibabaTongyi({\n",
      "    model: \"qwen-plus\", // Available models: qwen-turbo, qwen-plus, qwen-max\n",
      "    temperature: 1,\n",
      "    maxRetries: 0, // 出错重试次数\n",
      "  });\n",
      "\n",
      "  const fallbackModl = model.withFallbacks({\n",
      "    fallbacks: [model2]\n",
      "  })\n",
      "\n",
      "  const outputPrase = new StringOutputParser();\n",
      "  const simpleChain = fallbackModl.pipe(outputPrase);\n",
      "\n",
      "\n",
      "  const stream = await simpleChain.invoke([\n",
      "    new HumanMessage(\"你是谁\"),\n",
      "    new HumanMessage(\"讲个笑话\"),\n",
      "  ]);\n",
      "\n",
      "  console.log(stream);\n",
      "链接本地模型链接本地模型需要使用 ollama，本地启动 Ollama 服务，baseUrl 指向 http://localhost:11434:参考自langchain.js  import { Ollama } from \"@langchain/community/llms/ollama\";\n",
      "  import { HumanMessage } from \"@langchain/core/messages\";\n",
      "  import { StringOutputParser } from \"@langchain/core/output_parsers\";\n",
      "\n",
      "  const ollama = new Ollama({\n",
      "    baseUrl: \"http://localhost:11434\", \n",
      "    model: \"qwen:7b\", \n",
      "  });\n",
      "\n",
      "  const outputPrase = new StringOutputParser();\n",
      "\n",
      "  const simpleChain = ollama.pipe(outputPrase);\n",
      "  const stream = await simpleChain.invoke([\n",
      "      new HumanMessage(\"讲个笑话\"),\n",
      "  ]);\n",
      "\n",
      "  console.log(stream);\n",
      "TagsAI大模型javaScript上一篇前端长度单位← 返回博客列表mailMailgithubGithub游戏人生 • © 2024 • 游戏人生的博客(self.__next_f=self.__next_f||[]).push([0]);self.__next_f.push([2,null])self.__next_f.push([1,\"1:HL[\\\"/_next/static/media/2d141e1a38819612-s.p.woff2\\\",\\\"font\\\",{\\\"crossOrigin\\\":\\\"\\\",\\\"type\\\":\\\"font/woff2\\\"}]\\n2:HL[\\\"/_next/static/css/834ba801ce495fee.css\\\",\\\"style\\\"]\\n3:HL[\\\"/_next/static/css/bae8a6d90265f0a7.css\\\",\\\"style\\\"]\\n4:HL[\\\"/_next/static/css/da4ba0056572ffb7.css\\\",\\\"style\\\"]\\n\"])self.__next_f.push([1,\"5:I[5751,[],\\\"\\\"]\\n8:I[9275,[],\\\"\\\"]\\na:I[1343,[],\\\"\\\"]\\nb:I[8700,[\\\"424\\\",\\\"static/chunks/424-fe6efeb43c30691a.js\\\",\\\"379\\\",\\\"static/chunks/379-27764ce8e5dccbef.js\\\",\\\"185\\\",\\\"static/chunks/app/layout-d1bb6bf145efd930.js\\\"],\\\"ThemeProviders\\\"]\\nc:I[4080,[\\\"424\\\",\\\"static/chunks/424-fe6efeb43c30691a.js\\\",\\\"379\\\",\\\"static/chunks/379-27764ce8e5dccbef.js\\\",\\\"185\\\",\\\"static/chunks/app/layout-d1bb6bf145efd930.js\\\"],\\\"\\\"]\\nd:I[9032,[\\\"424\\\",\\\"static/chunks/424-fe6efeb43c30691a.js\\\",\\\"379\\\",\\\"static/chunks/379-27764ce8e5dccbef.js\\\",\\\"185\\\",\\\"static/chunks/app/layout-d1bb6bf145efd930.js\\\"],\\\"KBarSearchProvider\\\"]\\ne:I[231,[\\\"231\\\",\\\"static/chunks/9316e0b3-07362efebf6dc6cd.js\\\",\\\"577\\\",\\\"static/chunks/221e729c-b7d3f9b5c77ca483.js\\\",\\\"424\\\",\\\"static/chunks/424-fe6efeb43c30691a.js\\\",\\\"173\\\",\\\"static/chunks/173-070ac0a93432b221.js\\\",\\\"697\\\",\\\"static/chunks/697-e7687e8052141705.js\\\",\\\"797\\\",\\\"static/chunks/app/blog/%5B...slug%5D/page-eab0f31e3e966543.js\\\"],\\\"\\\"]\\n10:I[509,[\\\"424\\\",\\\"static/chunks/424-fe6efeb43c30691a.js\\\",\\\"379\\\",\\\"static/chunks/379-27764ce8e5dccbef.js\\\",\\\"185\\\",\\\"static/chunks/app/layout-d1bb6bf145efd930.js\\\"],\\\"KBarButton\\\"]\\n11:I[1398,[\\\"424\\\",\\\"static/chunks/424-fe6efeb43c30691a.js\\\",\\\"379\\\",\\\"static/chunks/379-27764ce8e5dccbef.js\\\",\\\"185\\\",\\\"static/chunks/app/layout-d1bb6bf145efd930.js\\\"],\\\"default\\\"]\\n12:I[8976,[\\\"424\\\",\\\"static/chunks/424-fe6efeb43c30691a.js\\\",\\\"379\\\",\\\"static/chunks/379-27764ce8e5dccbef.js\\\",\\\"185\\\",\\\"static/chunks/app/layout-d1bb6bf145efd930.js\\\"],\\\"default\\\"]\\n14:I[6130,[],\\\"\\\"]\\n9:[\\\"slug\\\",\\\"ai-model/%E5%A4%A7%E6%A8%A1%E5%9E%8B%E5%9F%BA%E7%A1%80\\\",\\\"c\\\"]\\nf:T50e,data:image/png;base64,iVBORw0KGgoAAAANSUhEUgAAACAAAAAgCAMAAABEpIrGAAAAIGNIUk0AAHomAACAhAAA+gAAAIDo AAB1MAAA6mAAADqYAAAXcJy6UTwAAAD5UExURQAAAPF9MPF9MPF9MPF9MPF9MPF9MPF9MPF9MPF9 MPF9MPF9MPF9MPF9MPF9MPF9MPF9MPF9MPF9MPF9MPF9MPF9MPF9MPF9MPF9MPF9MPF9MPF9MPF9 MPF9MPF9MPF9MPF9MPF9MPF9MPF9MPF9MPF9MPF9MPF9MPF9MPF9MPF9MPF9MPF9MPF9MPF9MPF9 MPF9MPF9MPF9MPF9MPF9MPF9MPF9MPF9MPF9MPF9MPF9MPF9MPF9MPF9MPF9MPF9MPF9MPF9MPF9 MPF9MPF9MPF9MPF9MPF9MPF9MPF9MPF9MPF9MPF9MPF9MPF9MPF9MPF9MPF9MP///8sioosAAABR dFJOUwAELmR+hoxwTBoYivK8Vlr2thzwLDbgFqKk2MLe+uSEDkR21CDorojMnFD4HpQK5p6y9BAq e\"])self.__next_f.push([1,\"GjuzkpO0JYMqhQSxoK6gAZ8IvzWqMgIetzEpkoBhkAAAAABYktHRFINYC2QAAAAB3RJTUUH6AUP ByoyBLMnRAAAAS9JREFUOMvFktlWwjAQhgdRy6K07CoUq1VwKVGL4lYo7ihuef+XMWlqtubSc5yb yT//17QzHYA/jdxSfnll1SoUzXapvIbTWK8YfNvBUlRrum9hNeoN1W9iPVptBdjIAHhTAbbSqtOp dtOjqzTTY/a2R847LUbsZm7w95go7mfe0aCFvvcrBwlwIAGHRB/pPUtA+5joQOghm6f2BOISnSTA qQDOiAxJHg3PqbxgXdhqky7JFeyMAWqXDCiJ35xoMtoxSRa6Yn5fXOAlhWuAG5pv00k2BYCSQgQw kX75VJ5jnVbCGGDK/d5MBu5Y7b7c5YD/0Hl84sAzNoYYxMvcCMzFFZERcAUwejUBb9JnBj7f58Ig ZKdFLDfy/kF35jOiyxzno6/Ft53TN38SIPiP+AEdun27+U+fBQAAACV0RVh0ZGF0ZTpjcmVhdGUA MjAyNC0wNS0xNVQwNzo0Mjo0OSswMDowMEvFgNMAAAAldEVYdGRhdGU6bW9kaWZ5ADIwMjQtMDUt MTVUMDc6NDI6NDkrMDA6MDA6mDhvAAAAKHRFWHRkYXRlOnRpbWVzdGFtcAAyMDI0LTA1LTE1VDA3 OjQyOjUwKzAwOjAwNL9c/QAAAABJRU5ErkJggg==15:[]\\n\"])self.__next_f.push([1,\"0:[[[\\\"$\\\",\\\"link\\\",\\\"0\\\",{\\\"rel\\\":\\\"stylesheet\\\",\\\"href\\\":\\\"/_next/static/css/834ba801ce495fee.css\\\",\\\"precedence\\\":\\\"next\\\",\\\"crossOrigin\\\":\\\"$undefined\\\"}]],[\\\"$\\\",\\\"$L5\\\",null,{\\\"buildId\\\":\\\"99EP9arOnCOFCZloCtfLK\\\",\\\"assetPrefix\\\":\\\"\\\",\\\"initialCanonicalUrl\\\":\\\"/blog/ai-model/%E5%A4%A7%E6%A8%A1%E5%9E%8B%E5%9F%BA%E7%A1%80\\\",\\\"initialTree\\\":[\\\"\\\",{\\\"children\\\":[\\\"blog\\\",{\\\"children\\\":[[\\\"slug\\\",\\\"ai-model/%E5%A4%A7%E6%A8%A1%E5%9E%8B%E5%9F%BA%E7%A1%80\\\",\\\"c\\\"],{\\\"children\\\":[\\\"__PAGE__?{\\\\\\\"slug\\\\\\\":[\\\\\\\"ai-model\\\\\\\",\\\\\\\"大模型基础\\\\\\\"]}\\\",{}]}]}]},\\\"$undefined\\\",\\\"$undefined\\\",true],\\\"initialSeedData\\\":[\\\"\\\",{\\\"children\\\":[\\\"blog\\\",{\\\"children\\\":[[\\\"slug\\\",\\\"ai-model/%E5%A4%A7%E6%A8%A1%E5%9E%8B%E5%9F%BA%E7%A1%80\\\",\\\"c\\\"],{\\\"children\\\":[\\\"__PAGE__\\\",{},[[\\\"$L6\\\",\\\"$L7\\\"],null],null]},[\\\"$\\\",\\\"$L8\\\",null,{\\\"parallelRouterKey\\\":\\\"children\\\",\\\"segmentPath\\\":[\\\"children\\\",\\\"blog\\\",\\\"children\\\",\\\"$9\\\",\\\"children\\\"],\\\"error\\\":\\\"$undefined\\\",\\\"errorStyles\\\":\\\"$undefined\\\",\\\"errorScripts\\\":\\\"$undefined\\\",\\\"template\\\":[\\\"$\\\",\\\"$La\\\",null,{}],\\\"templateStyles\\\":\\\"$undefined\\\",\\\"templateScripts\\\":\\\"$undefined\\\",\\\"notFound\\\":\\\"$undefined\\\",\\\"notFoundStyles\\\":\\\"$undefined\\\",\\\"styles\\\":[[\\\"$\\\",\\\"link\\\",\\\"0\\\",{\\\"rel\\\":\\\"stylesheet\\\",\\\"href\\\":\\\"/_next/static/css/bae8a6d90265f0a7.css\\\",\\\"precedence\\\":\\\"next\\\",\\\"crossOrigin\\\":\\\"$undefined\\\"}],[\\\"$\\\",\\\"link\\\",\\\"1\\\",{\\\"rel\\\":\\\"stylesheet\\\",\\\"href\\\":\\\"/_next/static/css/da4ba0056572ffb7.css\\\",\\\"precedence\\\":\\\"next\\\",\\\"crossOrigin\\\":\\\"$undefined\\\"}]]}],null]},[\\\"$\\\",\\\"$L8\\\",null,{\\\"parallelRouterKey\\\":\\\"children\\\",\\\"segmentPath\\\":[\\\"children\\\",\\\"blog\\\",\\\"children\\\"],\\\"error\\\":\\\"$undefined\\\",\\\"errorStyles\\\":\\\"$undefined\\\",\\\"errorScripts\\\":\\\"$undefined\\\",\\\"template\\\":[\\\"$\\\",\\\"$La\\\",null,{}],\\\"templateStyles\\\":\\\"$undefined\\\",\\\"templateScripts\\\":\\\"$undefined\\\",\\\"notFound\\\":\\\"$undefined\\\",\\\"notFoundStyles\\\":\\\"$undefined\\\",\\\"styles\\\":null}],null]},[[\\\"$\\\",\\\"html\\\",null,{\\\"lang\\\":\\\"zh-cn\\\",\\\"className\\\":\\\"__variable_587f35 scroll-smooth\\\",\\\"suppressHydrationWarning\\\":true,\\\"children\\\":[[\\\"$\\\",\\\"link\\\",null,{\\\"rel\\\":\\\"apple-touch-icon\\\",\\\"sizes\\\":\\\"76x76\\\",\\\"href\\\":\\\"/static/favicons/apple-touch-icon.png\\\"}],[\\\"$\\\",\\\"link\\\",null,{\\\"rel\\\":\\\"icon\\\",\\\"type\\\":\\\"image/png\\\",\\\"sizes\\\":\\\"32x32\\\",\\\"href\\\":\\\"/static/favicons/favicon-32x32.png\\\"}],[\\\"$\\\",\\\"link\\\",null,{\\\"rel\\\":\\\"icon\\\",\\\"type\\\":\\\"image/png\\\",\\\"sizes\\\":\\\"16x16\\\",\\\"href\\\":\\\"/static/favicons/favicon-16x16.png\\\"}],[\\\"$\\\",\\\"link\\\",null,{\\\"rel\\\":\\\"manifest\\\",\\\"href\\\":\\\"/static/favicons/site.webmanifest\\\"}],[\\\"$\\\",\\\"link\\\",null,{\\\"rel\\\":\\\"mask-icon\\\",\\\"href\\\":\\\"/static/favicons/safari-pinned-tab.svg\\\",\\\"color\\\":\\\"#5bbad5\\\"}],[\\\"$\\\",\\\"meta\\\",null,{\\\"name\\\":\\\"msapplication-TileColor\\\",\\\"content\\\":\\\"#000000\\\"}],[\\\"$\\\",\\\"meta\\\",null,{\\\"name\\\":\\\"theme-color\\\",\\\"media\\\":\\\"(prefers-color-scheme: light)\\\",\\\"content\\\":\\\"#fff\\\"}],[\\\"$\\\",\\\"meta\\\",null,{\\\"name\\\":\\\"theme-color\\\",\\\"media\\\":\\\"(prefers-color-scheme: dark)\\\",\\\"content\\\":\\\"#000\\\"}],[\\\"$\\\",\\\"link\\\",null,{\\\"rel\\\":\\\"alternate\\\",\\\"type\\\":\\\"application/rss+xml\\\",\\\"href\\\":\\\"/feed.xml\\\"}],[\\\"$\\\",\\\"body\\\",null,{\\\"className\\\":\\\"bg-white pl-[calc(100vw-100%)] text-black antialiased dark:bg-gray-950 dark:text-white\\\",\\\"children\\\":[\\\"$\\\",\\\"$Lb\\\",null,{\\\"children\\\":[[\\\"$undefined\\\",\\\"$undefined\\\",\\\"$undefined\\\",[\\\"$\\\",\\\"$Lc\\\",null,{\\\"async\\\":true,\\\"defer\\\":true,\\\"data-website-id\\\":\\\"$undefined\\\",\\\"src\\\":\\\"https://analytics.umami.is/script.js\\\"}],\\\"$undefined\\\",\\\"$undefined\\\"],[\\\"$\\\",\\\"section\\\",null,{\\\"className\\\":\\\"mx-auto max-w-3xl px-4 sm:px-6 xl:max-w-5xl xl:px-0\\\",\\\"children\\\":[\\\"$\\\",\\\"div\\\",null,{\\\"className\\\":\\\"flex h-screen flex-col justify-between font-sans\\\",\\\"children\\\":[[\\\"$\\\",\\\"$Ld\\\",null,{\\\"kbarConfig\\\":{\\\"searchDocumentsPath\\\":\\\"search.json\\\"},\\\"children\\\":[[\\\"$\\\",\\\"header\\\",null,{\\\"className\\\":\\\"flex items-center justify-between py-10\\\",\\\"children\\\":[[\\\"$\\\",\\\"div\\\",null,{\\\"children\\\":[\\\"$\\\",\\\"$Le\\\",null,{\\\"href\\\":\\\"/\\\",\\\"aria-label\\\":\\\"游戏人生的博客\\\",\\\"children\\\":[\\\"$\\\",\\\"div\\\",null,{\\\"className\\\":\\\"flex items-center justify-between\\\",\\\"children\\\":[[\\\"$\\\",\\\"div\\\",null,{\\\"className\\\":\\\"mr-3\\\",\\\"children\\\":[\\\"$\\\",\\\"svg\\\",null,{\\\"xmlns\\\":\\\"http://www.w3.org/2000/svg\\\",\\\"xmlnsXlink\\\":\\\"http://www.w3.org/1999/xlink\\\",\\\"xmlSpace\\\":\\\"preserve\\\",\\\"width\\\":32,\\\"height\\\":32,\\\"children\\\":[\\\"$\\\",\\\"image\\\",null,{\\\"xlinkHref\\\":\\\"$f\\\",\\\"width\\\":32,\\\"height\\\":32}]}]}],[\\\"$\\\",\\\"div\\\",null,{\\\"className\\\":\\\"hidden h-6 text-2xl font-semibold sm:block\\\",\\\"children\\\":\\\"游戏人生的博客\\\"}]]}]}]}],[\\\"$\\\",\\\"div\\\",null,{\\\"className\\\":\\\"flex items-center space-x-4 leading-5 sm:space-x-6\\\",\\\"children\\\":[[[\\\"$\\\",\\\"$Le\\\",null,{\\\"href\\\":\\\"/blog\\\",\\\"className\\\":\\\"hidden font-medium text-gray-900 dark:text-gray-100 sm:block\\\",\\\"children\\\":\\\"博客笔记\\\"}],[\\\"$\\\",\\\"$Le\\\",null,{\\\"href\\\":\\\"/projects\\\",\\\"className\\\":\\\"hidden font-medium text-gray-900 dark:text-gray-100 sm:block\\\",\\\"children\\\":\\\"个人项目\\\"}],[\\\"$\\\",\\\"$Le\\\",null,{\\\"href\\\":\\\"/about\\\",\\\"className\\\":\\\"hidden font-medium text-gray-900 dark:text-gray-100 sm:block\\\",\\\"children\\\":\\\"关于\\\"}]],[\\\"$\\\",\\\"$L10\\\",null,{\\\"aria-label\\\":\\\"Search\\\",\\\"children\\\":[\\\"$\\\",\\\"svg\\\",null,{\\\"xmlns\\\":\\\"http://www.w3.org/2000/svg\\\",\\\"fill\\\":\\\"none\\\",\\\"viewBox\\\":\\\"0 0 24 24\\\",\\\"strokeWidth\\\":1.5,\\\"stroke\\\":\\\"currentColor\\\",\\\"className\\\":\\\"h-6 w-6 text-gray-900 dark:text-gray-100\\\",\\\"children\\\":[\\\"$\\\",\\\"path\\\",null,{\\\"strokeLinecap\\\":\\\"round\\\",\\\"strokeLinejoin\\\":\\\"round\\\",\\\"d\\\":\\\"M21 21l-5.197-5.197m0 0A7.5 7.5 0 105.196 5.196a7.5 7.5 0 0010.607 10.607z\\\"}]}]}],[\\\"$\\\",\\\"$L11\\\",null,{}],[\\\"$\\\",\\\"$L12\\\",null,{}]]}]]}],[\\\"$\\\",\\\"main\\\",null,{\\\"className\\\":\\\"mb-auto\\\",\\\"children\\\":[\\\"$\\\",\\\"$L8\\\",null,{\\\"parallelRouterKey\\\":\\\"children\\\",\\\"segmentPath\\\":[\\\"children\\\"],\\\"error\\\":\\\"$undefined\\\",\\\"errorStyles\\\":\\\"$undefined\\\",\\\"errorScripts\\\":\\\"$undefined\\\",\\\"template\\\":[\\\"$\\\",\\\"$La\\\",null,{}],\\\"templateStyles\\\":\\\"$undefined\\\",\\\"templateScripts\\\":\\\"$undefined\\\",\\\"notFound\\\":[\\\"$\\\",\\\"div\\\",null,{\\\"className\\\":\\\"flex flex-col items-start justify-start md:mt-24 md:flex-row md:items-center md:justify-center md:space-x-6\\\",\\\"children\\\":[[\\\"$\\\",\\\"div\\\",null,{\\\"className\\\":\\\"space-x-2 pb-8 pt-6 md:space-y-5\\\",\\\"children\\\":[\\\"$\\\",\\\"h1\\\",null,{\\\"className\\\":\\\"text-6xl font-extrabold leading-9 tracking-tight text-gray-900 dark:text-gray-100 md:border-r-2 md:px-6 md:text-8xl md:leading-14\\\",\\\"children\\\":\\\"404\\\"}]}],[\\\"$\\\",\\\"div\\\",null,{\\\"className\\\":\\\"max-w-md\\\",\\\"children\\\":[[\\\"$\\\",\\\"p\\\",null,{\\\"className\\\":\\\"mb-4 text-xl font-bold leading-normal md:text-2xl\\\",\\\"children\\\":\\\"Sorry we couldn't find this page.\\\"}],[\\\"$\\\",\\\"p\\\",null,{\\\"className\\\":\\\"mb-8\\\",\\\"children\\\":\\\"But dont worry, you can find plenty of other things on our homepage.\\\"}],[\\\"$\\\",\\\"$Le\\\",null,{\\\"href\\\":\\\"/\\\",\\\"className\\\":\\\"focus:shadow-outline-blue inline rounded-lg border border-transparent bg-blue-600 px-4 py-2 text-sm font-medium leading-5 text-white shadow transition-colors duration-150 hover:bg-blue-700 focus:outline-none dark:hover:bg-blue-500\\\",\\\"children\\\":\\\"Back to homepage\\\"}]]}]]}],\\\"notFoundStyles\\\":[],\\\"styles\\\":null}]}]]}],[\\\"$\\\",\\\"footer\\\",null,{\\\"children\\\":[\\\"$\\\",\\\"div\\\",null,{\\\"className\\\":\\\"mt-16 flex flex-col items-center\\\",\\\"children\\\":[[\\\"$\\\",\\\"div\\\",null,{\\\"className\\\":\\\"mb-3 flex space-x-4\\\",\\\"children\\\":[[\\\"$\\\",\\\"a\\\",null,{\\\"className\\\":\\\"text-sm text-gray-500 transition hover:text-gray-600\\\",\\\"target\\\":\\\"_blank\\\",\\\"rel\\\":\\\"noopener noreferrer\\\",\\\"href\\\":\\\"mailto:LQX5731@163.com\\\",\\\"children\\\":[[\\\"$\\\",\\\"span\\\",null,{\\\"className\\\":\\\"sr-only\\\",\\\"children\\\":\\\"mail\\\"}],[\\\"$\\\",\\\"svg\\\",null,{\\\"xmlns\\\":\\\"http://www.w3.org/2000/svg\\\",\\\"viewBox\\\":\\\"0 0 20 20\\\",\\\"className\\\":\\\"fill-current text-gray-700 hover:text-primary-500 dark:text-gray-200 dark:hover:text-primary-400 h-6 w-6\\\",\\\"children\\\":[[\\\"$\\\",\\\"title\\\",null,{\\\"children\\\":\\\"Mail\\\"}],[\\\"$\\\",\\\"path\\\",null,{\\\"d\\\":\\\"M2.003 5.884L10 9.882l7.997-3.998A2 2 0 0016 4H4a2 2 0 00-1.997 1.884z\\\"}],[\\\"$\\\",\\\"path\\\",null,{\\\"d\\\":\\\"M18 8.118l-8 4-8-4V14a2 2 0 002 2h12a2 2 0 002-2V8.118z\\\"}]]}]]}],[\\\"$\\\",\\\"a\\\",null,{\\\"className\\\":\\\"text-sm text-gray-500 transition hover:text-gray-600\\\",\\\"target\\\":\\\"_blank\\\",\\\"rel\\\":\\\"noopener noreferrer\\\",\\\"href\\\":\\\"https://github.com/qingxiang1\\\",\\\"children\\\":[[\\\"$\\\",\\\"span\\\",null,{\\\"className\\\":\\\"sr-only\\\",\\\"children\\\":\\\"github\\\"}],[\\\"$\\\",\\\"svg\\\",null,{\\\"xmlns\\\":\\\"http://www.w3.org/2000/svg\\\",\\\"viewBox\\\":\\\"0 0 24 24\\\",\\\"className\\\":\\\"fill-current text-gray-700 hover:text-primary-500 dark:text-gray-200 dark:hover:text-primary-400 h-6 w-6\\\",\\\"children\\\":[[\\\"$\\\",\\\"title\\\",null,{\\\"children\\\":\\\"Github\\\"}],[\\\"$\\\",\\\"path\\\",null,{\\\"d\\\":\\\"M12 .297c-6.63 0-12 5.373-12 12 0 5.303 3.438 9.8 8.205 11.385.6.113.82-.258.82-.577 0-.285-.01-1.04-.015-2.04-3.338.724-4.042-1.61-4.042-1.61C4.422 18.07 3.633 17.7 3.633 17.7c-1.087-.744.084-.729.084-.729 1.205.084 1.838 1.236 1.838 1.236 1.07 1.835 2.809 1.305 3.495.998.108-.776.417-1.305.76-1.605-2.665-.3-5.466-1.332-5.466-5.93 0-1.31.465-2.38 1.235-3.22-.135-.303-.54-1.523.105-3.176 0 0 1.005-.322 3.3 1.23.96-.267 1.98-.399 3-.405 1.02.006 2.04.138 3 .405 2.28-1.552 3.285-1.23 3.285-1.23.645 1.653.24 2.873.12 3.176.765.84 1.23 1.91 1.23 3.22 0 4.61-2.805 5.625-5.475 5.92.42.36.81 1.096.81 2.22 0 1.606-.015 2.896-.015 3.286 0 .315.21.69.825.57C20.565 22.092 24 17.592 24 12.297c0-6.627-5.373-12-12-12\\\"}]]}]]}],null,null,null,null,null,null,null]}],[\\\"$\\\",\\\"div\\\",null,{\\\"className\\\":\\\"mb-2 flex space-x-2 text-sm text-gray-500 dark:text-gray-400\\\",\\\"children\\\":[[\\\"$\\\",\\\"div\\\",null,{\\\"children\\\":\\\"游戏人生\\\"}],[\\\"$\\\",\\\"div\\\",null,{\\\"children\\\":\\\" • \\\"}],[\\\"$\\\",\\\"div\\\",null,{\\\"children\\\":\\\"© 2024\\\"}],[\\\"$\\\",\\\"div\\\",null,{\\\"children\\\":\\\" • \\\"}],[\\\"$\\\",\\\"$Le\\\",null,{\\\"href\\\":\\\"/\\\",\\\"children\\\":\\\"游戏人生的博客\\\"}]]}]]}]}]]}]}]]}]}]]}],null],null],\\\"couldBeIntercepted\\\":false,\\\"initialHead\\\":[false,\\\"$L13\\\"],\\\"globalErrorComponent\\\":\\\"$14\\\",\\\"missingSlots\\\":\\\"$W15\\\"}]]\\n\"])self.__next_f.push([1,\"16:I[4347,[\\\"231\\\",\\\"static/chunks/9316e0b3-07362efebf6dc6cd.js\\\",\\\"577\\\",\\\"static/chunks/221e729c-b7d3f9b5c77ca483.js\\\",\\\"424\\\",\\\"static/chunks/424-fe6efeb43c30691a.js\\\",\\\"173\\\",\\\"static/chunks/173-070ac0a93432b221.js\\\",\\\"697\\\",\\\"static/chunks/697-e7687e8052141705.js\\\",\\\"797\\\",\\\"static/chunks/app/blog/%5B...slug%5D/page-eab0f31e3e966543.js\\\"],\\\"default\\\"]\\n17:I[8173,[\\\"231\\\",\\\"static/chunks/9316e0b3-07362efebf6dc6cd.js\\\",\\\"577\\\",\\\"static/chunks/221e729c-b7d3f9b5c77ca483.js\\\",\\\"424\\\",\\\"static/chunks/424-fe6efeb43c30691a.js\\\",\\\"173\\\",\\\"static/chunks/173-070ac0a93432b221.js\\\",\\\"697\\\",\\\"static/chunks/697-e7687e8052141705.js\\\",\\\"797\\\",\\\"static/chunks/app/blog/%5B...slug%5D/page-eab0f31e3e966543.js\\\"],\\\"Image\\\"]\\n18:I[408,[\\\"231\\\",\\\"static/chunks/9316e0b3-07362efebf6dc6cd.js\\\",\\\"577\\\",\\\"static/chunks/221e729c-b7d3f9b5c77ca483.js\\\",\\\"424\\\",\\\"static/chunks/424-fe6efeb43c30691a.js\\\",\\\"173\\\",\\\"static/chunks/173-070ac0a93432b221.js\\\",\\\"697\\\",\\\"static/chunks/697-e7687e8052141705.js\\\",\\\"797\\\",\\\"static/chunks/app/blog/%5B...slug%5D/page-eab0f31e3e966543.js\\\"],\\\"default\\\"]\\n19:I[1050,[\\\"231\\\",\\\"static/chunks/9316e0b3-07362efebf6dc6cd.js\\\",\\\"577\\\",\\\"static/chunks/221e729c-b7d3f9b5c77ca483.js\\\",\\\"424\\\",\\\"static/chunks/424-fe6efeb43c30691a.js\\\",\\\"173\\\",\\\"static/chunks/173-070ac0a93432b221.js\\\",\\\"697\\\",\\\"static/chunks/697-e7687e8052141705.js\\\",\\\"797\\\",\\\"static/chunks/app/blog/%5B...slug%5D/page-eab0f31e3e966543.js\\\"],\\\"default\\\"]\\n\"])self.__next_f.push([1,\"7:[[\\\"$\\\",\\\"script\\\",null,{\\\"type\\\":\\\"application/ld+json\\\",\\\"dangerouslySetInnerHTML\\\":{\\\"__html\\\":\\\"{\\\\\\\"@context\\\\\\\":\\\\\\\"https://schema.org\\\\\\\",\\\\\\\"@type\\\\\\\":\\\\\\\"BlogPosting\\\\\\\",\\\\\\\"headline\\\\\\\":\\\\\\\"Jupyter Notebook 基础\\\\\\\",\\\\\\\"datePublished\\\\\\\":\\\\\\\"2024-05-19T00:00:00.000Z\\\\\\\",\\\\\\\"dateModified\\\\\\\":\\\\\\\"2024-05-19T00:00:00.000Z\\\\\\\",\\\\\\\"description\\\\\\\":\\\\\\\"基于 Deno 与 Jupyter Notebook 链接开源模型\\\\\\\",\\\\\\\"image\\\\\\\":\\\\\\\"/static/images/twitter-card.png\\\\\\\",\\\\\\\"url\\\\\\\":\\\\\\\"https://blog-site-template.vercel.app/blog/ai-model/大模型基础\\\\\\\",\\\\\\\"author\\\\\\\":[{\\\\\\\"@type\\\\\\\":\\\\\\\"Person\\\\\\\",\\\\\\\"name\\\\\\\":\\\\\\\"游戏人生\\\\\\\"}]}\\\"}}],[\\\"$\\\",\\\"section\\\",null,{\\\"className\\\":\\\"mx-auto max-w-3xl px-4 sm:px-6 xl:max-w-5xl xl:px-0\\\",\\\"children\\\":[[\\\"$\\\",\\\"$L16\\\",null,{}],[\\\"$\\\",\\\"article\\\",null,{\\\"children\\\":[\\\"$\\\",\\\"div\\\",null,{\\\"className\\\":\\\"xl:divide-y xl:divide-gray-200 xl:dark:divide-gray-700\\\",\\\"children\\\":[[\\\"$\\\",\\\"header\\\",null,{\\\"className\\\":\\\"pt-6 xl:pb-6\\\",\\\"children\\\":[\\\"$\\\",\\\"div\\\",null,{\\\"className\\\":\\\"space-y-1 text-center\\\",\\\"children\\\":[[\\\"$\\\",\\\"dl\\\",null,{\\\"className\\\":\\\"space-y-10\\\",\\\"children\\\":[\\\"$\\\",\\\"div\\\",null,{\\\"children\\\":[[\\\"$\\\",\\\"dt\\\",null,{\\\"className\\\":\\\"sr-only\\\",\\\"children\\\":\\\"Published on\\\"}],[\\\"$\\\",\\\"dd\\\",null,{\\\"className\\\":\\\"text-base font-medium leading-6 text-gray-500 dark:text-gray-400\\\",\\\"children\\\":[\\\"$\\\",\\\"time\\\",null,{\\\"dateTime\\\":\\\"2024-05-19T00:00:00.000Z\\\",\\\"children\\\":\\\"2024年5月19日星期日\\\"}]}]]}]}],[\\\"$\\\",\\\"div\\\",null,{\\\"children\\\":[\\\"$\\\",\\\"h1\\\",null,{\\\"className\\\":\\\"text-3xl font-extrabold leading-9 tracking-tight text-gray-900 dark:text-gray-100 sm:text-4xl sm:leading-10 md:text-5xl md:leading-14\\\",\\\"children\\\":\\\"Jupyter Notebook 基础\\\"}]}]]}]}],[\\\"$\\\",\\\"div\\\",null,{\\\"className\\\":\\\"grid-rows-[auto_1fr] divide-y divide-gray-200 pb-8 dark:divide-gray-700 xl:grid xl:grid-cols-4 xl:gap-x-6 xl:divide-y-0\\\",\\\"children\\\":[[\\\"$\\\",\\\"dl\\\",null,{\\\"className\\\":\\\"pb-10 pt-6 xl:border-b xl:border-gray-200 xl:pt-11 xl:dark:border-gray-700\\\",\\\"children\\\":[[\\\"$\\\",\\\"dt\\\",null,{\\\"className\\\":\\\"sr-only\\\",\\\"children\\\":\\\"Authors\\\"}],[\\\"$\\\",\\\"dd\\\",null,{\\\"children\\\":[\\\"$\\\",\\\"ul\\\",null,{\\\"className\\\":\\\"flex flex-wrap justify-center gap-4 sm:space-x-12 xl:block xl:space-x-0 xl:space-y-8\\\",\\\"children\\\":[[\\\"$\\\",\\\"li\\\",\\\"游戏人生\\\",{\\\"className\\\":\\\"flex items-center space-x-2\\\",\\\"children\\\":[[\\\"$\\\",\\\"$L17\\\",null,{\\\"src\\\":\\\"/static/images/avatar.png\\\",\\\"width\\\":38,\\\"height\\\":38,\\\"alt\\\":\\\"avatar\\\",\\\"className\\\":\\\"h-10 w-10 rounded-full\\\"}],[\\\"$\\\",\\\"dl\\\",null,{\\\"className\\\":\\\"whitespace-nowrap text-sm font-medium leading-5\\\",\\\"children\\\":[[\\\"$\\\",\\\"dt\\\",null,{\\\"className\\\":\\\"sr-only\\\",\\\"children\\\":\\\"Name\\\"}],[\\\"$\\\",\\\"dd\\\",null,{\\\"className\\\":\\\"text-gray-900 dark:text-gray-100\\\",\\\"children\\\":\\\"游戏人生\\\"}],[\\\"$\\\",\\\"dt\\\",null,{\\\"className\\\":\\\"sr-only\\\",\\\"children\\\":\\\"Twitter\\\"}],[\\\"$\\\",\\\"dd\\\",null,{\\\"children\\\":\\\"$undefined\\\"}]]}]]}]]}]}]]}],[\\\"$\\\",\\\"div\\\",null,{\\\"className\\\":\\\"divide-y divide-gray-200 dark:divide-gray-700 xl:col-span-3 xl:row-span-2 xl:pb-0\\\",\\\"children\\\":[[\\\"$\\\",\\\"div\\\",null,{\\\"className\\\":\\\"prose max-w-none pb-8 pt-10 dark:prose-invert\\\",\\\"children\\\":[[\\\"$\\\",\\\"nav\\\",null,{\\\"className\\\":\\\"toc\\\",\\\"children\\\":[\\\"$\\\",\\\"ol\\\",null,{\\\"className\\\":\\\"toc-level toc-level-1\\\",\\\"children\\\":[[\\\"$\\\",\\\"li\\\",null,{\\\"className\\\":\\\"toc-item toc-item-h2\\\",\\\"children\\\":[[\\\"$\\\",\\\"a\\\",null,{\\\"href\\\":\\\"#环境安装及配置\\\",\\\"className\\\":\\\"toc-link toc-link-h2\\\",\\\"children\\\":\\\"环境安装及配置\\\"}],[\\\"$\\\",\\\"ol\\\",null,{\\\"className\\\":\\\"toc-level toc-level-2\\\",\\\"children\\\":[[\\\"$\\\",\\\"li\\\",null,{\\\"className\\\":\\\"toc-item toc-item-h3\\\",\\\"children\\\":[\\\"$\\\",\\\"a\\\",null,{\\\"href\\\":\\\"#安装-python\\\",\\\"className\\\":\\\"toc-link toc-link-h3\\\",\\\"children\\\":\\\"安装 python\\\"}]}],[\\\"$\\\",\\\"li\\\",null,{\\\"className\\\":\\\"toc-item toc-item-h3\\\",\\\"children\\\":[\\\"$\\\",\\\"a\\\",null,{\\\"href\\\":\\\"#安装-pip\\\",\\\"className\\\":\\\"toc-link toc-link-h3\\\",\\\"children\\\":\\\"安装 pip\\\"}]}],[\\\"$\\\",\\\"li\\\",null,{\\\"className\\\":\\\"toc-item toc-item-h3\\\",\\\"children\\\":[\\\"$\\\",\\\"a\\\",null,{\\\"href\\\":\\\"#安装-jupyter-notebook\\\",\\\"className\\\":\\\"toc-link toc-link-h3\\\",\\\"children\\\":\\\"安装 Jupyter Notebook\\\"}]}],[\\\"$\\\",\\\"li\\\",null,{\\\"className\\\":\\\"toc-item toc-item-h3\\\",\\\"children\\\":[[\\\"$\\\",\\\"a\\\",null,{\\\"href\\\":\\\"#安装-deno\\\",\\\"className\\\":\\\"toc-link toc-link-h3\\\",\\\"children\\\":\\\"安装 Deno\\\"}],[\\\"$\\\",\\\"ol\\\",null,{\\\"className\\\":\\\"toc-level toc-level-3\\\",\\\"children\\\":[\\\"$\\\",\\\"li\\\",null,{\\\"className\\\":\\\"toc-item toc-item-h4\\\",\\\"children\\\":[\\\"$\\\",\\\"a\\\",null,{\\\"href\\\":\\\"#配置环境变量macos\\\",\\\"className\\\":\\\"toc-link toc-link-h4\\\",\\\"children\\\":\\\"配置环境变量（MacOS）\\\"}]}]}]]}],[\\\"$\\\",\\\"li\\\",null,{\\\"className\\\":\\\"toc-item toc-item-h3\\\",\\\"children\\\":[\\\"$\\\",\\\"a\\\",null,{\\\"href\\\":\\\"#配置-jupyter-notebook\\\",\\\"className\\\":\\\"toc-link toc-link-h3\\\",\\\"children\\\":\\\"配置 Jupyter Notebook\\\"}]}]]}]]}],[\\\"$\\\",\\\"li\\\",null,{\\\"className\\\":\\\"toc-item toc-item-h2\\\",\\\"children\\\":[[\\\"$\\\",\\\"a\\\",null,{\\\"href\\\":\\\"#获取模型\\\",\\\"className\\\":\\\"toc-link toc-link-h2\\\",\\\"children\\\":\\\"获取模型\\\"}],[\\\"$\\\",\\\"ol\\\",null,{\\\"className\\\":\\\"toc-level toc-level-2\\\",\\\"children\\\":[[\\\"$\\\",\\\"li\\\",null,{\\\"className\\\":\\\"toc-item toc-item-h3\\\",\\\"children\\\":[\\\"$\\\",\\\"a\\\",null,{\\\"href\\\":\\\"#获取线上模型\\\",\\\"className\\\":\\\"toc-link toc-link-h3\\\",\\\"children\\\":\\\"获取线上模型\\\"}]}],[\\\"$\\\",\\\"li\\\",null,{\\\"className\\\":\\\"toc-item toc-item-h3\\\",\\\"children\\\":[\\\"$\\\",\\\"a\\\",null,{\\\"href\\\":\\\"#获取本地模型\\\",\\\"className\\\":\\\"toc-link toc-link-h3\\\",\\\"children\\\":\\\"获取本地模型\\\"}]}]]}]]}],[\\\"$\\\",\\\"li\\\",null,{\\\"className\\\":\\\"toc-item toc-item-h2\\\",\\\"children\\\":[[\\\"$\\\",\\\"a\\\",null,{\\\"href\\\":\\\"#链接模型\\\",\\\"className\\\":\\\"toc-link toc-link-h2\\\",\\\"children\\\":\\\"链接模型\\\"}],[\\\"$\\\",\\\"ol\\\",null,{\\\"className\\\":\\\"toc-level toc-level-2\\\",\\\"children\\\":[[\\\"$\\\",\\\"li\\\",null,{\\\"className\\\":\\\"toc-item toc-item-h3\\\",\\\"children\\\":[\\\"$\\\",\\\"a\\\",null,{\\\"href\\\":\\\"#配置-deno-依赖\\\",\\\"className\\\":\\\"toc-link toc-link-h3\\\",\\\"children\\\":\\\"配置 deno 依赖\\\"}]}],[\\\"$\\\",\\\"li\\\",null,{\\\"className\\\":\\\"toc-item toc-item-h3\\\",\\\"children\\\":[\\\"$\\\",\\\"a\\\",null,{\\\"href\\\":\\\"#链接线上模型\\\",\\\"className\\\":\\\"toc-link toc-link-h3\\\",\\\"children\\\":\\\"链接线上模型\\\"}]}],[\\\"$\\\",\\\"li\\\",null,{\\\"className\\\":\\\"toc-item toc-item-h3\\\",\\\"children\\\":[\\\"$\\\",\\\"a\\\",null,{\\\"href\\\":\\\"#链接本地模型\\\",\\\"className\\\":\\\"toc-link toc-link-h3\\\",\\\"children\\\":\\\"链接本地模型\\\"}]}]]}]]}]]}]}],\\\" \\\",[\\\"$\\\",\\\"h2\\\",null,{\\\"className\\\":\\\"content-header\\\",\\\"id\\\":\\\"环境安装及配置\\\",\\\"children\\\":[[\\\"$\\\",\\\"a\\\",null,{\\\"href\\\":\\\"#环境安装及配置\\\",\\\"aria-hidden\\\":\\\"true\\\",\\\"tabIndex\\\":\\\"-1\\\",\\\"children\\\":[\\\"$\\\",\\\"span\\\",null,{\\\"className\\\":\\\"content-header-link\\\",\\\"children\\\":[\\\"$\\\",\\\"svg\\\",null,{\\\"className\\\":\\\"h-5 linkicon w-5\\\",\\\"fill\\\":\\\"currentColor\\\",\\\"viewBox\\\":\\\"0 0 20 20\\\",\\\"xmlns\\\":\\\"http://www.w3.org/2000/svg\\\",\\\"children\\\":[[\\\"$\\\",\\\"path\\\",null,{\\\"d\\\":\\\"M12.232 4.232a2.5 2.5 0 0 1 3.536 3.536l-1.225 1.224a.75.75 0 0 0 1.061 1.06l1.224-1.224a4 4 0 0 0-5.656-5.656l-3 3a4 4 0 0 0 .225 5.865.75.75 0 0 0 .977-1.138 2.5 2.5 0 0 1-.142-3.667l3-3Z\\\"}],[\\\"$\\\",\\\"path\\\",null,{\\\"d\\\":\\\"M11.603 7.963a.75.75 0 0 0-.977 1.138 2.5 2.5 0 0 1 .142 3.667l-3 3a2.5 2.5 0 0 1-3.536-3.536l1.225-1.224a.75.75 0 0 0-1.061-1.06l-1.224 1.224a4 4 0 1 0 5.656 5.656l3-3a4 4 0 0 0-.225-5.865Z\\\"}]]}]}]}],\\\"环境安装及配置\\\"]}],[\\\"$\\\",\\\"h3\\\",null,{\\\"className\\\":\\\"content-header\\\",\\\"id\\\":\\\"安装-python\\\",\\\"children\\\":[[\\\"$\\\",\\\"a\\\",null,{\\\"href\\\":\\\"#安装-python\\\",\\\"aria-hidden\\\":\\\"true\\\",\\\"tabIndex\\\":\\\"-1\\\",\\\"children\\\":[\\\"$\\\",\\\"span\\\",null,{\\\"className\\\":\\\"content-header-link\\\",\\\"children\\\":[\\\"$\\\",\\\"svg\\\",null,{\\\"className\\\":\\\"h-5 linkicon w-5\\\",\\\"fill\\\":\\\"currentColor\\\",\\\"viewBox\\\":\\\"0 0 20 20\\\",\\\"xmlns\\\":\\\"http://www.w3.org/2000/svg\\\",\\\"children\\\":[[\\\"$\\\",\\\"path\\\",null,{\\\"d\\\":\\\"M12.232 4.232a2.5 2.5 0 0 1 3.536 3.536l-1.225 1.224a.75.75 0 0 0 1.061 1.06l1.224-1.224a4 4 0 0 0-5.656-5.656l-3 3a4 4 0 0 0 .225 5.865.75.75 0 0 0 .977-1.138 2.5 2.5 0 0 1-.142-3.667l3-3Z\\\"}],[\\\"$\\\",\\\"path\\\",null,{\\\"d\\\":\\\"M11.603 7.963a.75.75 0 0 0-.977 1.138 2.5 2.5 0 0 1 .142 3.667l-3 3a2.5 2.5 0 0 1-3.536-3.536l1.225-1.224a.75.75 0 0 0-1.061-1.06l-1.224 1.224a4 4 0 1 0 5.656 5.656l3-3a4 4 0 0 0-.225-5.865Z\\\"}]]}]}]}],\\\"安装 python\\\"]}],[\\\"$\\\",\\\"$L18\\\",null,{\\\"className\\\":\\\"language-bash\\\",\\\"children\\\":[\\\"$\\\",\\\"code\\\",null,{\\\"className\\\":\\\"code-highlight language-bash\\\",\\\"children\\\":[\\\"$\\\",\\\"span\\\",null,{\\\"className\\\":\\\"code-line\\\",\\\"children\\\":[\\\"  brew \\\",[\\\"$\\\",\\\"span\\\",null,{\\\"className\\\":\\\"token function\\\",\\\"children\\\":\\\"install\\\"}],\\\" python3\\\\n\\\"]}]}]}],[\\\"$\\\",\\\"h3\\\",null,{\\\"className\\\":\\\"content-header\\\",\\\"id\\\":\\\"安装-pip\\\",\\\"children\\\":[[\\\"$\\\",\\\"a\\\",null,{\\\"href\\\":\\\"#安装-pip\\\",\\\"aria-hidden\\\":\\\"true\\\",\\\"tabIndex\\\":\\\"-1\\\",\\\"children\\\":[\\\"$\\\",\\\"span\\\",null,{\\\"className\\\":\\\"content-header-link\\\",\\\"children\\\":[\\\"$\\\",\\\"svg\\\",null,{\\\"className\\\":\\\"h-5 linkicon w-5\\\",\\\"fill\\\":\\\"currentColor\\\",\\\"viewBox\\\":\\\"0 0 20 20\\\",\\\"xmlns\\\":\\\"http://www.w3.org/2000/svg\\\",\\\"children\\\":[[\\\"$\\\",\\\"path\\\",null,{\\\"d\\\":\\\"M12.232 4.232a2.5 2.5 0 0 1 3.536 3.536l-1.225 1.224a.75.75 0 0 0 1.061 1.06l1.224-1.224a4 4 0 0 0-5.656-5.656l-3 3a4 4 0 0 0 .225 5.865.75.75 0 0 0 .977-1.138 2.5 2.5 0 0 1-.142-3.667l3-3Z\\\"}],[\\\"$\\\",\\\"path\\\",null,{\\\"d\\\":\\\"M11.603 7.963a.75.75 0 0 0-.977 1.138 2.5 2.5 0 0 1 .142 3.667l-3 3a2.5 2.5 0 0 1-3.536-3.536l1.225-1.224a.75.75 0 0 0-1.061-1.06l-1.224 1.224a4 4 0 1 0 5.656 5.656l3-3a4 4 0 0 0-.225-5.865Z\\\"}]]}]}]}],\\\"安装 pip\\\"]}],[\\\"$\\\",\\\"$L18\\\",null,{\\\"className\\\":\\\"language-bash\\\",\\\"children\\\":[\\\"$\\\",\\\"code\\\",null,{\\\"className\\\":\\\"code-highlight language-bash\\\",\\\"children\\\":[\\\"$\\\",\\\"span\\\",null,{\\\"className\\\":\\\"code-line\\\",\\\"children\\\":[\\\"  \\\",[\\\"$\\\",\\\"span\\\",null,{\\\"className\\\":\\\"token function\\\",\\\"children\\\":\\\"sudo\\\"}],\\\" easy_install pip\\\\n\\\"]}]}]}],[\\\"$\\\",\\\"h3\\\",null,{\\\"className\\\":\\\"content-header\\\",\\\"id\\\":\\\"安装-jupyter-notebook\\\",\\\"children\\\":[[\\\"$\\\",\\\"a\\\",null,{\\\"href\\\":\\\"#安装-jupyter-notebook\\\",\\\"aria-hidden\\\":\\\"true\\\",\\\"tabIndex\\\":\\\"-1\\\",\\\"children\\\":[\\\"$\\\",\\\"span\\\",null,{\\\"className\\\":\\\"content-header-link\\\",\\\"children\\\":[\\\"$\\\",\\\"svg\\\",null,{\\\"className\\\":\\\"h-5 linkicon w-5\\\",\\\"fill\\\":\\\"currentColor\\\",\\\"viewBox\\\":\\\"0 0 20 20\\\",\\\"xmlns\\\":\\\"http://www.w3.org/2000/svg\\\",\\\"children\\\":[[\\\"$\\\",\\\"path\\\",null,{\\\"d\\\":\\\"M12.232 4.232a2.5 2.5 0 0 1 3.536 3.536l-1.225 1.224a.75.75 0 0 0 1.061 1.06l1.224-1.224a4 4 0 0 0-5.656-5.656l-3 3a4 4 0 0 0 .225 5.865.75.75 0 0 0 .977-1.138 2.5 2.5 0 0 1-.142-3.667l3-3Z\\\"}],[\\\"$\\\",\\\"path\\\",null,{\\\"d\\\":\\\"M11.603 7.963a.75.75 0 0 0-.977 1.138 2.5 2.5 0 0 1 .142 3.667l-3 3a2.5 2.5 0 0 1-3.536-3.536l1.225-1.224a.75.75 0 0 0-1.061-1.06l-1.224 1.224a4 4 0 1 0 5.656 5.656l3-3a4 4 0 0 0-.225-5.865Z\\\"}]]}]}]}],\\\"安装 Jupyter Notebook\\\"]}],[\\\"$\\\",\\\"$L18\\\",null,{\\\"className\\\":\\\"language-bash\\\",\\\"children\\\":[\\\"$\\\",\\\"code\\\",null,{\\\"className\\\":\\\"code-highlight language-bash\\\",\\\"children\\\":[\\\"$\\\",\\\"span\\\",null,{\\\"className\\\":\\\"code-line\\\",\\\"children\\\":[\\\"  pip \\\",[\\\"$\\\",\\\"span\\\",null,{\\\"className\\\":\\\"token function\\\",\\\"children\\\":\\\"install\\\"}],\\\" notebook\\\\n\\\"]}]}]}],[\\\"$\\\",\\\"h3\\\",null,{\\\"className\\\":\\\"content-header\\\",\\\"id\\\":\\\"安装-deno\\\",\\\"children\\\":[[\\\"$\\\",\\\"a\\\",null,{\\\"href\\\":\\\"#安装-deno\\\",\\\"aria-hidden\\\":\\\"true\\\",\\\"tabIndex\\\":\\\"-1\\\",\\\"children\\\":[\\\"$\\\",\\\"span\\\",null,{\\\"className\\\":\\\"content-header-link\\\",\\\"children\\\":[\\\"$\\\",\\\"svg\\\",null,{\\\"className\\\":\\\"h-5 linkicon w-5\\\",\\\"fill\\\":\\\"currentColor\\\",\\\"viewBox\\\":\\\"0 0 20 20\\\",\\\"xmlns\\\":\\\"http://www.w3.org/2000/svg\\\",\\\"children\\\":[[\\\"$\\\",\\\"path\\\",null,{\\\"d\\\":\\\"M12.232 4.232a2.5 2.5 0 0 1 3.536 3.536l-1.225 1.224a.75.75 0 0 0 1.061 1.06l1.224-1.224a4 4 0 0 0-5.656-5.656l-3 3a4 4 0 0 0 .225 5.865.75.75 0 0 0 .977-1.138 2.5 2.5 0 0 1-.142-3.667l3-3Z\\\"}],[\\\"$\\\",\\\"path\\\",null,{\\\"d\\\":\\\"M11.603 7.963a.75.75 0 0 0-.977 1.138 2.5 2.5 0 0 1 .142 3.667l-3 3a2.5 2.5 0 0 1-3.536-3.536l1.225-1.224a.75.75 0 0 0-1.061-1.06l-1.224 1.224a4 4 0 1 0 5.656 5.656l3-3a4 4 0 0 0-.225-5.865Z\\\"}]]}]}]}],\\\"安装 Deno\\\"]}],[\\\"$\\\",\\\"$L18\\\",null,{\\\"className\\\":\\\"language-bash\\\",\\\"children\\\":[\\\"$\\\",\\\"code\\\",null,{\\\"className\\\":\\\"code-highlight language-bash\\\",\\\"children\\\":[\\\"$\\\",\\\"span\\\",null,{\\\"className\\\":\\\"code-line\\\",\\\"children\\\":[\\\"  \\\",[\\\"$\\\",\\\"span\\\",null,{\\\"className\\\":\\\"token function\\\",\\\"children\\\":\\\"curl\\\"}],\\\" \\\",[\\\"$\\\",\\\"span\\\",null,{\\\"className\\\":\\\"token parameter variable\\\",\\\"children\\\":\\\"-fsSL\\\"}],\\\" https://deno.land/install.sh \\\",[\\\"$\\\",\\\"span\\\",null,{\\\"className\\\":\\\"token operator\\\",\\\"children\\\":\\\"|\\\"}],\\\" \\\",[\\\"$\\\",\\\"span\\\",null,{\\\"className\\\":\\\"token function\\\",\\\"children\\\":\\\"sh\\\"}],\\\"\\\\n\\\"]}]}]}],[\\\"$\\\",\\\"h4\\\",null,{\\\"className\\\":\\\"content-header\\\",\\\"id\\\":\\\"配置环境变量macos\\\",\\\"children\\\":[[\\\"$\\\",\\\"a\\\",null,{\\\"href\\\":\\\"#配置环境变量macos\\\",\\\"aria-hidden\\\":\\\"true\\\",\\\"tabIndex\\\":\\\"-1\\\",\\\"children\\\":[\\\"$\\\",\\\"span\\\",null,{\\\"className\\\":\\\"content-header-link\\\",\\\"children\\\":[\\\"$\\\",\\\"svg\\\",null,{\\\"className\\\":\\\"h-5 linkicon w-5\\\",\\\"fill\\\":\\\"currentColor\\\",\\\"viewBox\\\":\\\"0 0 20 20\\\",\\\"xmlns\\\":\\\"http://www.w3.org/2000/svg\\\",\\\"children\\\":[[\\\"$\\\",\\\"path\\\",null,{\\\"d\\\":\\\"M12.232 4.232a2.5 2.5 0 0 1 3.536 3.536l-1.225 1.224a.75.75 0 0 0 1.061 1.06l1.224-1.224a4 4 0 0 0-5.656-5.656l-3 3a4 4 0 0 0 .225 5.865.75.75 0 0 0 .977-1.138 2.5 2.5 0 0 1-.142-3.667l3-3Z\\\"}],[\\\"$\\\",\\\"path\\\",null,{\\\"d\\\":\\\"M11.603 7.963a.75.75 0 0 0-.977 1.138 2.5 2.5 0 0 1 .142 3.667l-3 3a2.5 2.5 0 0 1-3.536-3.536l1.225-1.224a.75.75 0 0 0-1.061-1.06l-1.224 1.224a4 4 0 1 0 5.656 5.656l3-3a4 4 0 0 0-.225-5.865Z\\\"}]]}]}]}],\\\"配置环境变量（MacOS）\\\"]}],[\\\"$\\\",\\\"p\\\",null,{\\\"children\\\":\\\"Deno 安装完成后，在 ~/.bash_profile 中添加以下内容：xxxxxx 为当前用户的目录\\\"}],[\\\"$\\\",\\\"$L18\\\",null,{\\\"className\\\":\\\"language-javascript\\\",\\\"children\\\":[\\\"$\\\",\\\"code\\\",null,{\\\"className\\\":\\\"code-highlight language-javaScript\\\",\\\"children\\\":[[\\\"$\\\",\\\"span\\\",null,{\\\"className\\\":\\\"code-line\\\",\\\"children\\\":[\\\"  \\\",[\\\"$\\\",\\\"span\\\",null,{\\\"className\\\":\\\"token keyword module\\\",\\\"children\\\":\\\"export\\\"}],\\\" \\\",[\\\"$\\\",\\\"span\\\",null,{\\\"className\\\":\\\"token constant\\\",\\\"children\\\":\\\"DENO_INSTALL\\\"}],[\\\"$\\\",\\\"span\\\",null,{\\\"className\\\":\\\"token operator\\\",\\\"children\\\":\\\"=\\\"}],[\\\"$\\\",\\\"span\\\",null,{\\\"className\\\":\\\"token string\\\",\\\"children\\\":\\\"\\\\\\\"/Users/xxxxxx/.deno\\\\\\\"\\\"}],\\\"\\\\n\\\"]}],[\\\"$\\\",\\\"span\\\",null,{\\\"className\\\":\\\"code-line\\\",\\\"children\\\":[\\\"  \\\",[\\\"$\\\",\\\"span\\\",null,{\\\"className\\\":\\\"token keyword module\\\",\\\"children\\\":\\\"export\\\"}],\\\" \\\",[\\\"$\\\",\\\"span\\\",null,{\\\"className\\\":\\\"token constant\\\",\\\"children\\\":\\\"PATH\\\"}],[\\\"$\\\",\\\"span\\\",null,{\\\"className\\\":\\\"token operator\\\",\\\"children\\\":\\\"=\\\"}],[\\\"$\\\",\\\"span\\\",null,{\\\"className\\\":\\\"token string\\\",\\\"children\\\":\\\"\\\\\\\"$DENO_INSTALL/bin:$PATH\\\\\\\"\\\"}],\\\"\\\\n\\\"]}]]}]}],[\\\"$\\\",\\\"p\\\",null,{\\\"children\\\":\\\"如果终端使用 zsh，则修改 ~/.zshrc 文件，加入如下内容：\\\"}],[\\\"$\\\",\\\"$L18\\\",null,{\\\"className\\\":\\\"language-js\\\",\\\"children\\\":[\\\"$\\\",\\\"code\\\",null,{\\\"className\\\":\\\"code-highlight language-js\\\",\\\"children\\\":[\\\"$\\\",\\\"span\\\",null,{\\\"className\\\":\\\"code-line\\\",\\\"children\\\":[\\\"  source \\\",[\\\"$\\\",\\\"span\\\",null,{\\\"className\\\":\\\"token operator\\\",\\\"children\\\":\\\"~\\\"}],[\\\"$\\\",\\\"span\\\",null,{\\\"className\\\":\\\"token operator\\\",\\\"children\\\":\\\"/\\\"}],[\\\"$\\\",\\\"span\\\",null,{\\\"className\\\":\\\"token punctuation\\\",\\\"children\\\":\\\".\\\"}],[\\\"$\\\",\\\"span\\\",null,{\\\"className\\\":\\\"token property-access\\\",\\\"children\\\":\\\"bash_profile\\\"}],\\\"\\\\n\\\"]}]}]}],[\\\"$\\\",\\\"p\\\",null,{\\\"children\\\":\\\"配置完成后，重启终端，执行 deno --version 命令，如果出现版本信息，则表示安装成功。\\\"}],[\\\"$\\\",\\\"h3\\\",null,{\\\"className\\\":\\\"content-header\\\",\\\"id\\\":\\\"配置-jupyter-notebook\\\",\\\"children\\\":[[\\\"$\\\",\\\"a\\\",null,{\\\"href\\\":\\\"#配置-jupyter-notebook\\\",\\\"aria-hidden\\\":\\\"true\\\",\\\"tabIndex\\\":\\\"-1\\\",\\\"children\\\":[\\\"$\\\",\\\"span\\\",null,{\\\"className\\\":\\\"content-header-link\\\",\\\"children\\\":[\\\"$\\\",\\\"svg\\\",null,{\\\"className\\\":\\\"h-5 linkicon w-5\\\",\\\"fill\\\":\\\"currentColor\\\",\\\"viewBox\\\":\\\"0 0 20 20\\\",\\\"xmlns\\\":\\\"http://www.w3.org/2000/svg\\\",\\\"children\\\":[[\\\"$\\\",\\\"path\\\",null,{\\\"d\\\":\\\"M12.232 4.232a2.5 2.5 0 0 1 3.536 3.536l-1.225 1.224a.75.75 0 0 0 1.061 1.06l1.224-1.224a4 4 0 0 0-5.656-5.656l-3 3a4 4 0 0 0 .225 5.865.75.75 0 0 0 .977-1.138 2.5 2.5 0 0 1-.142-3.667l3-3Z\\\"}],[\\\"$\\\",\\\"path\\\",null,{\\\"d\\\":\\\"M11.603 7.963a.75.75 0 0 0-.977 1.138 2.5 2.5 0 0 1 .142 3.667l-3 3a2.5 2.5 0 0 1-3.536-3.536l1.225-1.224a.75.75 0 0 0-1.061-1.06l-1.224 1.224a4 4 0 1 0 5.656 5.656l3-3a4 4 0 0 0-.225-5.865Z\\\"}]]}]}]}],\\\"配置 Jupyter Notebook\\\"]}],[\\\"$\\\",\\\"p\\\",null,{\\\"children\\\":\\\"使用 Deno 为 Jupyter Notebook 配置 kernel：\\\"}],[\\\"$\\\",\\\"$L18\\\",null,{\\\"className\\\":\\\"language-bash\\\",\\\"children\\\":[\\\"$\\\",\\\"code\\\",null,{\\\"className\\\":\\\"code-highlight language-bash\\\",\\\"children\\\":[\\\"$\\\",\\\"span\\\",null,{\\\"className\\\":\\\"code-line\\\",\\\"children\\\":[\\\"  deno jupyter \\\",[\\\"$\\\",\\\"span\\\",null,{\\\"className\\\":\\\"token parameter variable\\\",\\\"children\\\":\\\"--unstable\\\"}],\\\" \\\",[\\\"$\\\",\\\"span\\\",null,{\\\"className\\\":\\\"token parameter variable\\\",\\\"children\\\":\\\"--install\\\"}],\\\"\\\\n\\\"]}]}]}],[\\\"$\\\",\\\"p\\\",null,{\\\"children\\\":\\\"验证是否配置成功：\\\"}],[\\\"$\\\",\\\"$L18\\\",null,{\\\"className\\\":\\\"language-bash\\\",\\\"children\\\":[\\\"$\\\",\\\"code\\\",null,{\\\"className\\\":\\\"code-highlight language-bash\\\",\\\"children\\\":[\\\"$\\\",\\\"span\\\",null,{\\\"className\\\":\\\"code-line\\\",\\\"children\\\":[\\\"  deno jupyter \\\",[\\\"$\\\",\\\"span\\\",null,{\\\"className\\\":\\\"token parameter variable\\\",\\\"children\\\":\\\"--unstable\\\"}],\\\"\\\\n\\\"]}]}]}],[\\\"$\\\",\\\"p\\\",null,{\\\"children\\\":[\\\"出现 \\\",[\\\"$\\\",\\\"em\\\",null,{\\\"children\\\":\\\"Deno kernel already installed\\\"}],\\\" 即表示配置成功。\\\"]}],[\\\"$\\\",\\\"p\\\",null,{\\\"children\\\":\\\"安装完成后，启动 notebook：\\\"}],[\\\"$\\\",\\\"$L18\\\",null,{\\\"className\\\":\\\"language-bash\\\",\\\"children\\\":[\\\"$\\\",\\\"code\\\",null,{\\\"className\\\":\\\"code-highlight language-bash\\\",\\\"children\\\":[\\\"$\\\",\\\"span\\\",null,{\\\"className\\\":\\\"code-line\\\",\\\"children\\\":\\\"  jupyter notebook\\\\n\\\"}]}]}],[\\\"$\\\",\\\"p\\\",null,{\\\"children\\\":[\\\"启动成功后，在浏览器中访问 \\\",[\\\"$\\\",\\\"a\\\",null,{\\\"target\\\":\\\"_blank\\\",\\\"rel\\\":\\\"noopener noreferrer\\\",\\\"href\\\":\\\"http://localhost:8888/tree\\\",\\\"children\\\":\\\"http://localhost:8888/tree\\\"}],\\\" 就可以看到 Jupyter Notebook 的界面。\\\"]}],[\\\"$\\\",\\\"h2\\\",null,{\\\"className\\\":\\\"content-header\\\",\\\"id\\\":\\\"获取模型\\\",\\\"children\\\":[[\\\"$\\\",\\\"a\\\",null,{\\\"href\\\":\\\"#获取模型\\\",\\\"aria-hidden\\\":\\\"true\\\",\\\"tabIndex\\\":\\\"-1\\\",\\\"children\\\":[\\\"$\\\",\\\"span\\\",null,{\\\"className\\\":\\\"content-header-link\\\",\\\"children\\\":[\\\"$\\\",\\\"svg\\\",null,{\\\"className\\\":\\\"h-5 linkicon w-5\\\",\\\"fill\\\":\\\"currentColor\\\",\\\"viewBox\\\":\\\"0 0 20 20\\\",\\\"xmlns\\\":\\\"http://www.w3.org/2000/svg\\\",\\\"children\\\":[[\\\"$\\\",\\\"path\\\",null,{\\\"d\\\":\\\"M12.232 4.232a2.5 2.5 0 0 1 3.536 3.536l-1.225 1.224a.75.75 0 0 0 1.061 1.06l1.224-1.224a4 4 0 0 0-5.656-5.656l-3 3a4 4 0 0 0 .225 5.865.75.75 0 0 0 .977-1.138 2.5 2.5 0 0 1-.142-3.667l3-3Z\\\"}],[\\\"$\\\",\\\"path\\\",null,{\\\"d\\\":\\\"M11.603 7.963a.75.75 0 0 0-.977 1.138 2.5 2.5 0 0 1 .142 3.667l-3 3a2.5 2.5 0 0 1-3.536-3.536l1.225-1.224a.75.75 0 0 0-1.061-1.06l-1.224 1.224a4 4 0 1 0 5.656 5.656l3-3a4 4 0 0 0-.225-5.865Z\\\"}]]}]}]}],\\\"获取模型\\\"]}],[\\\"$\\\",\\\"h3\\\",null,{\\\"className\\\":\\\"content-header\\\",\\\"id\\\":\\\"获取线上模型\\\",\\\"children\\\":[[\\\"$\\\",\\\"a\\\",null,{\\\"href\\\":\\\"#获取线上模型\\\",\\\"aria-hidden\\\":\\\"true\\\",\\\"tabIndex\\\":\\\"-1\\\",\\\"children\\\":[\\\"$\\\",\\\"span\\\",null,{\\\"className\\\":\\\"content-header-link\\\",\\\"children\\\":[\\\"$\\\",\\\"svg\\\",null,{\\\"className\\\":\\\"h-5 linkicon w-5\\\",\\\"fill\\\":\\\"currentColor\\\",\\\"viewBox\\\":\\\"0 0 20 20\\\",\\\"xmlns\\\":\\\"http://www.w3.org/2000/svg\\\",\\\"children\\\":[[\\\"$\\\",\\\"path\\\",null,{\\\"d\\\":\\\"M12.232 4.232a2.5 2.5 0 0 1 3.536 3.536l-1.225 1.224a.75.75 0 0 0 1.061 1.06l1.224-1.224a4 4 0 0 0-5.656-5.656l-3 3a4 4 0 0 0 .225 5.865.75.75 0 0 0 .977-1.138 2.5 2.5 0 0 1-.142-3.667l3-3Z\\\"}],[\\\"$\\\",\\\"path\\\",null,{\\\"d\\\":\\\"M11.603 7.963a.75.75 0 0 0-.977 1.138 2.5 2.5 0 0 1 .142 3.667l-3 3a2.5 2.5 0 0 1-3.536-3.536l1.225-1.224a.75.75 0 0 0-1.061-1.06l-1.224 1.224a4 4 0 1 0 5.656 5.656l3-3a4 4 0 0 0-.225-5.865Z\\\"}]]}]}]}],\\\"获取线上模型\\\"]}],[\\\"$\\\",\\\"p\\\",null,{\\\"children\\\":[\\\"以阿里云灵积大模型为例，\\\",[\\\"$\\\",\\\"a\\\",null,{\\\"target\\\":\\\"_blank\\\",\\\"rel\\\":\\\"noopener noreferrer\\\",\\\"href\\\":\\\"https://help.aliyun.com/zh/dashscope/developer-reference/activate-dashscope-and-create-an-api-key?spm=a2c4g.11186623.0.0.4e202a9dn7fwHa\\\",\\\"children\\\":\\\"线上申请\\\"}],\\\" 模型。\\\"]}],[\\\"$\\\",\\\"p\\\",null,{\\\"children\\\":\\\"模型申请成功后，即可本地访问线上模型，做测试。\\\"}],[\\\"$\\\",\\\"h3\\\",null,{\\\"className\\\":\\\"content-header\\\",\\\"id\\\":\\\"获取本地模型\\\",\\\"children\\\":[[\\\"$\\\",\\\"a\\\",null,{\\\"href\\\":\\\"#获取本地模型\\\",\\\"aria-hidden\\\":\\\"true\\\",\\\"tabIndex\\\":\\\"-1\\\",\\\"children\\\":[\\\"$\\\",\\\"span\\\",null,{\\\"className\\\":\\\"content-header-link\\\",\\\"children\\\":[\\\"$\\\",\\\"svg\\\",null,{\\\"className\\\":\\\"h-5 linkicon w-5\\\",\\\"fill\\\":\\\"currentColor\\\",\\\"viewBox\\\":\\\"0 0 20 20\\\",\\\"xmlns\\\":\\\"http://www.w3.org/2000/svg\\\",\\\"children\\\":[[\\\"$\\\",\\\"path\\\",null,{\\\"d\\\":\\\"M12.232 4.232a2.5 2.5 0 0 1 3.536 3.536l-1.225 1.224a.75.75 0 0 0 1.061 1.06l1.224-1.224a4 4 0 0 0-5.656-5.656l-3 3a4 4 0 0 0 .225 5.865.75.75 0 0 0 .977-1.138 2.5 2.5 0 0 1-.142-3.667l3-3Z\\\"}],[\\\"$\\\",\\\"path\\\",null,{\\\"d\\\":\\\"M11.603 7.963a.75.75 0 0 0-.977 1.138 2.5 2.5 0 0 1 .142 3.667l-3 3a2.5 2.5 0 0 1-3.536-3.536l1.225-1.224a.75.75 0 0 0-1.061-1.06l-1.224 1.224a4 4 0 1 0 5.656 5.656l3-3a4 4 0 0 0-.225-5.865Z\\\"}]]}]}]}],\\\"获取本地模型\\\"]}],[\\\"$\\\",\\\"p\\\",null,{\\\"children\\\":\\\"因为线上模型一般都需要收费，为节约成本，也可以使用本地模型进行测试，但是本地模型对设备资源要求较高，可视情况安装对应的模型。\\\"}],[\\\"$\\\",\\\"p\\\",null,{\\\"children\\\":[\\\"本地模型平台 mac 系统推荐 \\\",[\\\"$\\\",\\\"a\\\",null,{\\\"target\\\":\\\"_blank\\\",\\\"rel\\\":\\\"noopener noreferrer\\\",\\\"href\\\":\\\"https://ollama.com/\\\",\\\"children\\\":\\\"Ollama\\\"}],\\\"，win 系统推荐 \\\",[\\\"$\\\",\\\"a\\\",null,{\\\"target\\\":\\\"_blank\\\",\\\"rel\\\":\\\"noopener noreferrer\\\",\\\"href\\\":\\\"https://lmstudio.ai/\\\",\\\"children\\\":\\\"LM Studio\\\"}],\\\"，进入对应的官网下载即可， 安装成功后启动 app，即可在 \\\",[\\\"$\\\",\\\"a\\\",null,{\\\"target\\\":\\\"_blank\\\",\\\"rel\\\":\\\"noopener noreferrer\\\",\\\"href\\\":\\\"http://localhost:11434\\\",\\\"children\\\":\\\"http://localhost:11434\\\"}],\\\" 启动一个 llm 的服务。\\\"]}],[\\\"$\\\",\\\"p\\\",null,{\\\"children\\\":[\\\"以 Ollama 为例，在 \\\",[\\\"$\\\",\\\"a\\\",null,{\\\"target\\\":\\\"_blank\\\",\\\"rel\\\":\\\"noopener noreferrer\\\",\\\"href\\\":\\\"https://github.com/ollama/ollama\\\",\\\"children\\\":\\\"gitHub\\\"}],\\\" 中可以查找其支持的模型。 Ollama 服务启动后，在控制台中执行如下命令下载对应的模型到本地：\\\"]}],[\\\"$\\\",\\\"$L18\\\",null,{\\\"className\\\":\\\"language-bash\\\",\\\"children\\\":[\\\"$\\\",\\\"code\\\",null,{\\\"className\\\":\\\"code-highlight language-bash\\\",\\\"children\\\":[\\\"$\\\",\\\"span\\\",null,{\\\"className\\\":\\\"code-line\\\",\\\"children\\\":\\\"  ollama run modelName\\\\n\\\"}]}]}],[\\\"$\\\",\\\"h2\\\",null,{\\\"className\\\":\\\"content-header\\\",\\\"id\\\":\\\"链接模型\\\",\\\"children\\\":[[\\\"$\\\",\\\"a\\\",null,{\\\"href\\\":\\\"#链接模型\\\",\\\"aria-hidden\\\":\\\"true\\\",\\\"tabIndex\\\":\\\"-1\\\",\\\"children\\\":[\\\"$\\\",\\\"span\\\",null,{\\\"className\\\":\\\"content-header-link\\\",\\\"children\\\":[\\\"$\\\",\\\"svg\\\",null,{\\\"className\\\":\\\"h-5 linkicon w-5\\\",\\\"fill\\\":\\\"currentColor\\\",\\\"viewBox\\\":\\\"0 0 20 20\\\",\\\"xmlns\\\":\\\"http://www.w3.org/2000/svg\\\",\\\"children\\\":[[\\\"$\\\",\\\"path\\\",null,{\\\"d\\\":\\\"M12.232 4.232a2.5 2.5 0 0 1 3.536 3.536l-1.225 1.224a.75.75 0 0 0 1.061 1.06l1.224-1.224a4 4 0 0 0-5.656-5.656l-3 3a4 4 0 0 0 .225 5.865.75.75 0 0 0 .977-1.138 2.5 2.5 0 0 1-.142-3.667l3-3Z\\\"}],[\\\"$\\\",\\\"path\\\",null,{\\\"d\\\":\\\"M11.603 7.963a.75.75 0 0 0-.977 1.138 2.5 2.5 0 0 1 .142 3.667l-3 3a2.5 2.5 0 0 1-3.536-3.536l1.225-1.224a.75.75 0 0 0-1.061-1.06l-1.224 1.224a4 4 0 1 0 5.656 5.656l3-3a4 4 0 0 0-.225-5.865Z\\\"}]]}]}]}],\\\"链接模型\\\"]}],[\\\"$\\\",\\\"p\\\",null,{\\\"children\\\":\\\"在 notebook 界面中，创建项目文件夹，用于存放测试代码，测试代码是基于 Deno 和 js 实现。\\\"}],[\\\"$\\\",\\\"h3\\\",null,{\\\"className\\\":\\\"content-header\\\",\\\"id\\\":\\\"配置-deno-依赖\\\",\\\"children\\\":[[\\\"$\\\",\\\"a\\\",null,{\\\"href\\\":\\\"#配置-deno-依赖\\\",\\\"aria-hidden\\\":\\\"true\\\",\\\"tabIndex\\\":\\\"-1\\\",\\\"children\\\":[\\\"$\\\",\\\"span\\\",null,{\\\"className\\\":\\\"content-header-link\\\",\\\"children\\\":[\\\"$\\\",\\\"svg\\\",null,{\\\"className\\\":\\\"h-5 linkicon w-5\\\",\\\"fill\\\":\\\"currentColor\\\",\\\"viewBox\\\":\\\"0 0 20 20\\\",\\\"xmlns\\\":\\\"http://www.w3.org/2000/svg\\\",\\\"children\\\":[[\\\"$\\\",\\\"path\\\",null,{\\\"d\\\":\\\"M12.232 4.232a2.5 2.5 0 0 1 3.536 3.536l-1.225 1.224a.75.75 0 0 0 1.061 1.06l1.224-1.224a4 4 0 0 0-5.656-5.656l-3 3a4 4 0 0 0 .225 5.865.75.75 0 0 0 .977-1.138 2.5 2.5 0 0 1-.142-3.667l3-3Z\\\"}],[\\\"$\\\",\\\"path\\\",null,{\\\"d\\\":\\\"M11.603 7.963a.75.75 0 0 0-.977 1.138 2.5 2.5 0 0 1 .142 3.667l-3 3a2.5 2.5 0 0 1-3.536-3.536l1.225-1.224a.75.75 0 0 0-1.061-1.06l-1.224 1.224a4 4 0 1 0 5.656 5.656l3-3a4 4 0 0 0-.225-5.865Z\\\"}]]}]}]}],\\\"配置 deno 依赖\\\"]}],[\\\"$\\\",\\\"p\\\",null,{\\\"children\\\":\\\"Deno 是直接远程拉取依赖，且自带缓存机制，不需要本地安装，只需要配置依赖项即可。 模型的链接依赖于 langchain.js。在 Deno 使用 dotenv 来加载环境变量。\\\"}],[\\\"$\\\",\\\"p\\\",null,{\\\"children\\\":\\\"在项目根目录下，新建 deno.json，加入以下内容：\\\"}],[\\\"$\\\",\\\"$L18\\\",null,{\\\"className\\\":\\\"language-json\\\",\\\"children\\\":[\\\"$\\\",\\\"code\\\",null,{\\\"className\\\":\\\"code-highlight language-json\\\",\\\"children\\\":[[\\\"$\\\",\\\"span\\\",null,{\\\"className\\\":\\\"code-line\\\",\\\"children\\\":[\\\"  \\\",[\\\"$\\\",\\\"span\\\",null,{\\\"className\\\":\\\"token punctuation\\\",\\\"children\\\":\\\"{\\\"}],\\\"\\\\n\\\"]}],[\\\"$\\\",\\\"span\\\",null,{\\\"className\\\":\\\"code-line\\\",\\\"children\\\":[\\\"    \\\",[\\\"$\\\",\\\"span\\\",null,{\\\"className\\\":\\\"token property\\\",\\\"children\\\":\\\"\\\\\\\"imports\\\\\\\"\\\"}],[\\\"$\\\",\\\"span\\\",null,{\\\"className\\\":\\\"token operator\\\",\\\"children\\\":\\\":\\\"}],\\\" \\\",[\\\"$\\\",\\\"span\\\",null,{\\\"className\\\":\\\"token punctuation\\\",\\\"children\\\":\\\"{\\\"}],\\\"\\\\n\\\"]}],[\\\"$\\\",\\\"span\\\",null,{\\\"className\\\":\\\"code-line\\\",\\\"children\\\":[\\\"      \\\",[\\\"$\\\",\\\"span\\\",null,{\\\"className\\\":\\\"token property\\\",\\\"children\\\":\\\"\\\\\\\"langchain\\\\\\\"\\\"}],[\\\"$\\\",\\\"span\\\",null,{\\\"className\\\":\\\"token operator\\\",\\\"children\\\":\\\":\\\"}],\\\" \\\",[\\\"$\\\",\\\"span\\\",null,{\\\"className\\\":\\\"token string\\\",\\\"children\\\":\\\"\\\\\\\"npm:/langchain@0.1.37\\\\\\\"\\\"}],[\\\"$\\\",\\\"span\\\",null,{\\\"className\\\":\\\"token punctuation\\\",\\\"children\\\":\\\",\\\"}],\\\"\\\\n\\\"]}],[\\\"$\\\",\\\"span\\\",null,{\\\"className\\\":\\\"code-line\\\",\\\"children\\\":[\\\"      \\\",[\\\"$\\\",\\\"span\\\",null,{\\\"className\\\":\\\"token property\\\",\\\"children\\\":\\\"\\\\\\\"langchain/\\\\\\\"\\\"}],[\\\"$\\\",\\\"span\\\",null,{\\\"className\\\":\\\"token operator\\\",\\\"children\\\":\\\":\\\"}],\\\" \\\",[\\\"$\\\",\\\"span\\\",null,{\\\"className\\\":\\\"token string\\\",\\\"children\\\":\\\"\\\\\\\"npm:/langchain@0.1.37/\\\\\\\"\\\"}],[\\\"$\\\",\\\"span\\\",null,{\\\"className\\\":\\\"token punctuation\\\",\\\"children\\\":\\\",\\\"}],\\\"\\\\n\\\"]}],[\\\"$\\\",\\\"span\\\",null,{\\\"className\\\":\\\"code-line\\\",\\\"children\\\":[\\\"      \\\",[\\\"$\\\",\\\"span\\\",null,{\\\"className\\\":\\\"token property\\\",\\\"children\\\":\\\"\\\\\\\"@langchain/core\\\\\\\"\\\"}],[\\\"$\\\",\\\"span\\\",null,{\\\"className\\\":\\\"token operator\\\",\\\"children\\\":\\\":\\\"}],\\\" \\\",[\\\"$\\\",\\\"span\\\",null,{\\\"className\\\":\\\"token string\\\",\\\"children\\\":\\\"\\\\\\\"npm:/@langchain/core@0.1.48\\\\\\\"\\\"}],[\\\"$\\\",\\\"span\\\",null,{\\\"className\\\":\\\"token punctuation\\\",\\\"children\\\":\\\",\\\"}],\\\"\\\\n\\\"]}],[\\\"$\\\",\\\"span\\\",null,{\\\"className\\\":\\\"code-line\\\",\\\"children\\\":[\\\"      \\\",[\\\"$\\\",\\\"span\\\",null,{\\\"className\\\":\\\"token property\\\",\\\"children\\\":\\\"\\\\\\\"@langchain/core/\\\\\\\"\\\"}],[\\\"$\\\",\\\"span\\\",null,{\\\"className\\\":\\\"token operator\\\",\\\"children\\\":\\\":\\\"}],\\\" \\\",[\\\"$\\\",\\\"span\\\",null,{\\\"className\\\":\\\"token string\\\",\\\"children\\\":\\\"\\\\\\\"npm:/@langchain/core@0.1.48/\\\\\\\"\\\"}],[\\\"$\\\",\\\"span\\\",null,{\\\"className\\\":\\\"token punctuation\\\",\\\"children\\\":\\\",\\\"}],\\\"\\\\n\\\"]}],[\\\"$\\\",\\\"span\\\",null,{\\\"className\\\":\\\"code-line\\\",\\\"children\\\":[\\\"      \\\",[\\\"$\\\",\\\"span\\\",null,{\\\"className\\\":\\\"token property\\\",\\\"children\\\":\\\"\\\\\\\"@langchain/community\\\\\\\"\\\"}],[\\\"$\\\",\\\"span\\\",null,{\\\"className\\\":\\\"token operator\\\",\\\"children\\\":\\\":\\\"}],\\\" \\\",[\\\"$\\\",\\\"span\\\",null,{\\\"className\\\":\\\"token string\\\",\\\"children\\\":\\\"\\\\\\\"npm:/@langchain/community\\\\\\\"\\\"}],[\\\"$\\\",\\\"span\\\",null,{\\\"className\\\":\\\"token punctuation\\\",\\\"children\\\":\\\",\\\"}],\\\"\\\\n\\\"]}],[\\\"$\\\",\\\"span\\\",null,{\\\"className\\\":\\\"code-line\\\",\\\"children\\\":[\\\"      \\\",[\\\"$\\\",\\\"span\\\",null,{\\\"className\\\":\\\"token property\\\",\\\"children\\\":\\\"\\\\\\\"@langchain/community/\\\\\\\"\\\"}],[\\\"$\\\",\\\"span\\\",null,{\\\"className\\\":\\\"token operator\\\",\\\"children\\\":\\\":\\\"}],\\\" \\\",[\\\"$\\\",\\\"span\\\",null,{\\\"className\\\":\\\"token string\\\",\\\"children\\\":\\\"\\\\\\\"npm:/@langchain/community/\\\\\\\"\\\"}],[\\\"$\\\",\\\"span\\\",null,{\\\"className\\\":\\\"token punctuation\\\",\\\"children\\\":\\\",\\\"}],\\\"\\\\n\\\"]}],[\\\"$\\\",\\\"span\\\",null,{\\\"className\\\":\\\"code-line\\\",\\\"children\\\":[\\\"      \\\",[\\\"$\\\",\\\"span\\\",null,{\\\"className\\\":\\\"token property\\\",\\\"children\\\":\\\"\\\\\\\"dotenv\\\\\\\"\\\"}],[\\\"$\\\",\\\"span\\\",null,{\\\"className\\\":\\\"token operator\\\",\\\"children\\\":\\\":\\\"}],\\\" \\\",[\\\"$\\\",\\\"span\\\",null,{\\\"className\\\":\\\"token string\\\",\\\"children\\\":\\\"\\\\\\\"https://deno.land/std@0.220.0/dotenv/mod.ts\\\\\\\"\\\"}],\\\"\\\\n\\\"]}],[\\\"$\\\",\\\"span\\\",null,{\\\"className\\\":\\\"code-line\\\",\\\"children\\\":[\\\"    \\\",[\\\"$\\\",\\\"span\\\",null,{\\\"className\\\":\\\"token punctuation\\\",\\\"children\\\":\\\"}\\\"}],[\\\"$\\\",\\\"span\\\",null,{\\\"className\\\":\\\"token punctuation\\\",\\\"children\\\":\\\",\\\"}],\\\"\\\\n\\\"]}],[\\\"$\\\",\\\"span\\\",null,{\\\"className\\\":\\\"code-line\\\",\\\"children\\\":[\\\"    \\\",[\\\"$\\\",\\\"span\\\",null,{\\\"className\\\":\\\"token property\\\",\\\"children\\\":\\\"\\\\\\\"deno.enable\\\\\\\"\\\"}],[\\\"$\\\",\\\"span\\\",null,{\\\"className\\\":\\\"token operator\\\",\\\"children\\\":\\\":\\\"}],\\\" \\\",[\\\"$\\\",\\\"span\\\",null,{\\\"className\\\":\\\"token boolean\\\",\\\"children\\\":\\\"true\\\"}],\\\"\\\\n\\\"]}],[\\\"$\\\",\\\"span\\\",null,{\\\"className\\\":\\\"code-line\\\",\\\"children\\\":[\\\"  \\\",[\\\"$\\\",\\\"span\\\",null,{\\\"className\\\":\\\"token punctuation\\\",\\\"children\\\":\\\"}\\\"}],\\\"\\\\n\\\"]}]]}]}],[\\\"$\\\",\\\"h3\\\",null,{\\\"className\\\":\\\"content-header\\\",\\\"id\\\":\\\"链接线上模型\\\",\\\"children\\\":[[\\\"$\\\",\\\"a\\\",null,{\\\"href\\\":\\\"#链接线上模型\\\",\\\"aria-hidden\\\":\\\"true\\\",\\\"tabIndex\\\":\\\"-1\\\",\\\"children\\\":[\\\"$\\\",\\\"span\\\",null,{\\\"className\\\":\\\"content-header-link\\\",\\\"children\\\":[\\\"$\\\",\\\"svg\\\",null,{\\\"className\\\":\\\"h-5 linkicon w-5\\\",\\\"fill\\\":\\\"currentColor\\\",\\\"viewBox\\\":\\\"0 0 20 20\\\",\\\"xmlns\\\":\\\"http://www.w3.org/2000/svg\\\",\\\"children\\\":[[\\\"$\\\",\\\"path\\\",null,{\\\"d\\\":\\\"M12.232 4.232a2.5 2.5 0 0 1 3.536 3.536l-1.225 1.224a.75.75 0 0 0 1.061 1.06l1.224-1.224a4 4 0 0 0-5.656-5.656l-3 3a4 4 0 0 0 .225 5.865.75.75 0 0 0 .977-1.138 2.5 2.5 0 0 1-.142-3.667l3-3Z\\\"}],[\\\"$\\\",\\\"path\\\",null,{\\\"d\\\":\\\"M11.603 7.963a.75.75 0 0 0-.977 1.138 2.5 2.5 0 0 1 .142 3.667l-3 3a2.5 2.5 0 0 1-3.536-3.536l1.225-1.224a.75.75 0 0 0-1.061-1.06l-1.224 1.224a4 4 0 1 0 5.656 5.656l3-3a4 4 0 0 0-.225-5.865Z\\\"}]]}]}]}],\\\"链接线上模型\\\"]}],[\\\"$\\\",\\\"p\\\",null,{\\\"children\\\":\\\"在项目目录下新建 demo.ipynb 文件，在 notebook 中打开此文件，右侧内核选择 Deno。\\\"}],[\\\"$\\\",\\\"p\\\",null,{\\\"children\\\":\\\"目录下新建 .env 文件，加入模型的 API（在对应的控制台获取）：\\\"}],[\\\"$\\\",\\\"$L18\\\",null,{\\\"className\\\":\\\"language-js\\\",\\\"children\\\":[\\\"$\\\",\\\"code\\\",null,{\\\"className\\\":\\\"code-highlight language-js\\\",\\\"children\\\":[\\\"$\\\",\\\"span\\\",null,{\\\"className\\\":\\\"code-line\\\",\\\"children\\\":[\\\"  \\\",[\\\"$\\\",\\\"span\\\",null,{\\\"className\\\":\\\"token constant\\\",\\\"children\\\":\\\"ALIBABA_API_KEY\\\"}],[\\\"$\\\",\\\"span\\\",null,{\\\"className\\\":\\\"token operator\\\",\\\"children\\\":\\\"=\\\"}],\\\"xxx\\\\n\\\"]}]}]}],[\\\"$\\\",\\\"p\\\",null,{\\\"children\\\":\\\"在 ipynb 文件中，首先加载环境变量，由于 langchain.js 是为 node 设计，因此会默认从 process.env 中进行读取。执行以下命令， 将环境变量加载到 process.env 中：\\\"}],[\\\"$\\\",\\\"$L18\\\",null,{\\\"className\\\":\\\"language-js\\\",\\\"children\\\":[\\\"$\\\",\\\"code\\\",null,{\\\"className\\\":\\\"code-highlight language-js\\\",\\\"children\\\":[[\\\"$\\\",\\\"span\\\",null,{\\\"className\\\":\\\"code-line\\\",\\\"children\\\":[\\\"  \\\",[\\\"$\\\",\\\"span\\\",null,{\\\"className\\\":\\\"token keyword module\\\",\\\"children\\\":\\\"import\\\"}],\\\" \\\",[\\\"$\\\",\\\"span\\\",null,{\\\"className\\\":\\\"token imports\\\",\\\"children\\\":[[\\\"$\\\",\\\"span\\\",null,{\\\"className\\\":\\\"token punctuation\\\",\\\"children\\\":\\\"{\\\"}],\\\" load \\\",[\\\"$\\\",\\\"span\\\",null,{\\\"className\\\":\\\"token punctuation\\\",\\\"children\\\":\\\"}\\\"}]]}],\\\" \\\",[\\\"$\\\",\\\"span\\\",null,{\\\"className\\\":\\\"token keyword module\\\",\\\"children\\\":\\\"from\\\"}],\\\" \\\",[\\\"$\\\",\\\"span\\\",null,{\\\"className\\\":\\\"token string\\\",\\\"children\\\":\\\"\\\\\\\"dotenv\\\\\\\"\\\"}],[\\\"$\\\",\\\"span\\\",null,{\\\"className\\\":\\\"token punctuation\\\",\\\"children\\\":\\\";\\\"}],\\\"\\\\n\\\"]}],[\\\"$\\\",\\\"span\\\",null,{\\\"className\\\":\\\"code-line\\\",\\\"children\\\":[\\\"  \\\",[\\\"$\\\",\\\"span\\\",null,{\\\"className\\\":\\\"token keyword\\\",\\\"children\\\":\\\"const\\\"}],\\\" env \\\",[\\\"$\\\",\\\"span\\\",null,{\\\"className\\\":\\\"token operator\\\",\\\"children\\\":\\\"=\\\"}],\\\" \\\",[\\\"$\\\",\\\"span\\\",null,{\\\"className\\\":\\\"token keyword control-flow\\\",\\\"children\\\":\\\"await\\\"}],\\\" \\\",[\\\"$\\\",\\\"span\\\",null,{\\\"className\\\":\\\"token function\\\",\\\"children\\\":\\\"load\\\"}],[\\\"$\\\",\\\"span\\\",null,{\\\"className\\\":\\\"token punctuation\\\",\\\"children\\\":\\\"(\\\"}],[\\\"$\\\",\\\"span\\\",null,{\\\"className\\\":\\\"token punctuation\\\",\\\"children\\\":\\\")\\\"}],[\\\"$\\\",\\\"span\\\",null,{\\\"className\\\":\\\"token punctuation\\\",\\\"children\\\":\\\";\\\"}],\\\"\\\\n\\\"]}],[\\\"$\\\",\\\"span\\\",null,{\\\"className\\\":\\\"code-line\\\",\\\"children\\\":\\\"\\\\n\\\"}],[\\\"$\\\",\\\"span\\\",null,{\\\"className\\\":\\\"code-line\\\",\\\"children\\\":[\\\"  \\\",[\\\"$\\\",\\\"span\\\",null,{\\\"className\\\":\\\"token keyword\\\",\\\"children\\\":\\\"const\\\"}],\\\" process \\\",[\\\"$\\\",\\\"span\\\",null,{\\\"className\\\":\\\"token operator\\\",\\\"children\\\":\\\"=\\\"}],\\\" \\\",[\\\"$\\\",\\\"span\\\",null,{\\\"className\\\":\\\"token punctuation\\\",\\\"children\\\":\\\"{\\\"}],\\\"\\\\n\\\"]}],[\\\"$\\\",\\\"span\\\",null,{\\\"className\\\":\\\"code-line\\\",\\\"children\\\":[\\\"    env\\\",[\\\"$\\\",\\\"span\\\",null,{\\\"className\\\":\\\"token punctuation\\\",\\\"children\\\":\\\",\\\"}],\\\"\\\\n\\\"]}],[\\\"$\\\",\\\"span\\\",null,{\\\"className\\\":\\\"code-line\\\",\\\"children\\\":[\\\"  \\\",[\\\"$\\\",\\\"span\\\",null,{\\\"className\\\":\\\"token punctuation\\\",\\\"children\\\":\\\"}\\\"}],[\\\"$\\\",\\\"span\\\",null,{\\\"className\\\":\\\"token punctuation\\\",\\\"children\\\":\\\";\\\"}],\\\"\\\\n\\\"]}]]}]}],[\\\"$\\\",\\\"p\\\",null,{\\\"children\\\":[\\\"链接模型，并进行问询，参考自\\\",[\\\"$\\\",\\\"a\\\",null,{\\\"target\\\":\\\"_blank\\\",\\\"rel\\\":\\\"noopener noreferrer\\\",\\\"href\\\":\\\"https://js.langchain.com/v0.1/docs/integrations/chat/alibaba_tongyi/\\\",\\\"children\\\":\\\"langchain.js\\\"}],\\\"：\\\"]}],[\\\"$\\\",\\\"$L18\\\",null,{\\\"className\\\":\\\"language-js\\\",\\\"children\\\":[\\\"$\\\",\\\"code\\\",null,{\\\"className\\\":\\\"code-highlight language-js\\\",\\\"children\\\":[[\\\"$\\\",\\\"span\\\",null,{\\\"className\\\":\\\"code-line\\\",\\\"children\\\":[\\\"  \\\",[\\\"$\\\",\\\"span\\\",null,{\\\"className\\\":\\\"token keyword module\\\",\\\"children\\\":\\\"import\\\"}],\\\" \\\",[\\\"$\\\",\\\"span\\\",null,{\\\"className\\\":\\\"token imports\\\",\\\"children\\\":[[\\\"$\\\",\\\"span\\\",null,{\\\"className\\\":\\\"token punctuation\\\",\\\"children\\\":\\\"{\\\"}],\\\" \\\",[\\\"$\\\",\\\"span\\\",null,{\\\"className\\\":\\\"token maybe-class-name\\\",\\\"children\\\":\\\"ChatAlibabaTongyi\\\"}],\\\" \\\",[\\\"$\\\",\\\"span\\\",null,{\\\"className\\\":\\\"token punctuation\\\",\\\"children\\\":\\\"}\\\"}]]}],\\\" \\\",[\\\"$\\\",\\\"span\\\",null,{\\\"className\\\":\\\"token keyword module\\\",\\\"children\\\":\\\"from\\\"}],\\\" \\\",[\\\"$\\\",\\\"span\\\",null,{\\\"className\\\":\\\"token string\\\",\\\"children\\\":\\\"\\\\\\\"@langchain/community/chat_models/alibaba_tongyi\\\\\\\"\\\"}],[\\\"$\\\",\\\"span\\\",null,{\\\"className\\\":\\\"token punctuation\\\",\\\"children\\\":\\\";\\\"}],\\\"\\\\n\\\"]}],[\\\"$\\\",\\\"span\\\",null,{\\\"className\\\":\\\"code-line\\\",\\\"children\\\":[\\\"  \\\",[\\\"$\\\",\\\"span\\\",null,{\\\"className\\\":\\\"token keyword module\\\",\\\"children\\\":\\\"import\\\"}],\\\" \\\",[\\\"$\\\",\\\"span\\\",null,{\\\"className\\\":\\\"token imports\\\",\\\"children\\\":[[\\\"$\\\",\\\"span\\\",null,{\\\"className\\\":\\\"token punctuation\\\",\\\"children\\\":\\\"{\\\"}],\\\" \\\",[\\\"$\\\",\\\"span\\\",null,{\\\"className\\\":\\\"token maybe-class-name\\\",\\\"children\\\":\\\"HumanMessage\\\"}],\\\" \\\",[\\\"$\\\",\\\"span\\\",null,{\\\"className\\\":\\\"token punctuation\\\",\\\"children\\\":\\\"}\\\"}]]}],\\\" \\\",[\\\"$\\\",\\\"span\\\",null,{\\\"className\\\":\\\"token keyword module\\\",\\\"children\\\":\\\"from\\\"}],\\\" \\\",[\\\"$\\\",\\\"span\\\",null,{\\\"className\\\":\\\"token string\\\",\\\"children\\\":\\\"\\\\\\\"@langchain/core/messages\\\\\\\"\\\"}],[\\\"$\\\",\\\"span\\\",null,{\\\"className\\\":\\\"token punctuation\\\",\\\"children\\\":\\\";\\\"}],\\\"\\\\n\\\"]}],[\\\"$\\\",\\\"span\\\",null,{\\\"className\\\":\\\"code-line\\\",\\\"children\\\":\\\"\\\\n\\\"}],[\\\"$\\\",\\\"span\\\",null,{\\\"className\\\":\\\"code-line\\\",\\\"children\\\":[\\\"  \\\",[\\\"$\\\",\\\"span\\\",null,{\\\"className\\\":\\\"token keyword\\\",\\\"children\\\":\\\"const\\\"}],\\\" model \\\",[\\\"$\\\",\\\"span\\\",null,{\\\"className\\\":\\\"token operator\\\",\\\"children\\\":\\\"=\\\"}],\\\" \\\",[\\\"$\\\",\\\"span\\\",null,{\\\"className\\\":\\\"token keyword\\\",\\\"children\\\":\\\"new\\\"}],\\\" \\\",[\\\"$\\\",\\\"span\\\",null,{\\\"className\\\":\\\"token class-name\\\",\\\"children\\\":\\\"ChatAlibabaTongyi\\\"}],[\\\"$\\\",\\\"span\\\",null,{\\\"className\\\":\\\"token punctuation\\\",\\\"children\\\":\\\"(\\\"}],[\\\"$\\\",\\\"span\\\",null,{\\\"className\\\":\\\"token punctuation\\\",\\\"children\\\":\\\"{\\\"}],\\\"\\\\n\\\"]}],[\\\"$\\\",\\\"span\\\",null,{\\\"className\\\":\\\"code-line\\\",\\\"children\\\":[\\\"    \\\",[\\\"$\\\",\\\"span\\\",null,{\\\"className\\\":\\\"token property literal-property\\\",\\\"children\\\":\\\"model\\\"}],[\\\"$\\\",\\\"span\\\",null,{\\\"className\\\":\\\"token operator\\\",\\\"children\\\":\\\":\\\"}],\\\" \\\",[\\\"$\\\",\\\"span\\\",null,{\\\"className\\\":\\\"token string\\\",\\\"children\\\":\\\"\\\\\\\"qwen-turbo\\\\\\\"\\\"}],[\\\"$\\\",\\\"span\\\",null,{\\\"className\\\":\\\"token punctuation\\\",\\\"children\\\":\\\",\\\"}],\\\" \\\",[\\\"$\\\",\\\"span\\\",null,{\\\"className\\\":\\\"token comment\\\",\\\"children\\\":\\\"// Available models: qwen-turbo, qwen-plus, qwen-max\\\"}],\\\"\\\\n\\\"]}],[\\\"$\\\",\\\"span\\\",null,{\\\"className\\\":\\\"code-line\\\",\\\"children\\\":[\\\"    \\\",[\\\"$\\\",\\\"span\\\",null,{\\\"className\\\":\\\"token property literal-property\\\",\\\"children\\\":\\\"temperature\\\"}],[\\\"$\\\",\\\"span\\\",null,{\\\"className\\\":\\\"token operator\\\",\\\"children\\\":\\\":\\\"}],\\\" \\\",[\\\"$\\\",\\\"span\\\",null,{\\\"className\\\":\\\"token number\\\",\\\"children\\\":\\\"1\\\"}],[\\\"$\\\",\\\"span\\\",null,{\\\"className\\\":\\\"token punctuation\\\",\\\"children\\\":\\\",\\\"}],\\\"\\\\n\\\"]}],[\\\"$\\\",\\\"span\\\",null,{\\\"className\\\":\\\"code-line\\\",\\\"children\\\":[\\\"  \\\",[\\\"$\\\",\\\"span\\\",null,{\\\"className\\\":\\\"token punctuation\\\",\\\"children\\\":\\\"}\\\"}],[\\\"$\\\",\\\"span\\\",null,{\\\"className\\\":\\\"token punctuation\\\",\\\"children\\\":\\\")\\\"}],[\\\"$\\\",\\\"span\\\",null,{\\\"className\\\":\\\"token punctuation\\\",\\\"children\\\":\\\";\\\"}],\\\"\\\\n\\\"]}],[\\\"$\\\",\\\"span\\\",null,{\\\"className\\\":\\\"code-line\\\",\\\"children\\\":\\\"\\\\n\\\"}],[\\\"$\\\",\\\"span\\\",null,{\\\"className\\\":\\\"code-line\\\",\\\"children\\\":[\\\"  \\\",[\\\"$\\\",\\\"span\\\",null,{\\\"className\\\":\\\"token keyword\\\",\\\"children\\\":\\\"const\\\"}],\\\" stream \\\",[\\\"$\\\",\\\"span\\\",null,{\\\"className\\\":\\\"token operator\\\",\\\"children\\\":\\\"=\\\"}],\\\" \\\",[\\\"$\\\",\\\"span\\\",null,{\\\"className\\\":\\\"token keyword control-flow\\\",\\\"children\\\":\\\"await\\\"}],\\\" model\\\",[\\\"$\\\",\\\"span\\\",null,{\\\"className\\\":\\\"token punctuation\\\",\\\"children\\\":\\\".\\\"}],[\\\"$\\\",\\\"span\\\",null,{\\\"className\\\":\\\"token function property-access method\\\",\\\"children\\\":\\\"invoke\\\"}],[\\\"$\\\",\\\"span\\\",null,{\\\"className\\\":\\\"token punctuation\\\",\\\"children\\\":\\\"(\\\"}],[\\\"$\\\",\\\"span\\\",null,{\\\"className\\\":\\\"token punctuation\\\",\\\"children\\\":\\\"[\\\"}],\\\"\\\\n\\\"]}],[\\\"$\\\",\\\"span\\\",null,{\\\"className\\\":\\\"code-line\\\",\\\"children\\\":[\\\"    \\\",[\\\"$\\\",\\\"span\\\",null,{\\\"className\\\":\\\"token keyword\\\",\\\"children\\\":\\\"new\\\"}],\\\" \\\",[\\\"$\\\",\\\"span\\\",null,{\\\"className\\\":\\\"token class-name\\\",\\\"children\\\":\\\"HumanMessage\\\"}],[\\\"$\\\",\\\"span\\\",null,{\\\"className\\\":\\\"token punctuation\\\",\\\"children\\\":\\\"(\\\"}],[\\\"$\\\",\\\"span\\\",null,{\\\"className\\\":\\\"token string\\\",\\\"children\\\":\\\"\\\\\\\"讲个笑话\\\\\\\"\\\"}],[\\\"$\\\",\\\"span\\\",null,{\\\"className\\\":\\\"token punctuation\\\",\\\"children\\\":\\\")\\\"}],[\\\"$\\\",\\\"span\\\",null,{\\\"className\\\":\\\"token punctuation\\\",\\\"children\\\":\\\",\\\"}],\\\"\\\\n\\\"]}],[\\\"$\\\",\\\"span\\\",null,{\\\"className\\\":\\\"code-line\\\",\\\"children\\\":[\\\"  \\\",[\\\"$\\\",\\\"span\\\",null,{\\\"className\\\":\\\"token punctuation\\\",\\\"children\\\":\\\"]\\\"}],[\\\"$\\\",\\\"span\\\",null,{\\\"className\\\":\\\"token punctuation\\\",\\\"children\\\":\\\")\\\"}],[\\\"$\\\",\\\"span\\\",null,{\\\"className\\\":\\\"token punctuation\\\",\\\"children\\\":\\\";\\\"}],\\\"\\\\n\\\"]}],[\\\"$\\\",\\\"span\\\",null,{\\\"className\\\":\\\"code-line\\\",\\\"children\\\":\\\"\\\\n\\\"}],[\\\"$\\\",\\\"span\\\",null,{\\\"className\\\":\\\"code-line\\\",\\\"children\\\":[\\\"  \\\",[\\\"$\\\",\\\"span\\\",null,{\\\"className\\\":\\\"token class-name console\\\",\\\"children\\\":\\\"console\\\"}],[\\\"$\\\",\\\"span\\\",null,{\\\"className\\\":\\\"token punctuation\\\",\\\"children\\\":\\\".\\\"}],[\\\"$\\\",\\\"span\\\",null,{\\\"className\\\":\\\"token function property-access method\\\",\\\"children\\\":\\\"log\\\"}],[\\\"$\\\",\\\"span\\\",null,{\\\"className\\\":\\\"token punctuation\\\",\\\"children\\\":\\\"(\\\"}],\\\"stream\\\",[\\\"$\\\",\\\"span\\\",null,{\\\"className\\\":\\\"token punctuation\\\",\\\"children\\\":\\\")\\\"}],[\\\"$\\\",\\\"span\\\",null,{\\\"className\\\":\\\"token punctuation\\\",\\\"children\\\":\\\";\\\"}],\\\"\\\\n\\\"]}]]}]}],[\\\"$\\\",\\\"p\\\",null,{\\\"children\\\":\\\"返回内容格式如下：\\\"}],[\\\"$\\\",\\\"$L18\\\",null,{\\\"className\\\":\\\"language-js\\\",\\\"children\\\":[\\\"$\\\",\\\"code\\\",null,{\\\"className\\\":\\\"code-highlight language-js\\\",\\\"children\\\":[[\\\"$\\\",\\\"span\\\",null,{\\\"className\\\":\\\"code-line\\\",\\\"children\\\":[\\\"  \\\",[\\\"$\\\",\\\"span\\\",null,{\\\"className\\\":\\\"token maybe-class-name\\\",\\\"children\\\":\\\"AIMessage\\\"}],\\\" \\\",[\\\"$\\\",\\\"span\\\",null,{\\\"className\\\":\\\"token punctuation\\\",\\\"children\\\":\\\"{\\\"}],\\\"\\\\n\\\"]}],[\\\"$\\\",\\\"span\\\",null,{\\\"className\\\":\\\"code-line\\\",\\\"children\\\":[\\\"    \\\",[\\\"$\\\",\\\"span\\\",null,{\\\"className\\\":\\\"token property literal-property\\\",\\\"children\\\":\\\"lc_serializable\\\"}],[\\\"$\\\",\\\"span\\\",null,{\\\"className\\\":\\\"token operator\\\",\\\"children\\\":\\\":\\\"}],\\\" \\\",[\\\"$\\\",\\\"span\\\",null,{\\\"className\\\":\\\"token boolean\\\",\\\"children\\\":\\\"true\\\"}],[\\\"$\\\",\\\"span\\\",null,{\\\"className\\\":\\\"token punctuation\\\",\\\"children\\\":\\\",\\\"}],\\\"\\\\n\\\"]}],[\\\"$\\\",\\\"span\\\",null,{\\\"className\\\":\\\"code-line\\\",\\\"children\\\":[\\\"    \\\",[\\\"$\\\",\\\"span\\\",null,{\\\"className\\\":\\\"token property literal-property\\\",\\\"children\\\":\\\"lc_kwargs\\\"}],[\\\"$\\\",\\\"span\\\",null,{\\\"className\\\":\\\"token operator\\\",\\\"children\\\":\\\":\\\"}],\\\" \\\",[\\\"$\\\",\\\"span\\\",null,{\\\"className\\\":\\\"token punctuation\\\",\\\"children\\\":\\\"{\\\"}],\\\"\\\\n\\\"]}],[\\\"$\\\",\\\"span\\\",null,{\\\"className\\\":\\\"code-line\\\",\\\"children\\\":[\\\"      \\\",[\\\"$\\\",\\\"span\\\",null,{\\\"className\\\":\\\"token property literal-property\\\",\\\"children\\\":\\\"content\\\"}],[\\\"$\\\",\\\"span\\\",null,{\\\"className\\\":\\\"token operator\\\",\\\"children\\\":\\\":\\\"}],\\\" \\\",[\\\"$\\\",\\\"span\\\",null,{\\\"className\\\":\\\"token string\\\",\\\"children\\\":\\\"\\\\\\\"为什么袜子总是只丢一只？因为丢两只根本就不会发现。\\\\\\\"\\\"}],[\\\"$\\\",\\\"span\\\",null,{\\\"className\\\":\\\"token punctuation\\\",\\\"children\\\":\\\",\\\"}],\\\"\\\\n\\\"]}],[\\\"$\\\",\\\"span\\\",null,{\\\"className\\\":\\\"code-line\\\",\\\"children\\\":[\\\"      \\\",[\\\"$\\\",\\\"span\\\",null,{\\\"className\\\":\\\"token property literal-property\\\",\\\"children\\\":\\\"tool_calls\\\"}],[\\\"$\\\",\\\"span\\\",null,{\\\"className\\\":\\\"token operator\\\",\\\"children\\\":\\\":\\\"}],\\\" \\\",[\\\"$\\\",\\\"span\\\",null,{\\\"className\\\":\\\"token punctuation\\\",\\\"children\\\":\\\"[\\\"}],[\\\"$\\\",\\\"span\\\",null,{\\\"className\\\":\\\"token punctuation\\\",\\\"children\\\":\\\"]\\\"}],[\\\"$\\\",\\\"span\\\",null,{\\\"className\\\":\\\"token punctuation\\\",\\\"children\\\":\\\",\\\"}],\\\"\\\\n\\\"]}],[\\\"$\\\",\\\"span\\\",null,{\\\"className\\\":\\\"code-line\\\",\\\"children\\\":[\\\"      \\\",[\\\"$\\\",\\\"span\\\",null,{\\\"className\\\":\\\"token property literal-property\\\",\\\"children\\\":\\\"invalid_tool_calls\\\"}],[\\\"$\\\",\\\"span\\\",null,{\\\"className\\\":\\\"token operator\\\",\\\"children\\\":\\\":\\\"}],\\\" \\\",[\\\"$\\\",\\\"span\\\",null,{\\\"className\\\":\\\"token punctuation\\\",\\\"children\\\":\\\"[\\\"}],[\\\"$\\\",\\\"span\\\",null,{\\\"className\\\":\\\"token punctuation\\\",\\\"children\\\":\\\"]\\\"}],[\\\"$\\\",\\\"span\\\",null,{\\\"className\\\":\\\"token punctuation\\\",\\\"children\\\":\\\",\\\"}],\\\"\\\\n\\\"]}],[\\\"$\\\",\\\"span\\\",null,{\\\"className\\\":\\\"code-line\\\",\\\"children\\\":[\\\"      \\\",[\\\"$\\\",\\\"span\\\",null,{\\\"className\\\":\\\"token property literal-property\\\",\\\"children\\\":\\\"additional_kwargs\\\"}],[\\\"$\\\",\\\"span\\\",null,{\\\"className\\\":\\\"token operator\\\",\\\"children\\\":\\\":\\\"}],\\\" \\\",[\\\"$\\\",\\\"span\\\",null,{\\\"className\\\":\\\"token punctuation\\\",\\\"children\\\":\\\"{\\\"}],[\\\"$\\\",\\\"span\\\",null,{\\\"className\\\":\\\"token punctuation\\\",\\\"children\\\":\\\"}\\\"}],[\\\"$\\\",\\\"span\\\",null,{\\\"className\\\":\\\"token punctuation\\\",\\\"children\\\":\\\",\\\"}],\\\"\\\\n\\\"]}],[\\\"$\\\",\\\"span\\\",null,{\\\"className\\\":\\\"code-line\\\",\\\"children\\\":[\\\"      \\\",[\\\"$\\\",\\\"span\\\",null,{\\\"className\\\":\\\"token property literal-property\\\",\\\"children\\\":\\\"response_metadata\\\"}],[\\\"$\\\",\\\"span\\\",null,{\\\"className\\\":\\\"token operator\\\",\\\"children\\\":\\\":\\\"}],\\\" \\\",[\\\"$\\\",\\\"span\\\",null,{\\\"className\\\":\\\"token punctuation\\\",\\\"children\\\":\\\"{\\\"}],[\\\"$\\\",\\\"span\\\",null,{\\\"className\\\":\\\"token punctuation\\\",\\\"children\\\":\\\"}\\\"}],\\\"\\\\n\\\"]}],[\\\"$\\\",\\\"span\\\",null,{\\\"className\\\":\\\"code-line\\\",\\\"children\\\":[\\\"    \\\",[\\\"$\\\",\\\"span\\\",null,{\\\"className\\\":\\\"token punctuation\\\",\\\"children\\\":\\\"}\\\"}],[\\\"$\\\",\\\"span\\\",null,{\\\"className\\\":\\\"token punctuation\\\",\\\"children\\\":\\\",\\\"}],\\\"\\\\n\\\"]}],[\\\"$\\\",\\\"span\\\",null,{\\\"className\\\":\\\"code-line\\\",\\\"children\\\":[\\\"    \\\",[\\\"$\\\",\\\"span\\\",null,{\\\"className\\\":\\\"token property literal-property\\\",\\\"children\\\":\\\"lc_namespace\\\"}],[\\\"$\\\",\\\"span\\\",null,{\\\"className\\\":\\\"token operator\\\",\\\"children\\\":\\\":\\\"}],\\\" \\\",[\\\"$\\\",\\\"span\\\",null,{\\\"className\\\":\\\"token punctuation\\\",\\\"children\\\":\\\"[\\\"}],\\\" \\\",[\\\"$\\\",\\\"span\\\",null,{\\\"className\\\":\\\"token string\\\",\\\"children\\\":\\\"\\\\\\\"langchain_core\\\\\\\"\\\"}],[\\\"$\\\",\\\"span\\\",null,{\\\"className\\\":\\\"token punctuation\\\",\\\"children\\\":\\\",\\\"}],\\\" \\\",[\\\"$\\\",\\\"span\\\",null,{\\\"className\\\":\\\"token string\\\",\\\"children\\\":\\\"\\\\\\\"messages\\\\\\\"\\\"}],\\\" \\\",[\\\"$\\\",\\\"span\\\",null,{\\\"className\\\":\\\"token punctuation\\\",\\\"children\\\":\\\"]\\\"}],[\\\"$\\\",\\\"span\\\",null,{\\\"className\\\":\\\"token punctuation\\\",\\\"children\\\":\\\",\\\"}],\\\"\\\\n\\\"]}],[\\\"$\\\",\\\"span\\\",null,{\\\"className\\\":\\\"code-line\\\",\\\"children\\\":[\\\"    \\\",[\\\"$\\\",\\\"span\\\",null,{\\\"className\\\":\\\"token property literal-property\\\",\\\"children\\\":\\\"content\\\"}],[\\\"$\\\",\\\"span\\\",null,{\\\"className\\\":\\\"token operator\\\",\\\"children\\\":\\\":\\\"}],\\\" \\\",[\\\"$\\\",\\\"span\\\",null,{\\\"className\\\":\\\"token string\\\",\\\"children\\\":\\\"\\\\\\\"为什么袜子总是只丢一只？因为丢两只根本就不会发现。\\\\\\\"\\\"}],[\\\"$\\\",\\\"span\\\",null,{\\\"className\\\":\\\"token punctuation\\\",\\\"children\\\":\\\",\\\"}],\\\"\\\\n\\\"]}],[\\\"$\\\",\\\"span\\\",null,{\\\"className\\\":\\\"code-line\\\",\\\"children\\\":[\\\"    \\\",[\\\"$\\\",\\\"span\\\",null,{\\\"className\\\":\\\"token property literal-property\\\",\\\"children\\\":\\\"name\\\"}],[\\\"$\\\",\\\"span\\\",null,{\\\"className\\\":\\\"token operator\\\",\\\"children\\\":\\\":\\\"}],\\\" \\\",[\\\"$\\\",\\\"span\\\",null,{\\\"className\\\":\\\"token keyword nil\\\",\\\"children\\\":\\\"undefined\\\"}],[\\\"$\\\",\\\"span\\\",null,{\\\"className\\\":\\\"token punctuation\\\",\\\"children\\\":\\\",\\\"}],\\\"\\\\n\\\"]}],[\\\"$\\\",\\\"span\\\",null,{\\\"className\\\":\\\"code-line\\\",\\\"children\\\":[\\\"    \\\",[\\\"$\\\",\\\"span\\\",null,{\\\"className\\\":\\\"token property literal-property\\\",\\\"children\\\":\\\"additional_kwargs\\\"}],[\\\"$\\\",\\\"span\\\",null,{\\\"className\\\":\\\"token operator\\\",\\\"children\\\":\\\":\\\"}],\\\" \\\",[\\\"$\\\",\\\"span\\\",null,{\\\"className\\\":\\\"token punctuation\\\",\\\"children\\\":\\\"{\\\"}],[\\\"$\\\",\\\"span\\\",null,{\\\"className\\\":\\\"token punctuation\\\",\\\"children\\\":\\\"}\\\"}],[\\\"$\\\",\\\"span\\\",null,{\\\"className\\\":\\\"token punctuation\\\",\\\"children\\\":\\\",\\\"}],\\\"\\\\n\\\"]}],[\\\"$\\\",\\\"span\\\",null,{\\\"className\\\":\\\"code-line\\\",\\\"children\\\":[\\\"    \\\",[\\\"$\\\",\\\"span\\\",null,{\\\"className\\\":\\\"token property literal-property\\\",\\\"children\\\":\\\"response_metadata\\\"}],[\\\"$\\\",\\\"span\\\",null,{\\\"className\\\":\\\"token operator\\\",\\\"children\\\":\\\":\\\"}],\\\" \\\",[\\\"$\\\",\\\"span\\\",null,{\\\"className\\\":\\\"token punctuation\\\",\\\"children\\\":\\\"{\\\"}],\\\"\\\\n\\\"]}],[\\\"$\\\",\\\"span\\\",null,{\\\"className\\\":\\\"code-line\\\",\\\"children\\\":[\\\"      \\\",[\\\"$\\\",\\\"span\\\",null,{\\\"className\\\":\\\"token property literal-property\\\",\\\"children\\\":\\\"tokenUsage\\\"}],[\\\"$\\\",\\\"span\\\",null,{\\\"className\\\":\\\"token operator\\\",\\\"children\\\":\\\":\\\"}],\\\" \\\",[\\\"$\\\",\\\"span\\\",null,{\\\"className\\\":\\\"token punctuation\\\",\\\"children\\\":\\\"{\\\"}],\\\" \\\",[\\\"$\\\",\\\"span\\\",null,{\\\"className\\\":\\\"token property literal-property\\\",\\\"children\\\":\\\"promptTokens\\\"}],[\\\"$\\\",\\\"span\\\",null,{\\\"className\\\":\\\"token operator\\\",\\\"children\\\":\\\":\\\"}],\\\" \\\",[\\\"$\\\",\\\"span\\\",null,{\\\"className\\\":\\\"token number\\\",\\\"children\\\":\\\"11\\\"}],[\\\"$\\\",\\\"span\\\",null,{\\\"className\\\":\\\"token punctuation\\\",\\\"children\\\":\\\",\\\"}],\\\" \\\",[\\\"$\\\",\\\"span\\\",null,{\\\"className\\\":\\\"token property literal-property\\\",\\\"children\\\":\\\"completionTokens\\\"}],[\\\"$\\\",\\\"span\\\",null,{\\\"className\\\":\\\"token operator\\\",\\\"children\\\":\\\":\\\"}],\\\" \\\",[\\\"$\\\",\\\"span\\\",null,{\\\"className\\\":\\\"token number\\\",\\\"children\\\":\\\"15\\\"}],[\\\"$\\\",\\\"span\\\",null,{\\\"className\\\":\\\"token punctuation\\\",\\\"children\\\":\\\",\\\"}],\\\" \\\",[\\\"$\\\",\\\"span\\\",null,{\\\"className\\\":\\\"token property literal-property\\\",\\\"children\\\":\\\"totalTokens\\\"}],[\\\"$\\\",\\\"span\\\",null,{\\\"className\\\":\\\"token operator\\\",\\\"children\\\":\\\":\\\"}],\\\" \\\",[\\\"$\\\",\\\"span\\\",null,{\\\"className\\\":\\\"token number\\\",\\\"children\\\":\\\"26\\\"}],\\\" \\\",[\\\"$\\\",\\\"span\\\",null,{\\\"className\\\":\\\"token punctuation\\\",\\\"children\\\":\\\"}\\\"}],\\\"\\\\n\\\"]}],[\\\"$\\\",\\\"span\\\",null,{\\\"className\\\":\\\"code-line\\\",\\\"children\\\":[\\\"    \\\",[\\\"$\\\",\\\"span\\\",null,{\\\"className\\\":\\\"token punctuation\\\",\\\"children\\\":\\\"}\\\"}],[\\\"$\\\",\\\"span\\\",null,{\\\"className\\\":\\\"token punctuation\\\",\\\"children\\\":\\\",\\\"}],\\\"\\\\n\\\"]}],[\\\"$\\\",\\\"span\\\",null,{\\\"className\\\":\\\"code-line\\\",\\\"children\\\":[\\\"    \\\",[\\\"$\\\",\\\"span\\\",null,{\\\"className\\\":\\\"token property literal-property\\\",\\\"children\\\":\\\"tool_calls\\\"}],[\\\"$\\\",\\\"span\\\",null,{\\\"className\\\":\\\"token operator\\\",\\\"children\\\":\\\":\\\"}],\\\" \\\",[\\\"$\\\",\\\"span\\\",null,{\\\"className\\\":\\\"token punctuation\\\",\\\"children\\\":\\\"[\\\"}],[\\\"$\\\",\\\"span\\\",null,{\\\"className\\\":\\\"token punctuation\\\",\\\"children\\\":\\\"]\\\"}],[\\\"$\\\",\\\"span\\\",null,{\\\"className\\\":\\\"token punctuation\\\",\\\"children\\\":\\\",\\\"}],\\\"\\\\n\\\"]}],[\\\"$\\\",\\\"span\\\",null,{\\\"className\\\":\\\"code-line\\\",\\\"children\\\":[\\\"    \\\",[\\\"$\\\",\\\"span\\\",null,{\\\"className\\\":\\\"token property literal-property\\\",\\\"children\\\":\\\"invalid_tool_calls\\\"}],[\\\"$\\\",\\\"span\\\",null,{\\\"className\\\":\\\"token operator\\\",\\\"children\\\":\\\":\\\"}],\\\" \\\",[\\\"$\\\",\\\"span\\\",null,{\\\"className\\\":\\\"token punctuation\\\",\\\"children\\\":\\\"[\\\"}],[\\\"$\\\",\\\"span\\\",null,{\\\"className\\\":\\\"token punctuation\\\",\\\"children\\\":\\\"]\\\"}],\\\"\\\\n\\\"]}],[\\\"$\\\",\\\"span\\\",null,{\\\"className\\\":\\\"code-line\\\",\\\"children\\\":[\\\"  \\\",[\\\"$\\\",\\\"span\\\",null,{\\\"className\\\":\\\"token punctuation\\\",\\\"children\\\":\\\"}\\\"}],\\\"\\\\n\\\"]}]]}]}],[\\\"$\\\",\\\"p\\\",null,{\\\"children\\\":\\\"使用 StringOutputParser 对输出的内容进行处理，处理后只输出普通文本：\\\"}],[\\\"$\\\",\\\"$L18\\\",null,{\\\"className\\\":\\\"language-js\\\",\\\"children\\\":[\\\"$\\\",\\\"code\\\",null,{\\\"className\\\":\\\"code-highlight language-js\\\",\\\"children\\\":[[\\\"$\\\",\\\"span\\\",null,{\\\"className\\\":\\\"code-line\\\",\\\"children\\\":[\\\"  \\\",[\\\"$\\\",\\\"span\\\",null,{\\\"className\\\":\\\"token keyword module\\\",\\\"children\\\":\\\"import\\\"}],\\\" \\\",[\\\"$\\\",\\\"span\\\",null,{\\\"className\\\":\\\"token imports\\\",\\\"children\\\":[[\\\"$\\\",\\\"span\\\",null,{\\\"className\\\":\\\"token punctuation\\\",\\\"children\\\":\\\"{\\\"}],\\\" \\\",[\\\"$\\\",\\\"span\\\",null,{\\\"className\\\":\\\"token maybe-class-name\\\",\\\"children\\\":\\\"ChatAlibabaTongyi\\\"}],\\\" \\\",[\\\"$\\\",\\\"span\\\",null,{\\\"className\\\":\\\"token punctuation\\\",\\\"children\\\":\\\"}\\\"}]]}],\\\" \\\",[\\\"$\\\",\\\"span\\\",null,{\\\"className\\\":\\\"token keyword module\\\",\\\"children\\\":\\\"from\\\"}],\\\" \\\",[\\\"$\\\",\\\"span\\\",null,{\\\"className\\\":\\\"token string\\\",\\\"children\\\":\\\"\\\\\\\"@langchain/community/chat_models/alibaba_tongyi\\\\\\\"\\\"}],[\\\"$\\\",\\\"span\\\",null,{\\\"className\\\":\\\"token punctuation\\\",\\\"children\\\":\\\";\\\"}],\\\"\\\\n\\\"]}],[\\\"$\\\",\\\"span\\\",null,{\\\"className\\\":\\\"code-line\\\",\\\"children\\\":[\\\"  \\\",[\\\"$\\\",\\\"span\\\",null,{\\\"className\\\":\\\"token keyword module\\\",\\\"children\\\":\\\"import\\\"}],\\\" \\\",[\\\"$\\\",\\\"span\\\",null,{\\\"className\\\":\\\"token imports\\\",\\\"children\\\":[[\\\"$\\\",\\\"span\\\",null,{\\\"className\\\":\\\"token punctuation\\\",\\\"children\\\":\\\"{\\\"}],\\\" \\\",[\\\"$\\\",\\\"span\\\",null,{\\\"className\\\":\\\"token maybe-class-name\\\",\\\"children\\\":\\\"HumanMessage\\\"}],\\\" \\\",[\\\"$\\\",\\\"span\\\",null,{\\\"className\\\":\\\"token punctuation\\\",\\\"children\\\":\\\"}\\\"}]]}],\\\" \\\",[\\\"$\\\",\\\"span\\\",null,{\\\"className\\\":\\\"token keyword module\\\",\\\"children\\\":\\\"from\\\"}],\\\" \\\",[\\\"$\\\",\\\"span\\\",null,{\\\"className\\\":\\\"token string\\\",\\\"children\\\":\\\"\\\\\\\"@langchain/core/messages\\\\\\\"\\\"}],[\\\"$\\\",\\\"span\\\",null,{\\\"className\\\":\\\"token punctuation\\\",\\\"children\\\":\\\";\\\"}],\\\"\\\\n\\\"]}],[\\\"$\\\",\\\"span\\\",null,{\\\"className\\\":\\\"code-line\\\",\\\"children\\\":[\\\"  \\\",[\\\"$\\\",\\\"span\\\",null,{\\\"className\\\":\\\"token keyword module\\\",\\\"children\\\":\\\"import\\\"}],\\\" \\\",[\\\"$\\\",\\\"span\\\",null,{\\\"className\\\":\\\"token imports\\\",\\\"children\\\":[[\\\"$\\\",\\\"span\\\",null,{\\\"className\\\":\\\"token punctuation\\\",\\\"children\\\":\\\"{\\\"}],\\\" \\\",[\\\"$\\\",\\\"span\\\",null,{\\\"className\\\":\\\"token maybe-class-name\\\",\\\"children\\\":\\\"StringOutputParser\\\"}],\\\" \\\",[\\\"$\\\",\\\"span\\\",null,{\\\"className\\\":\\\"token punctuation\\\",\\\"children\\\":\\\"}\\\"}]]}],\\\" \\\",[\\\"$\\\",\\\"span\\\",null,{\\\"className\\\":\\\"token keyword module\\\",\\\"children\\\":\\\"from\\\"}],\\\" \\\",[\\\"$\\\",\\\"span\\\",null,{\\\"className\\\":\\\"token string\\\",\\\"children\\\":\\\"\\\\\\\"@langchain/core/output_parsers\\\\\\\"\\\"}],[\\\"$\\\",\\\"span\\\",null,{\\\"className\\\":\\\"token punctuation\\\",\\\"children\\\":\\\";\\\"}],\\\"\\\\n\\\"]}],[\\\"$\\\",\\\"span\\\",null,{\\\"className\\\":\\\"code-line\\\",\\\"children\\\":\\\"\\\\n\\\"}],[\\\"$\\\",\\\"span\\\",null,{\\\"className\\\":\\\"code-line\\\",\\\"children\\\":[\\\"  \\\",[\\\"$\\\",\\\"span\\\",null,{\\\"className\\\":\\\"token keyword\\\",\\\"children\\\":\\\"const\\\"}],\\\" model \\\",[\\\"$\\\",\\\"span\\\",null,{\\\"className\\\":\\\"token operator\\\",\\\"children\\\":\\\"=\\\"}],\\\" \\\",[\\\"$\\\",\\\"span\\\",null,{\\\"className\\\":\\\"token keyword\\\",\\\"children\\\":\\\"new\\\"}],\\\" \\\",[\\\"$\\\",\\\"span\\\",null,{\\\"className\\\":\\\"token class-name\\\",\\\"children\\\":\\\"ChatAlibabaTongyi\\\"}],[\\\"$\\\",\\\"span\\\",null,{\\\"className\\\":\\\"token punctuation\\\",\\\"children\\\":\\\"(\\\"}],[\\\"$\\\",\\\"span\\\",null,{\\\"className\\\":\\\"token punctuation\\\",\\\"children\\\":\\\"{\\\"}],\\\"\\\\n\\\"]}],[\\\"$\\\",\\\"span\\\",null,{\\\"className\\\":\\\"code-line\\\",\\\"children\\\":[\\\"    \\\",[\\\"$\\\",\\\"span\\\",null,{\\\"className\\\":\\\"token property literal-property\\\",\\\"children\\\":\\\"model\\\"}],[\\\"$\\\",\\\"span\\\",null,{\\\"className\\\":\\\"token operator\\\",\\\"children\\\":\\\":\\\"}],\\\" \\\",[\\\"$\\\",\\\"span\\\",null,{\\\"className\\\":\\\"token string\\\",\\\"children\\\":\\\"\\\\\\\"qwen-turbo\\\\\\\"\\\"}],[\\\"$\\\",\\\"span\\\",null,{\\\"className\\\":\\\"token punctuation\\\",\\\"children\\\":\\\",\\\"}],\\\" \\\",[\\\"$\\\",\\\"span\\\",null,{\\\"className\\\":\\\"token comment\\\",\\\"children\\\":\\\"// Available models: qwen-turbo, qwen-plus, qwen-max\\\"}],\\\"\\\\n\\\"]}],[\\\"$\\\",\\\"span\\\",null,{\\\"className\\\":\\\"code-line\\\",\\\"children\\\":[\\\"    \\\",[\\\"$\\\",\\\"span\\\",null,{\\\"className\\\":\\\"token property literal-property\\\",\\\"children\\\":\\\"temperature\\\"}],[\\\"$\\\",\\\"span\\\",null,{\\\"className\\\":\\\"token operator\\\",\\\"children\\\":\\\":\\\"}],\\\" \\\",[\\\"$\\\",\\\"span\\\",null,{\\\"className\\\":\\\"token number\\\",\\\"children\\\":\\\"1\\\"}],[\\\"$\\\",\\\"span\\\",null,{\\\"className\\\":\\\"token punctuation\\\",\\\"children\\\":\\\",\\\"}],\\\"\\\\n\\\"]}],[\\\"$\\\",\\\"span\\\",null,{\\\"className\\\":\\\"code-line\\\",\\\"children\\\":[\\\"    \\\",[\\\"$\\\",\\\"span\\\",null,{\\\"className\\\":\\\"token property literal-property\\\",\\\"children\\\":\\\"maxRetries\\\"}],[\\\"$\\\",\\\"span\\\",null,{\\\"className\\\":\\\"token operator\\\",\\\"children\\\":\\\":\\\"}],\\\" \\\",[\\\"$\\\",\\\"span\\\",null,{\\\"className\\\":\\\"token number\\\",\\\"children\\\":\\\"0\\\"}],[\\\"$\\\",\\\"span\\\",null,{\\\"className\\\":\\\"token punctuation\\\",\\\"children\\\":\\\",\\\"}],\\\" \\\",[\\\"$\\\",\\\"span\\\",null,{\\\"className\\\":\\\"token comment\\\",\\\"children\\\":\\\"// 出错重试次数\\\"}],\\\"\\\\n\\\"]}],[\\\"$\\\",\\\"span\\\",null,{\\\"className\\\":\\\"code-line\\\",\\\"children\\\":[\\\"  \\\",[\\\"$\\\",\\\"span\\\",null,{\\\"className\\\":\\\"token punctuation\\\",\\\"children\\\":\\\"}\\\"}],[\\\"$\\\",\\\"span\\\",null,{\\\"className\\\":\\\"token punctuation\\\",\\\"children\\\":\\\")\\\"}],[\\\"$\\\",\\\"span\\\",null,{\\\"className\\\":\\\"token punctuation\\\",\\\"children\\\":\\\";\\\"}],\\\"\\\\n\\\"]}],[\\\"$\\\",\\\"span\\\",null,{\\\"className\\\":\\\"code-line\\\",\\\"children\\\":\\\"\\\\n\\\"}],[\\\"$\\\",\\\"span\\\",null,{\\\"className\\\":\\\"code-line\\\",\\\"children\\\":[\\\"  \\\",[\\\"$\\\",\\\"span\\\",null,{\\\"className\\\":\\\"token keyword\\\",\\\"children\\\":\\\"const\\\"}],\\\" outputPrase \\\",[\\\"$\\\",\\\"span\\\",null,{\\\"className\\\":\\\"token operator\\\",\\\"children\\\":\\\"=\\\"}],\\\" \\\",[\\\"$\\\",\\\"span\\\",null,{\\\"className\\\":\\\"token keyword\\\",\\\"children\\\":\\\"new\\\"}],\\\" \\\",[\\\"$\\\",\\\"span\\\",null,{\\\"className\\\":\\\"token class-name\\\",\\\"children\\\":\\\"StringOutputParser\\\"}],[\\\"$\\\",\\\"span\\\",null,{\\\"className\\\":\\\"token punctuation\\\",\\\"children\\\":\\\"(\\\"}],[\\\"$\\\",\\\"span\\\",null,{\\\"className\\\":\\\"token punctuation\\\",\\\"children\\\":\\\")\\\"}],[\\\"$\\\",\\\"span\\\",null,{\\\"className\\\":\\\"token punctuation\\\",\\\"children\\\":\\\";\\\"}],\\\"\\\\n\\\"]}],[\\\"$\\\",\\\"span\\\",null,{\\\"className\\\":\\\"code-line\\\",\\\"children\\\":[\\\"  \\\",[\\\"$\\\",\\\"span\\\",null,{\\\"className\\\":\\\"token keyword\\\",\\\"children\\\":\\\"const\\\"}],\\\" simpleChain \\\",[\\\"$\\\",\\\"span\\\",null,{\\\"className\\\":\\\"token operator\\\",\\\"children\\\":\\\"=\\\"}],\\\" model\\\",[\\\"$\\\",\\\"span\\\",null,{\\\"className\\\":\\\"token punctuation\\\",\\\"children\\\":\\\".\\\"}],[\\\"$\\\",\\\"span\\\",null,{\\\"className\\\":\\\"token function property-access method\\\",\\\"children\\\":\\\"pipe\\\"}],[\\\"$\\\",\\\"span\\\",null,{\\\"className\\\":\\\"token punctuation\\\",\\\"children\\\":\\\"(\\\"}],\\\"outputPrase\\\",[\\\"$\\\",\\\"span\\\",null,{\\\"className\\\":\\\"token punctuation\\\",\\\"children\\\":\\\")\\\"}],[\\\"$\\\",\\\"span\\\",null,{\\\"className\\\":\\\"token punctuation\\\",\\\"children\\\":\\\";\\\"}],\\\"\\\\n\\\"]}],[\\\"$\\\",\\\"span\\\",null,{\\\"className\\\":\\\"code-line\\\",\\\"children\\\":\\\"\\\\n\\\"}],[\\\"$\\\",\\\"span\\\",null,{\\\"className\\\":\\\"code-line\\\",\\\"children\\\":[\\\"  \\\",[\\\"$\\\",\\\"span\\\",null,{\\\"className\\\":\\\"token keyword\\\",\\\"children\\\":\\\"const\\\"}],\\\" stream \\\",[\\\"$\\\",\\\"span\\\",null,{\\\"className\\\":\\\"token operator\\\",\\\"children\\\":\\\"=\\\"}],\\\" \\\",[\\\"$\\\",\\\"span\\\",null,{\\\"className\\\":\\\"token keyword control-flow\\\",\\\"children\\\":\\\"await\\\"}],\\\" simpleChain\\\",[\\\"$\\\",\\\"span\\\",null,{\\\"className\\\":\\\"token punctuation\\\",\\\"children\\\":\\\".\\\"}],[\\\"$\\\",\\\"span\\\",null,{\\\"className\\\":\\\"token function property-access method\\\",\\\"children\\\":\\\"invoke\\\"}],[\\\"$\\\",\\\"span\\\",null,{\\\"className\\\":\\\"token punctuation\\\",\\\"children\\\":\\\"(\\\"}],[\\\"$\\\",\\\"span\\\",null,{\\\"className\\\":\\\"token punctuation\\\",\\\"children\\\":\\\"[\\\"}],\\\"\\\\n\\\"]}],[\\\"$\\\",\\\"span\\\",null,{\\\"className\\\":\\\"code-line\\\",\\\"children\\\":[\\\"    \\\",[\\\"$\\\",\\\"span\\\",null,{\\\"className\\\":\\\"token keyword\\\",\\\"children\\\":\\\"new\\\"}],\\\" \\\",[\\\"$\\\",\\\"span\\\",null,{\\\"className\\\":\\\"token class-name\\\",\\\"children\\\":\\\"HumanMessage\\\"}],[\\\"$\\\",\\\"span\\\",null,{\\\"className\\\":\\\"token punctuation\\\",\\\"children\\\":\\\"(\\\"}],[\\\"$\\\",\\\"span\\\",null,{\\\"className\\\":\\\"token string\\\",\\\"children\\\":\\\"\\\\\\\"你是谁\\\\\\\"\\\"}],[\\\"$\\\",\\\"span\\\",null,{\\\"className\\\":\\\"token punctuation\\\",\\\"children\\\":\\\")\\\"}],[\\\"$\\\",\\\"span\\\",null,{\\\"className\\\":\\\"token punctuation\\\",\\\"children\\\":\\\",\\\"}],\\\"\\\\n\\\"]}],[\\\"$\\\",\\\"span\\\",null,{\\\"className\\\":\\\"code-line\\\",\\\"children\\\":[\\\"    \\\",[\\\"$\\\",\\\"span\\\",null,{\\\"className\\\":\\\"token keyword\\\",\\\"children\\\":\\\"new\\\"}],\\\" \\\",[\\\"$\\\",\\\"span\\\",null,{\\\"className\\\":\\\"token class-name\\\",\\\"children\\\":\\\"HumanMessage\\\"}],[\\\"$\\\",\\\"span\\\",null,{\\\"className\\\":\\\"token punctuation\\\",\\\"children\\\":\\\"(\\\"}],[\\\"$\\\",\\\"span\\\",null,{\\\"className\\\":\\\"token string\\\",\\\"children\\\":\\\"\\\\\\\"讲个笑话\\\\\\\"\\\"}],[\\\"$\\\",\\\"span\\\",null,{\\\"className\\\":\\\"token punctuation\\\",\\\"children\\\":\\\")\\\"}],[\\\"$\\\",\\\"span\\\",null,{\\\"className\\\":\\\"token punctuation\\\",\\\"children\\\":\\\",\\\"}],\\\"\\\\n\\\"]}],[\\\"$\\\",\\\"span\\\",null,{\\\"className\\\":\\\"code-line\\\",\\\"children\\\":[\\\"  \\\",[\\\"$\\\",\\\"span\\\",null,{\\\"className\\\":\\\"token punctuation\\\",\\\"children\\\":\\\"]\\\"}],[\\\"$\\\",\\\"span\\\",null,{\\\"className\\\":\\\"token punctuation\\\",\\\"children\\\":\\\")\\\"}],[\\\"$\\\",\\\"span\\\",null,{\\\"className\\\":\\\"token punctuation\\\",\\\"children\\\":\\\";\\\"}],\\\"\\\\n\\\"]}],[\\\"$\\\",\\\"span\\\",null,{\\\"className\\\":\\\"code-line\\\",\\\"children\\\":\\\"\\\\n\\\"}],[\\\"$\\\",\\\"span\\\",null,{\\\"className\\\":\\\"code-line\\\",\\\"children\\\":[\\\"  \\\",[\\\"$\\\",\\\"span\\\",null,{\\\"className\\\":\\\"token class-name console\\\",\\\"children\\\":\\\"console\\\"}],[\\\"$\\\",\\\"span\\\",null,{\\\"className\\\":\\\"token punctuation\\\",\\\"children\\\":\\\".\\\"}],[\\\"$\\\",\\\"span\\\",null,{\\\"className\\\":\\\"token function property-access method\\\",\\\"children\\\":\\\"log\\\"}],[\\\"$\\\",\\\"span\\\",null,{\\\"className\\\":\\\"token punctuation\\\",\\\"children\\\":\\\"(\\\"}],\\\"stream\\\",[\\\"$\\\",\\\"span\\\",null,{\\\"className\\\":\\\"token punctuation\\\",\\\"children\\\":\\\")\\\"}],[\\\"$\\\",\\\"span\\\",null,{\\\"className\\\":\\\"token punctuation\\\",\\\"children\\\":\\\";\\\"}],\\\"\\\\n\\\"]}]]}]}],[\\\"$\\\",\\\"p\\\",null,{\\\"children\\\":\\\"使用 withFallbacks 增加 fallBack 保证在环境差的情况下也有输出：\\\"}],[\\\"$\\\",\\\"$L18\\\",null,{\\\"className\\\":\\\"language-js\\\",\\\"children\\\":[\\\"$\\\",\\\"code\\\",null,{\\\"className\\\":\\\"code-highlight language-js\\\",\\\"children\\\":[[\\\"$\\\",\\\"span\\\",null,{\\\"className\\\":\\\"code-line\\\",\\\"children\\\":[\\\"  \\\",[\\\"$\\\",\\\"span\\\",null,{\\\"className\\\":\\\"token keyword module\\\",\\\"children\\\":\\\"import\\\"}],\\\" \\\",[\\\"$\\\",\\\"span\\\",null,{\\\"className\\\":\\\"token imports\\\",\\\"children\\\":[[\\\"$\\\",\\\"span\\\",null,{\\\"className\\\":\\\"token punctuation\\\",\\\"children\\\":\\\"{\\\"}],\\\" \\\",[\\\"$\\\",\\\"span\\\",null,{\\\"className\\\":\\\"token maybe-class-name\\\",\\\"children\\\":\\\"ChatAlibabaTongyi\\\"}],\\\" \\\",[\\\"$\\\",\\\"span\\\",null,{\\\"className\\\":\\\"token punctuation\\\",\\\"children\\\":\\\"}\\\"}]]}],\\\" \\\",[\\\"$\\\",\\\"span\\\",null,{\\\"className\\\":\\\"token keyword module\\\",\\\"children\\\":\\\"from\\\"}],\\\" \\\",[\\\"$\\\",\\\"span\\\",null,{\\\"className\\\":\\\"token string\\\",\\\"children\\\":\\\"\\\\\\\"@langchain/community/chat_models/alibaba_tongyi\\\\\\\"\\\"}],[\\\"$\\\",\\\"span\\\",null,{\\\"className\\\":\\\"token punctuation\\\",\\\"children\\\":\\\";\\\"}],\\\"\\\\n\\\"]}],[\\\"$\\\",\\\"span\\\",null,{\\\"className\\\":\\\"code-line\\\",\\\"children\\\":[\\\"  \\\",[\\\"$\\\",\\\"span\\\",null,{\\\"className\\\":\\\"token keyword module\\\",\\\"children\\\":\\\"import\\\"}],\\\" \\\",[\\\"$\\\",\\\"span\\\",null,{\\\"className\\\":\\\"token imports\\\",\\\"children\\\":[[\\\"$\\\",\\\"span\\\",null,{\\\"className\\\":\\\"token punctuation\\\",\\\"children\\\":\\\"{\\\"}],\\\" \\\",[\\\"$\\\",\\\"span\\\",null,{\\\"className\\\":\\\"token maybe-class-name\\\",\\\"children\\\":\\\"HumanMessage\\\"}],\\\" \\\",[\\\"$\\\",\\\"span\\\",null,{\\\"className\\\":\\\"token punctuation\\\",\\\"children\\\":\\\"}\\\"}]]}],\\\" \\\",[\\\"$\\\",\\\"span\\\",null,{\\\"className\\\":\\\"token keyword module\\\",\\\"children\\\":\\\"from\\\"}],\\\" \\\",[\\\"$\\\",\\\"span\\\",null,{\\\"className\\\":\\\"token string\\\",\\\"children\\\":\\\"\\\\\\\"@langchain/core/messages\\\\\\\"\\\"}],[\\\"$\\\",\\\"span\\\",null,{\\\"className\\\":\\\"token punctuation\\\",\\\"children\\\":\\\";\\\"}],\\\"\\\\n\\\"]}],[\\\"$\\\",\\\"span\\\",null,{\\\"className\\\":\\\"code-line\\\",\\\"children\\\":[\\\"  \\\",[\\\"$\\\",\\\"span\\\",null,{\\\"className\\\":\\\"token keyword module\\\",\\\"children\\\":\\\"import\\\"}],\\\" \\\",[\\\"$\\\",\\\"span\\\",null,{\\\"className\\\":\\\"token imports\\\",\\\"children\\\":[[\\\"$\\\",\\\"span\\\",null,{\\\"className\\\":\\\"token punctuation\\\",\\\"children\\\":\\\"{\\\"}],\\\" \\\",[\\\"$\\\",\\\"span\\\",null,{\\\"className\\\":\\\"token maybe-class-name\\\",\\\"children\\\":\\\"StringOutputParser\\\"}],\\\" \\\",[\\\"$\\\",\\\"span\\\",null,{\\\"className\\\":\\\"token punctuation\\\",\\\"children\\\":\\\"}\\\"}]]}],\\\" \\\",[\\\"$\\\",\\\"span\\\",null,{\\\"className\\\":\\\"token keyword module\\\",\\\"children\\\":\\\"from\\\"}],\\\" \\\",[\\\"$\\\",\\\"span\\\",null,{\\\"className\\\":\\\"token string\\\",\\\"children\\\":\\\"\\\\\\\"@langchain/core/output_parsers\\\\\\\"\\\"}],[\\\"$\\\",\\\"span\\\",null,{\\\"className\\\":\\\"token punctuation\\\",\\\"children\\\":\\\";\\\"}],\\\"\\\\n\\\"]}],[\\\"$\\\",\\\"span\\\",null,{\\\"className\\\":\\\"code-line\\\",\\\"children\\\":\\\"\\\\n\\\"}],[\\\"$\\\",\\\"span\\\",null,{\\\"className\\\":\\\"code-line\\\",\\\"children\\\":[\\\"  \\\",[\\\"$\\\",\\\"span\\\",null,{\\\"className\\\":\\\"token keyword\\\",\\\"children\\\":\\\"const\\\"}],\\\" model \\\",[\\\"$\\\",\\\"span\\\",null,{\\\"className\\\":\\\"token operator\\\",\\\"children\\\":\\\"=\\\"}],\\\" \\\",[\\\"$\\\",\\\"span\\\",null,{\\\"className\\\":\\\"token keyword\\\",\\\"children\\\":\\\"new\\\"}],\\\" \\\",[\\\"$\\\",\\\"span\\\",null,{\\\"className\\\":\\\"token class-name\\\",\\\"children\\\":\\\"ChatAlibabaTongyi\\\"}],[\\\"$\\\",\\\"span\\\",null,{\\\"className\\\":\\\"token punctuation\\\",\\\"children\\\":\\\"(\\\"}],[\\\"$\\\",\\\"span\\\",null,{\\\"className\\\":\\\"token punctuation\\\",\\\"children\\\":\\\"{\\\"}],\\\"\\\\n\\\"]}],[\\\"$\\\",\\\"span\\\",null,{\\\"className\\\":\\\"code-line\\\",\\\"children\\\":[\\\"    \\\",[\\\"$\\\",\\\"span\\\",null,{\\\"className\\\":\\\"token property literal-property\\\",\\\"children\\\":\\\"model\\\"}],[\\\"$\\\",\\\"span\\\",null,{\\\"className\\\":\\\"token operator\\\",\\\"children\\\":\\\":\\\"}],\\\" \\\",[\\\"$\\\",\\\"span\\\",null,{\\\"className\\\":\\\"token string\\\",\\\"children\\\":\\\"\\\\\\\"qwen-turbo\\\\\\\"\\\"}],[\\\"$\\\",\\\"span\\\",null,{\\\"className\\\":\\\"token punctuation\\\",\\\"children\\\":\\\",\\\"}],\\\" \\\",[\\\"$\\\",\\\"span\\\",null,{\\\"className\\\":\\\"token comment\\\",\\\"children\\\":\\\"// Available models: qwen-turbo, qwen-plus, qwen-max\\\"}],\\\"\\\\n\\\"]}],[\\\"$\\\",\\\"span\\\",null,{\\\"className\\\":\\\"code-line\\\",\\\"children\\\":[\\\"    \\\",[\\\"$\\\",\\\"span\\\",null,{\\\"className\\\":\\\"token property literal-property\\\",\\\"children\\\":\\\"temperature\\\"}],[\\\"$\\\",\\\"span\\\",null,{\\\"className\\\":\\\"token operator\\\",\\\"children\\\":\\\":\\\"}],\\\" \\\",[\\\"$\\\",\\\"span\\\",null,{\\\"className\\\":\\\"token number\\\",\\\"children\\\":\\\"1\\\"}],[\\\"$\\\",\\\"span\\\",null,{\\\"className\\\":\\\"token punctuation\\\",\\\"children\\\":\\\",\\\"}],\\\"\\\\n\\\"]}],[\\\"$\\\",\\\"span\\\",null,{\\\"className\\\":\\\"code-line\\\",\\\"children\\\":[\\\"    \\\",[\\\"$\\\",\\\"span\\\",null,{\\\"className\\\":\\\"token property literal-property\\\",\\\"children\\\":\\\"maxRetries\\\"}],[\\\"$\\\",\\\"span\\\",null,{\\\"className\\\":\\\"token operator\\\",\\\"children\\\":\\\":\\\"}],\\\" \\\",[\\\"$\\\",\\\"span\\\",null,{\\\"className\\\":\\\"token number\\\",\\\"children\\\":\\\"0\\\"}],[\\\"$\\\",\\\"span\\\",null,{\\\"className\\\":\\\"token punctuation\\\",\\\"children\\\":\\\",\\\"}],\\\" \\\",[\\\"$\\\",\\\"span\\\",null,{\\\"className\\\":\\\"token comment\\\",\\\"children\\\":\\\"// 出错重试次数\\\"}],\\\"\\\\n\\\"]}],[\\\"$\\\",\\\"span\\\",null,{\\\"className\\\":\\\"code-line\\\",\\\"children\\\":[\\\"  \\\",[\\\"$\\\",\\\"span\\\",null,{\\\"className\\\":\\\"token punctuation\\\",\\\"children\\\":\\\"}\\\"}],[\\\"$\\\",\\\"span\\\",null,{\\\"className\\\":\\\"token punctuation\\\",\\\"children\\\":\\\")\\\"}],[\\\"$\\\",\\\"span\\\",null,{\\\"className\\\":\\\"token punctuation\\\",\\\"children\\\":\\\";\\\"}],\\\"\\\\n\\\"]}],[\\\"$\\\",\\\"span\\\",null,{\\\"className\\\":\\\"code-line\\\",\\\"children\\\":\\\"\\\\n\\\"}],[\\\"$\\\",\\\"span\\\",null,{\\\"className\\\":\\\"code-line\\\",\\\"children\\\":[\\\"  \\\",[\\\"$\\\",\\\"span\\\",null,{\\\"className\\\":\\\"token keyword\\\",\\\"children\\\":\\\"const\\\"}],\\\" model2 \\\",[\\\"$\\\",\\\"span\\\",null,{\\\"className\\\":\\\"token operator\\\",\\\"children\\\":\\\"=\\\"}],\\\" \\\",[\\\"$\\\",\\\"span\\\",null,{\\\"className\\\":\\\"token keyword\\\",\\\"children\\\":\\\"new\\\"}],\\\" \\\",[\\\"$\\\",\\\"span\\\",null,{\\\"className\\\":\\\"token class-name\\\",\\\"children\\\":\\\"ChatAlibabaTongyi\\\"}],[\\\"$\\\",\\\"span\\\",null,{\\\"className\\\":\\\"token punctuation\\\",\\\"children\\\":\\\"(\\\"}],[\\\"$\\\",\\\"span\\\",null,{\\\"className\\\":\\\"token punctuation\\\",\\\"children\\\":\\\"{\\\"}],\\\"\\\\n\\\"]}],[\\\"$\\\",\\\"span\\\",null,{\\\"className\\\":\\\"code-line\\\",\\\"children\\\":[\\\"    \\\",[\\\"$\\\",\\\"span\\\",null,{\\\"className\\\":\\\"token property literal-property\\\",\\\"children\\\":\\\"model\\\"}],[\\\"$\\\",\\\"span\\\",null,{\\\"className\\\":\\\"token operator\\\",\\\"children\\\":\\\":\\\"}],\\\" \\\",[\\\"$\\\",\\\"span\\\",null,{\\\"className\\\":\\\"token string\\\",\\\"children\\\":\\\"\\\\\\\"qwen-plus\\\\\\\"\\\"}],[\\\"$\\\",\\\"span\\\",null,{\\\"className\\\":\\\"token punctuation\\\",\\\"children\\\":\\\",\\\"}],\\\" \\\",[\\\"$\\\",\\\"span\\\",null,{\\\"className\\\":\\\"token comment\\\",\\\"children\\\":\\\"// Available models: qwen-turbo, qwen-plus, qwen-max\\\"}],\\\"\\\\n\\\"]}],[\\\"$\\\",\\\"span\\\",null,{\\\"className\\\":\\\"code-line\\\",\\\"children\\\":[\\\"    \\\",[\\\"$\\\",\\\"span\\\",null,{\\\"className\\\":\\\"token property literal-property\\\",\\\"children\\\":\\\"temperature\\\"}],[\\\"$\\\",\\\"span\\\",null,{\\\"className\\\":\\\"token operator\\\",\\\"children\\\":\\\":\\\"}],\\\" \\\",[\\\"$\\\",\\\"span\\\",null,{\\\"className\\\":\\\"token number\\\",\\\"children\\\":\\\"1\\\"}],[\\\"$\\\",\\\"span\\\",null,{\\\"className\\\":\\\"token punctuation\\\",\\\"children\\\":\\\",\\\"}],\\\"\\\\n\\\"]}],[\\\"$\\\",\\\"span\\\",null,{\\\"className\\\":\\\"code-line\\\",\\\"children\\\":[\\\"    \\\",[\\\"$\\\",\\\"span\\\",null,{\\\"className\\\":\\\"token property literal-property\\\",\\\"children\\\":\\\"maxRetries\\\"}],[\\\"$\\\",\\\"span\\\",null,{\\\"className\\\":\\\"token operator\\\",\\\"children\\\":\\\":\\\"}],\\\" \\\",[\\\"$\\\",\\\"span\\\",null,{\\\"className\\\":\\\"token number\\\",\\\"children\\\":\\\"0\\\"}],[\\\"$\\\",\\\"span\\\",null,{\\\"className\\\":\\\"token punctuation\\\",\\\"children\\\":\\\",\\\"}],\\\" \\\",[\\\"$\\\",\\\"span\\\",null,{\\\"className\\\":\\\"token comment\\\",\\\"children\\\":\\\"// 出错重试次数\\\"}],\\\"\\\\n\\\"]}],[\\\"$\\\",\\\"span\\\",null,{\\\"className\\\":\\\"code-line\\\",\\\"children\\\":[\\\"  \\\",[\\\"$\\\",\\\"span\\\",null,{\\\"className\\\":\\\"token punctuation\\\",\\\"children\\\":\\\"}\\\"}],[\\\"$\\\",\\\"span\\\",null,{\\\"className\\\":\\\"token punctuation\\\",\\\"children\\\":\\\")\\\"}],[\\\"$\\\",\\\"span\\\",null,{\\\"className\\\":\\\"token punctuation\\\",\\\"children\\\":\\\";\\\"}],\\\"\\\\n\\\"]}],[\\\"$\\\",\\\"span\\\",null,{\\\"className\\\":\\\"code-line\\\",\\\"children\\\":\\\"\\\\n\\\"}],[\\\"$\\\",\\\"span\\\",null,{\\\"className\\\":\\\"code-line\\\",\\\"children\\\":[\\\"  \\\",[\\\"$\\\",\\\"span\\\",null,{\\\"className\\\":\\\"token keyword\\\",\\\"children\\\":\\\"const\\\"}],\\\" fallbackModl \\\",[\\\"$\\\",\\\"span\\\",null,{\\\"className\\\":\\\"token operator\\\",\\\"children\\\":\\\"=\\\"}],\\\" model\\\",[\\\"$\\\",\\\"span\\\",null,{\\\"className\\\":\\\"token punctuation\\\",\\\"children\\\":\\\".\\\"}],[\\\"$\\\",\\\"span\\\",null,{\\\"className\\\":\\\"token function property-access method\\\",\\\"children\\\":\\\"withFallbacks\\\"}],[\\\"$\\\",\\\"span\\\",null,{\\\"className\\\":\\\"token punctuation\\\",\\\"children\\\":\\\"(\\\"}],[\\\"$\\\",\\\"span\\\",null,{\\\"className\\\":\\\"token punctuation\\\",\\\"children\\\":\\\"{\\\"}],\\\"\\\\n\\\"]}],[\\\"$\\\",\\\"span\\\",null,{\\\"className\\\":\\\"code-line\\\",\\\"children\\\":[\\\"    \\\",[\\\"$\\\",\\\"span\\\",null,{\\\"className\\\":\\\"token property literal-property\\\",\\\"children\\\":\\\"fallbacks\\\"}],[\\\"$\\\",\\\"span\\\",null,{\\\"className\\\":\\\"token operator\\\",\\\"children\\\":\\\":\\\"}],\\\" \\\",[\\\"$\\\",\\\"span\\\",null,{\\\"className\\\":\\\"token punctuation\\\",\\\"children\\\":\\\"[\\\"}],\\\"model2\\\",[\\\"$\\\",\\\"span\\\",null,{\\\"className\\\":\\\"token punctuation\\\",\\\"children\\\":\\\"]\\\"}],\\\"\\\\n\\\"]}],[\\\"$\\\",\\\"span\\\",null,{\\\"className\\\":\\\"code-line\\\",\\\"children\\\":[\\\"  \\\",[\\\"$\\\",\\\"span\\\",null,{\\\"className\\\":\\\"token punctuation\\\",\\\"children\\\":\\\"}\\\"}],[\\\"$\\\",\\\"span\\\",null,{\\\"className\\\":\\\"token punctuation\\\",\\\"children\\\":\\\")\\\"}],\\\"\\\\n\\\"]}],[\\\"$\\\",\\\"span\\\",null,{\\\"className\\\":\\\"code-line\\\",\\\"children\\\":\\\"\\\\n\\\"}],[\\\"$\\\",\\\"span\\\",null,{\\\"className\\\":\\\"code-line\\\",\\\"children\\\":[\\\"  \\\",[\\\"$\\\",\\\"span\\\",null,{\\\"className\\\":\\\"token keyword\\\",\\\"children\\\":\\\"const\\\"}],\\\" outputPrase \\\",[\\\"$\\\",\\\"span\\\",null,{\\\"className\\\":\\\"token operator\\\",\\\"children\\\":\\\"=\\\"}],\\\" \\\",[\\\"$\\\",\\\"span\\\",null,{\\\"className\\\":\\\"token keyword\\\",\\\"children\\\":\\\"new\\\"}],\\\" \\\",[\\\"$\\\",\\\"span\\\",null,{\\\"className\\\":\\\"token class-name\\\",\\\"children\\\":\\\"StringOutputParser\\\"}],[\\\"$\\\",\\\"span\\\",null,{\\\"className\\\":\\\"token punctuation\\\",\\\"children\\\":\\\"(\\\"}],[\\\"$\\\",\\\"span\\\",null,{\\\"className\\\":\\\"token punctuation\\\",\\\"children\\\":\\\")\\\"}],[\\\"$\\\",\\\"span\\\",null,{\\\"className\\\":\\\"token punctuation\\\",\\\"children\\\":\\\";\\\"}],\\\"\\\\n\\\"]}],[\\\"$\\\",\\\"span\\\",null,{\\\"className\\\":\\\"code-line\\\",\\\"children\\\":[\\\"  \\\",[\\\"$\\\",\\\"span\\\",null,{\\\"className\\\":\\\"token keyword\\\",\\\"children\\\":\\\"const\\\"}],\\\" simpleChain \\\",[\\\"$\\\",\\\"span\\\",null,{\\\"className\\\":\\\"token operator\\\",\\\"children\\\":\\\"=\\\"}],\\\" fallbackModl\\\",[\\\"$\\\",\\\"span\\\",null,{\\\"className\\\":\\\"token punctuation\\\",\\\"children\\\":\\\".\\\"}],[\\\"$\\\",\\\"span\\\",null,{\\\"className\\\":\\\"token function property-access method\\\",\\\"children\\\":\\\"pipe\\\"}],[\\\"$\\\",\\\"span\\\",null,{\\\"className\\\":\\\"token punctuation\\\",\\\"children\\\":\\\"(\\\"}],\\\"outputPrase\\\",[\\\"$\\\",\\\"span\\\",null,{\\\"className\\\":\\\"token punctuation\\\",\\\"children\\\":\\\")\\\"}],[\\\"$\\\",\\\"span\\\",null,{\\\"className\\\":\\\"token punctuation\\\",\\\"children\\\":\\\";\\\"}],\\\"\\\\n\\\"]}],[\\\"$\\\",\\\"span\\\",null,{\\\"className\\\":\\\"code-line\\\",\\\"children\\\":\\\"\\\\n\\\"}],[\\\"$\\\",\\\"span\\\",null,{\\\"className\\\":\\\"code-line\\\",\\\"children\\\":\\\"\\\\n\\\"}],[\\\"$\\\",\\\"span\\\",null,{\\\"className\\\":\\\"code-line\\\",\\\"children\\\":[\\\"  \\\",[\\\"$\\\",\\\"span\\\",null,{\\\"className\\\":\\\"token keyword\\\",\\\"children\\\":\\\"const\\\"}],\\\" stream \\\",[\\\"$\\\",\\\"span\\\",null,{\\\"className\\\":\\\"token operator\\\",\\\"children\\\":\\\"=\\\"}],\\\" \\\",[\\\"$\\\",\\\"span\\\",null,{\\\"className\\\":\\\"token keyword control-flow\\\",\\\"children\\\":\\\"await\\\"}],\\\" simpleChain\\\",[\\\"$\\\",\\\"span\\\",null,{\\\"className\\\":\\\"token punctuation\\\",\\\"children\\\":\\\".\\\"}],[\\\"$\\\",\\\"span\\\",null,{\\\"className\\\":\\\"token function property-access method\\\",\\\"children\\\":\\\"invoke\\\"}],[\\\"$\\\",\\\"span\\\",null,{\\\"className\\\":\\\"token punctuation\\\",\\\"children\\\":\\\"(\\\"}],[\\\"$\\\",\\\"span\\\",null,{\\\"className\\\":\\\"token punctuation\\\",\\\"children\\\":\\\"[\\\"}],\\\"\\\\n\\\"]}],[\\\"$\\\",\\\"span\\\",null,{\\\"className\\\":\\\"code-line\\\",\\\"children\\\":[\\\"    \\\",[\\\"$\\\",\\\"span\\\",null,{\\\"className\\\":\\\"token keyword\\\",\\\"children\\\":\\\"new\\\"}],\\\" \\\",[\\\"$\\\",\\\"span\\\",null,{\\\"className\\\":\\\"token class-name\\\",\\\"children\\\":\\\"HumanMessage\\\"}],[\\\"$\\\",\\\"span\\\",null,{\\\"className\\\":\\\"token punctuation\\\",\\\"children\\\":\\\"(\\\"}],[\\\"$\\\",\\\"span\\\",null,{\\\"className\\\":\\\"token string\\\",\\\"children\\\":\\\"\\\\\\\"你是谁\\\\\\\"\\\"}],[\\\"$\\\",\\\"span\\\",null,{\\\"className\\\":\\\"token punctuation\\\",\\\"children\\\":\\\")\\\"}],[\\\"$\\\",\\\"span\\\",null,{\\\"className\\\":\\\"token punctuation\\\",\\\"children\\\":\\\",\\\"}],\\\"\\\\n\\\"]}],[\\\"$\\\",\\\"span\\\",null,{\\\"className\\\":\\\"code-line\\\",\\\"children\\\":[\\\"    \\\",[\\\"$\\\",\\\"span\\\",null,{\\\"className\\\":\\\"token keyword\\\",\\\"children\\\":\\\"new\\\"}],\\\" \\\",[\\\"$\\\",\\\"span\\\",null,{\\\"className\\\":\\\"token class-name\\\",\\\"children\\\":\\\"HumanMessage\\\"}],[\\\"$\\\",\\\"span\\\",null,{\\\"className\\\":\\\"token punctuation\\\",\\\"children\\\":\\\"(\\\"}],[\\\"$\\\",\\\"span\\\",null,{\\\"className\\\":\\\"token string\\\",\\\"children\\\":\\\"\\\\\\\"讲个笑话\\\\\\\"\\\"}],[\\\"$\\\",\\\"span\\\",null,{\\\"className\\\":\\\"token punctuation\\\",\\\"children\\\":\\\")\\\"}],[\\\"$\\\",\\\"span\\\",null,{\\\"className\\\":\\\"token punctuation\\\",\\\"children\\\":\\\",\\\"}],\\\"\\\\n\\\"]}],[\\\"$\\\",\\\"span\\\",null,{\\\"className\\\":\\\"code-line\\\",\\\"children\\\":[\\\"  \\\",[\\\"$\\\",\\\"span\\\",null,{\\\"className\\\":\\\"token punctuation\\\",\\\"children\\\":\\\"]\\\"}],[\\\"$\\\",\\\"span\\\",null,{\\\"className\\\":\\\"token punctuation\\\",\\\"children\\\":\\\")\\\"}],[\\\"$\\\",\\\"span\\\",null,{\\\"className\\\":\\\"token punctuation\\\",\\\"children\\\":\\\";\\\"}],\\\"\\\\n\\\"]}],[\\\"$\\\",\\\"span\\\",null,{\\\"className\\\":\\\"code-line\\\",\\\"children\\\":\\\"\\\\n\\\"}],[\\\"$\\\",\\\"span\\\",null,{\\\"className\\\":\\\"code-line\\\",\\\"children\\\":[\\\"  \\\",[\\\"$\\\",\\\"span\\\",null,{\\\"className\\\":\\\"token class-name console\\\",\\\"children\\\":\\\"console\\\"}],[\\\"$\\\",\\\"span\\\",null,{\\\"className\\\":\\\"token punctuation\\\",\\\"children\\\":\\\".\\\"}],[\\\"$\\\",\\\"span\\\",null,{\\\"className\\\":\\\"token function property-access method\\\",\\\"children\\\":\\\"log\\\"}],[\\\"$\\\",\\\"span\\\",null,{\\\"className\\\":\\\"token punctuation\\\",\\\"children\\\":\\\"(\\\"}],\\\"stream\\\",[\\\"$\\\",\\\"span\\\",null,{\\\"className\\\":\\\"token punctuation\\\",\\\"children\\\":\\\")\\\"}],[\\\"$\\\",\\\"span\\\",null,{\\\"className\\\":\\\"token punctuation\\\",\\\"children\\\":\\\";\\\"}],\\\"\\\\n\\\"]}]]}]}],[\\\"$\\\",\\\"h3\\\",null,{\\\"className\\\":\\\"content-header\\\",\\\"id\\\":\\\"链接本地模型\\\",\\\"children\\\":[[\\\"$\\\",\\\"a\\\",null,{\\\"href\\\":\\\"#链接本地模型\\\",\\\"aria-hidden\\\":\\\"true\\\",\\\"tabIndex\\\":\\\"-1\\\",\\\"children\\\":[\\\"$\\\",\\\"span\\\",null,{\\\"className\\\":\\\"content-header-link\\\",\\\"children\\\":[\\\"$\\\",\\\"svg\\\",null,{\\\"className\\\":\\\"h-5 linkicon w-5\\\",\\\"fill\\\":\\\"currentColor\\\",\\\"viewBox\\\":\\\"0 0 20 20\\\",\\\"xmlns\\\":\\\"http://www.w3.org/2000/svg\\\",\\\"children\\\":[[\\\"$\\\",\\\"path\\\",null,{\\\"d\\\":\\\"M12.232 4.232a2.5 2.5 0 0 1 3.536 3.536l-1.225 1.224a.75.75 0 0 0 1.061 1.06l1.224-1.224a4 4 0 0 0-5.656-5.656l-3 3a4 4 0 0 0 .225 5.865.75.75 0 0 0 .977-1.138 2.5 2.5 0 0 1-.142-3.667l3-3Z\\\"}],[\\\"$\\\",\\\"path\\\",null,{\\\"d\\\":\\\"M11.603 7.963a.75.75 0 0 0-.977 1.138 2.5 2.5 0 0 1 .142 3.667l-3 3a2.5 2.5 0 0 1-3.536-3.536l1.225-1.224a.75.75 0 0 0-1.061-1.06l-1.224 1.224a4 4 0 1 0 5.656 5.656l3-3a4 4 0 0 0-.225-5.865Z\\\"}]]}]}]}],\\\"链接本地模型\\\"]}],[\\\"$\\\",\\\"p\\\",null,{\\\"children\\\":[\\\"链接本地模型需要使用 ollama，本地启动 Ollama 服务，baseUrl 指向 \\\",[\\\"$\\\",\\\"a\\\",null,{\\\"target\\\":\\\"_blank\\\",\\\"rel\\\":\\\"noopener noreferrer\\\",\\\"href\\\":\\\"http://localhost:11434\\\",\\\"children\\\":\\\"http://localhost:11434\\\"}],\\\":\\\"]}],[\\\"$\\\",\\\"p\\\",null,{\\\"children\\\":[\\\"参考自\\\",[\\\"$\\\",\\\"a\\\",null,{\\\"target\\\":\\\"_blank\\\",\\\"rel\\\":\\\"noopener noreferrer\\\",\\\"href\\\":\\\"https://js.langchain.com/v0.2/docs/integrations/llms/ollama/#usage\\\",\\\"children\\\":\\\"langchain.js\\\"}]]}],[\\\"$\\\",\\\"$L18\\\",null,{\\\"className\\\":\\\"language-js\\\",\\\"children\\\":[\\\"$\\\",\\\"code\\\",null,{\\\"className\\\":\\\"code-highlight language-js\\\",\\\"children\\\":[[\\\"$\\\",\\\"span\\\",null,{\\\"className\\\":\\\"code-line\\\",\\\"children\\\":[\\\"  \\\",[\\\"$\\\",\\\"span\\\",null,{\\\"className\\\":\\\"token keyword module\\\",\\\"children\\\":\\\"import\\\"}],\\\" \\\",[\\\"$\\\",\\\"span\\\",null,{\\\"className\\\":\\\"token imports\\\",\\\"children\\\":[[\\\"$\\\",\\\"span\\\",null,{\\\"className\\\":\\\"token punctuation\\\",\\\"children\\\":\\\"{\\\"}],\\\" \\\",[\\\"$\\\",\\\"span\\\",null,{\\\"className\\\":\\\"token maybe-class-name\\\",\\\"children\\\":\\\"Ollama\\\"}],\\\" \\\",[\\\"$\\\",\\\"span\\\",null,{\\\"className\\\":\\\"token punctuation\\\",\\\"children\\\":\\\"}\\\"}]]}],\\\" \\\",[\\\"$\\\",\\\"span\\\",null,{\\\"className\\\":\\\"token keyword module\\\",\\\"children\\\":\\\"from\\\"}],\\\" \\\",[\\\"$\\\",\\\"span\\\",null,{\\\"className\\\":\\\"token string\\\",\\\"children\\\":\\\"\\\\\\\"@langchain/community/llms/ollama\\\\\\\"\\\"}],[\\\"$\\\",\\\"span\\\",null,{\\\"className\\\":\\\"token punctuation\\\",\\\"children\\\":\\\";\\\"}],\\\"\\\\n\\\"]}],[\\\"$\\\",\\\"span\\\",null,{\\\"className\\\":\\\"code-line\\\",\\\"children\\\":[\\\"  \\\",[\\\"$\\\",\\\"span\\\",null,{\\\"className\\\":\\\"token keyword module\\\",\\\"children\\\":\\\"import\\\"}],\\\" \\\",[\\\"$\\\",\\\"span\\\",null,{\\\"className\\\":\\\"token imports\\\",\\\"children\\\":[[\\\"$\\\",\\\"span\\\",null,{\\\"className\\\":\\\"token punctuation\\\",\\\"children\\\":\\\"{\\\"}],\\\" \\\",[\\\"$\\\",\\\"span\\\",null,{\\\"className\\\":\\\"token maybe-class-name\\\",\\\"children\\\":\\\"HumanMessage\\\"}],\\\" \\\",[\\\"$\\\",\\\"span\\\",null,{\\\"className\\\":\\\"token punctuation\\\",\\\"children\\\":\\\"}\\\"}]]}],\\\" \\\",[\\\"$\\\",\\\"span\\\",null,{\\\"className\\\":\\\"token keyword module\\\",\\\"children\\\":\\\"from\\\"}],\\\" \\\",[\\\"$\\\",\\\"span\\\",null,{\\\"className\\\":\\\"token string\\\",\\\"children\\\":\\\"\\\\\\\"@langchain/core/messages\\\\\\\"\\\"}],[\\\"$\\\",\\\"span\\\",null,{\\\"className\\\":\\\"token punctuation\\\",\\\"children\\\":\\\";\\\"}],\\\"\\\\n\\\"]}],[\\\"$\\\",\\\"span\\\",null,{\\\"className\\\":\\\"code-line\\\",\\\"children\\\":[\\\"  \\\",[\\\"$\\\",\\\"span\\\",null,{\\\"className\\\":\\\"token keyword module\\\",\\\"children\\\":\\\"import\\\"}],\\\" \\\",[\\\"$\\\",\\\"span\\\",null,{\\\"className\\\":\\\"token imports\\\",\\\"children\\\":[[\\\"$\\\",\\\"span\\\",null,{\\\"className\\\":\\\"token punctuation\\\",\\\"children\\\":\\\"{\\\"}],\\\" \\\",[\\\"$\\\",\\\"span\\\",null,{\\\"className\\\":\\\"token maybe-class-name\\\",\\\"children\\\":\\\"StringOutputParser\\\"}],\\\" \\\",[\\\"$\\\",\\\"span\\\",null,{\\\"className\\\":\\\"token punctuation\\\",\\\"children\\\":\\\"}\\\"}]]}],\\\" \\\",[\\\"$\\\",\\\"span\\\",null,{\\\"className\\\":\\\"token keyword module\\\",\\\"children\\\":\\\"from\\\"}],\\\" \\\",[\\\"$\\\",\\\"span\\\",null,{\\\"className\\\":\\\"token string\\\",\\\"children\\\":\\\"\\\\\\\"@langchain/core/output_parsers\\\\\\\"\\\"}],[\\\"$\\\",\\\"span\\\",null,{\\\"className\\\":\\\"token punctuation\\\",\\\"children\\\":\\\";\\\"}],\\\"\\\\n\\\"]}],[\\\"$\\\",\\\"span\\\",null,{\\\"className\\\":\\\"code-line\\\",\\\"children\\\":\\\"\\\\n\\\"}],[\\\"$\\\",\\\"span\\\",null,{\\\"className\\\":\\\"code-line\\\",\\\"children\\\":[\\\"  \\\",[\\\"$\\\",\\\"span\\\",null,{\\\"className\\\":\\\"token keyword\\\",\\\"children\\\":\\\"const\\\"}],\\\" ollama \\\",[\\\"$\\\",\\\"span\\\",null,{\\\"className\\\":\\\"token operator\\\",\\\"children\\\":\\\"=\\\"}],\\\" \\\",[\\\"$\\\",\\\"span\\\",null,{\\\"className\\\":\\\"token keyword\\\",\\\"children\\\":\\\"new\\\"}],\\\" \\\",[\\\"$\\\",\\\"span\\\",null,{\\\"className\\\":\\\"token class-name\\\",\\\"children\\\":\\\"Ollama\\\"}],[\\\"$\\\",\\\"span\\\",null,{\\\"className\\\":\\\"token punctuation\\\",\\\"children\\\":\\\"(\\\"}],[\\\"$\\\",\\\"span\\\",null,{\\\"className\\\":\\\"token punctuation\\\",\\\"children\\\":\\\"{\\\"}],\\\"\\\\n\\\"]}],[\\\"$\\\",\\\"span\\\",null,{\\\"className\\\":\\\"code-line\\\",\\\"children\\\":[\\\"    \\\",[\\\"$\\\",\\\"span\\\",null,{\\\"className\\\":\\\"token property literal-property\\\",\\\"children\\\":\\\"baseUrl\\\"}],[\\\"$\\\",\\\"span\\\",null,{\\\"className\\\":\\\"token operator\\\",\\\"children\\\":\\\":\\\"}],\\\" \\\",[\\\"$\\\",\\\"span\\\",null,{\\\"className\\\":\\\"token string\\\",\\\"children\\\":\\\"\\\\\\\"http://localhost:11434\\\\\\\"\\\"}],[\\\"$\\\",\\\"span\\\",null,{\\\"className\\\":\\\"token punctuation\\\",\\\"children\\\":\\\",\\\"}],\\\" \\\\n\\\"]}],[\\\"$\\\",\\\"span\\\",null,{\\\"className\\\":\\\"code-line\\\",\\\"children\\\":[\\\"    \\\",[\\\"$\\\",\\\"span\\\",null,{\\\"className\\\":\\\"token property literal-property\\\",\\\"children\\\":\\\"model\\\"}],[\\\"$\\\",\\\"span\\\",null,{\\\"className\\\":\\\"token operator\\\",\\\"children\\\":\\\":\\\"}],\\\" \\\",[\\\"$\\\",\\\"span\\\",null,{\\\"className\\\":\\\"token string\\\",\\\"children\\\":\\\"\\\\\\\"qwen:7b\\\\\\\"\\\"}],[\\\"$\\\",\\\"span\\\",null,{\\\"className\\\":\\\"token punctuation\\\",\\\"children\\\":\\\",\\\"}],\\\" \\\\n\\\"]}],[\\\"$\\\",\\\"span\\\",null,{\\\"className\\\":\\\"code-line\\\",\\\"children\\\":[\\\"  \\\",[\\\"$\\\",\\\"span\\\",null,{\\\"className\\\":\\\"token punctuation\\\",\\\"children\\\":\\\"}\\\"}],[\\\"$\\\",\\\"span\\\",null,{\\\"className\\\":\\\"token punctuation\\\",\\\"children\\\":\\\")\\\"}],[\\\"$\\\",\\\"span\\\",null,{\\\"className\\\":\\\"token punctuation\\\",\\\"children\\\":\\\";\\\"}],\\\"\\\\n\\\"]}],[\\\"$\\\",\\\"span\\\",null,{\\\"className\\\":\\\"code-line\\\",\\\"children\\\":\\\"\\\\n\\\"}],[\\\"$\\\",\\\"span\\\",null,{\\\"className\\\":\\\"code-line\\\",\\\"children\\\":[\\\"  \\\",[\\\"$\\\",\\\"span\\\",null,{\\\"className\\\":\\\"token keyword\\\",\\\"children\\\":\\\"const\\\"}],\\\" outputPrase \\\",[\\\"$\\\",\\\"span\\\",null,{\\\"className\\\":\\\"token operator\\\",\\\"children\\\":\\\"=\\\"}],\\\" \\\",[\\\"$\\\",\\\"span\\\",null,{\\\"className\\\":\\\"token keyword\\\",\\\"children\\\":\\\"new\\\"}],\\\" \\\",[\\\"$\\\",\\\"span\\\",null,{\\\"className\\\":\\\"token class-name\\\",\\\"children\\\":\\\"StringOutputParser\\\"}],[\\\"$\\\",\\\"span\\\",null,{\\\"className\\\":\\\"token punctuation\\\",\\\"children\\\":\\\"(\\\"}],[\\\"$\\\",\\\"span\\\",null,{\\\"className\\\":\\\"token punctuation\\\",\\\"children\\\":\\\")\\\"}],[\\\"$\\\",\\\"span\\\",null,{\\\"className\\\":\\\"token punctuation\\\",\\\"children\\\":\\\";\\\"}],\\\"\\\\n\\\"]}],[\\\"$\\\",\\\"span\\\",null,{\\\"className\\\":\\\"code-line\\\",\\\"children\\\":\\\"\\\\n\\\"}],[\\\"$\\\",\\\"span\\\",null,{\\\"className\\\":\\\"code-line\\\",\\\"children\\\":[\\\"  \\\",[\\\"$\\\",\\\"span\\\",null,{\\\"className\\\":\\\"token keyword\\\",\\\"children\\\":\\\"const\\\"}],\\\" simpleChain \\\",[\\\"$\\\",\\\"span\\\",null,{\\\"className\\\":\\\"token operator\\\",\\\"children\\\":\\\"=\\\"}],\\\" ollama\\\",[\\\"$\\\",\\\"span\\\",null,{\\\"className\\\":\\\"token punctuation\\\",\\\"children\\\":\\\".\\\"}],[\\\"$\\\",\\\"span\\\",null,{\\\"className\\\":\\\"token function property-access method\\\",\\\"children\\\":\\\"pipe\\\"}],[\\\"$\\\",\\\"span\\\",null,{\\\"className\\\":\\\"token punctuation\\\",\\\"children\\\":\\\"(\\\"}],\\\"outputPrase\\\",[\\\"$\\\",\\\"span\\\",null,{\\\"className\\\":\\\"token punctuation\\\",\\\"children\\\":\\\")\\\"}],[\\\"$\\\",\\\"span\\\",null,{\\\"className\\\":\\\"token punctuation\\\",\\\"children\\\":\\\";\\\"}],\\\"\\\\n\\\"]}],[\\\"$\\\",\\\"span\\\",null,{\\\"className\\\":\\\"code-line\\\",\\\"children\\\":[\\\"  \\\",[\\\"$\\\",\\\"span\\\",null,{\\\"className\\\":\\\"token keyword\\\",\\\"children\\\":\\\"const\\\"}],\\\" stream \\\",[\\\"$\\\",\\\"span\\\",null,{\\\"className\\\":\\\"token operator\\\",\\\"children\\\":\\\"=\\\"}],\\\" \\\",[\\\"$\\\",\\\"span\\\",null,{\\\"className\\\":\\\"token keyword control-flow\\\",\\\"children\\\":\\\"await\\\"}],\\\" simpleChain\\\",[\\\"$\\\",\\\"span\\\",null,{\\\"className\\\":\\\"token punctuation\\\",\\\"children\\\":\\\".\\\"}],[\\\"$\\\",\\\"span\\\",null,{\\\"className\\\":\\\"token function property-access method\\\",\\\"children\\\":\\\"invoke\\\"}],[\\\"$\\\",\\\"span\\\",null,{\\\"className\\\":\\\"token punctuation\\\",\\\"children\\\":\\\"(\\\"}],[\\\"$\\\",\\\"span\\\",null,{\\\"className\\\":\\\"token punctuation\\\",\\\"children\\\":\\\"[\\\"}],\\\"\\\\n\\\"]}],[\\\"$\\\",\\\"span\\\",null,{\\\"className\\\":\\\"code-line\\\",\\\"children\\\":[\\\"      \\\",[\\\"$\\\",\\\"span\\\",null,{\\\"className\\\":\\\"token keyword\\\",\\\"children\\\":\\\"new\\\"}],\\\" \\\",[\\\"$\\\",\\\"span\\\",null,{\\\"className\\\":\\\"token class-name\\\",\\\"children\\\":\\\"HumanMessage\\\"}],[\\\"$\\\",\\\"span\\\",null,{\\\"className\\\":\\\"token punctuation\\\",\\\"children\\\":\\\"(\\\"}],[\\\"$\\\",\\\"span\\\",null,{\\\"className\\\":\\\"token string\\\",\\\"children\\\":\\\"\\\\\\\"讲个笑话\\\\\\\"\\\"}],[\\\"$\\\",\\\"span\\\",null,{\\\"className\\\":\\\"token punctuation\\\",\\\"children\\\":\\\")\\\"}],[\\\"$\\\",\\\"span\\\",null,{\\\"className\\\":\\\"token punctuation\\\",\\\"children\\\":\\\",\\\"}],\\\"\\\\n\\\"]}],[\\\"$\\\",\\\"span\\\",null,{\\\"className\\\":\\\"code-line\\\",\\\"children\\\":[\\\"  \\\",[\\\"$\\\",\\\"span\\\",null,{\\\"className\\\":\\\"token punctuation\\\",\\\"children\\\":\\\"]\\\"}],[\\\"$\\\",\\\"span\\\",null,{\\\"className\\\":\\\"token punctuation\\\",\\\"children\\\":\\\")\\\"}],[\\\"$\\\",\\\"span\\\",null,{\\\"className\\\":\\\"token punctuation\\\",\\\"children\\\":\\\";\\\"}],\\\"\\\\n\\\"]}],[\\\"$\\\",\\\"span\\\",null,{\\\"className\\\":\\\"code-line\\\",\\\"children\\\":\\\"\\\\n\\\"}],[\\\"$\\\",\\\"span\\\",null,{\\\"className\\\":\\\"code-line\\\",\\\"children\\\":[\\\"  \\\",[\\\"$\\\",\\\"span\\\",null,{\\\"className\\\":\\\"token class-name console\\\",\\\"children\\\":\\\"console\\\"}],[\\\"$\\\",\\\"span\\\",null,{\\\"className\\\":\\\"token punctuation\\\",\\\"children\\\":\\\".\\\"}],[\\\"$\\\",\\\"span\\\",null,{\\\"className\\\":\\\"token function property-access method\\\",\\\"children\\\":\\\"log\\\"}],[\\\"$\\\",\\\"span\\\",null,{\\\"className\\\":\\\"token punctuation\\\",\\\"children\\\":\\\"(\\\"}],\\\"stream\\\",[\\\"$\\\",\\\"span\\\",null,{\\\"className\\\":\\\"token punctuation\\\",\\\"children\\\":\\\")\\\"}],[\\\"$\\\",\\\"span\\\",null,{\\\"className\\\":\\\"token punctuation\\\",\\\"children\\\":\\\";\\\"}],\\\"\\\\n\\\"]}]]}]}]]}],[\\\"$\\\",\\\"div\\\",null,{\\\"children\\\":[\\\"$\\\",\\\"$L19\\\",null,{\\\"el\\\":\\\"#waline\\\",\\\"serverURL\\\":\\\"https://comment.qxmall.store/\\\"}]}]]}],[\\\"$\\\",\\\"footer\\\",null,{\\\"children\\\":[[\\\"$\\\",\\\"div\\\",null,{\\\"className\\\":\\\"divide-gray-200 text-sm font-medium leading-5 dark:divide-gray-700 xl:col-start-1 xl:row-start-2 xl:divide-y\\\",\\\"children\\\":[[\\\"$\\\",\\\"div\\\",null,{\\\"className\\\":\\\"py-4 xl:py-8\\\",\\\"children\\\":[[\\\"$\\\",\\\"h2\\\",null,{\\\"className\\\":\\\"text-xs uppercase tracking-wide text-gray-500 dark:text-gray-400\\\",\\\"children\\\":\\\"Tags\\\"}],[\\\"$\\\",\\\"div\\\",null,{\\\"className\\\":\\\"flex flex-wrap\\\",\\\"children\\\":[[\\\"$\\\",\\\"$Le\\\",null,{\\\"href\\\":\\\"/tags/ai大模型\\\",\\\"className\\\":\\\"mr-3 text-sm font-medium uppercase text-primary-500 hover:text-primary-600 dark:hover:text-primary-400\\\",\\\"children\\\":\\\"AI大模型\\\"}],[\\\"$\\\",\\\"$Le\\\",null,{\\\"href\\\":\\\"/tags/javascript\\\",\\\"className\\\":\\\"mr-3 text-sm font-medium uppercase text-primary-500 hover:text-primary-600 dark:hover:text-primary-400\\\",\\\"children\\\":\\\"javaScript\\\"}]]}]]}],[\\\"$\\\",\\\"div\\\",null,{\\\"className\\\":\\\"flex justify-between py-4 xl:block xl:space-y-8 xl:py-8\\\",\\\"children\\\":[[\\\"$\\\",\\\"div\\\",null,{\\\"children\\\":[[\\\"$\\\",\\\"h2\\\",null,{\\\"className\\\":\\\"text-xs uppercase tracking-wide text-gray-500 dark:text-gray-400\\\",\\\"children\\\":\\\"上一篇\\\"}],[\\\"$\\\",\\\"div\\\",null,{\\\"className\\\":\\\"text-primary-500 hover:text-primary-600 dark:hover:text-primary-400\\\",\\\"children\\\":[\\\"$\\\",\\\"$Le\\\",null,{\\\"href\\\":\\\"/blog/前端长度单位\\\",\\\"children\\\":\\\"前端长度单位\\\"}]}]]}],\\\"$undefined\\\"]}]]}],[\\\"$\\\",\\\"div\\\",null,{\\\"className\\\":\\\"pt-4 xl:pt-8\\\",\\\"children\\\":[\\\"$\\\",\\\"$Le\\\",null,{\\\"href\\\":\\\"/blog\\\",\\\"className\\\":\\\"text-primary-500 hover:text-primary-600 dark:hover:text-primary-400\\\",\\\"aria-label\\\":\\\"返回博客列表\\\",\\\"children\\\":\\\"← 返回博客列表\\\"}]}]]}]]}]]}]}]]}]]\\n\"])self.__next_f.push([1,\"13:[[\\\"$\\\",\\\"meta\\\",\\\"0\\\",{\\\"name\\\":\\\"viewport\\\",\\\"content\\\":\\\"width=device-width, initial-scale=1\\\"}],[\\\"$\\\",\\\"meta\\\",\\\"1\\\",{\\\"charSet\\\":\\\"utf-8\\\"}],[\\\"$\\\",\\\"title\\\",\\\"2\\\",{\\\"children\\\":\\\"Jupyter Notebook 基础 | 游戏人生的博客\\\"}],[\\\"$\\\",\\\"meta\\\",\\\"3\\\",{\\\"name\\\":\\\"description\\\",\\\"content\\\":\\\"基于 Deno 与 Jupyter Notebook 链接开源模型\\\"}],[\\\"$\\\",\\\"meta\\\",\\\"4\\\",{\\\"name\\\":\\\"robots\\\",\\\"content\\\":\\\"index, follow\\\"}],[\\\"$\\\",\\\"meta\\\",\\\"5\\\",{\\\"name\\\":\\\"googlebot\\\",\\\"content\\\":\\\"index, follow, max-video-preview:-1, max-image-preview:large, max-snippet:-1\\\"}],[\\\"$\\\",\\\"link\\\",\\\"6\\\",{\\\"rel\\\":\\\"canonical\\\",\\\"href\\\":\\\"https://blog-site-template.vercel.app/blog/ai-model/%E5%A4%A7%E6%A8%A1%E5%9E%8B%E5%9F%BA%E7%A1%80\\\"}],[\\\"$\\\",\\\"link\\\",\\\"7\\\",{\\\"rel\\\":\\\"alternate\\\",\\\"type\\\":\\\"application/rss+xml\\\",\\\"href\\\":\\\"https://blog-site-template.vercel.app/feed.xml\\\"}],[\\\"$\\\",\\\"meta\\\",\\\"8\\\",{\\\"property\\\":\\\"og:title\\\",\\\"content\\\":\\\"Jupyter Notebook 基础\\\"}],[\\\"$\\\",\\\"meta\\\",\\\"9\\\",{\\\"property\\\":\\\"og:description\\\",\\\"content\\\":\\\"基于 Deno 与 Jupyter Notebook 链接开源模型\\\"}],[\\\"$\\\",\\\"meta\\\",\\\"10\\\",{\\\"property\\\":\\\"og:url\\\",\\\"content\\\":\\\"https://blog-site-template.vercel.app/blog/ai-model/%E5%A4%A7%E6%A8%A1%E5%9E%8B%E5%9F%BA%E7%A1%80\\\"}],[\\\"$\\\",\\\"meta\\\",\\\"11\\\",{\\\"property\\\":\\\"og:site_name\\\",\\\"content\\\":\\\"游戏人生的博客\\\"}],[\\\"$\\\",\\\"meta\\\",\\\"12\\\",{\\\"property\\\":\\\"og:locale\\\",\\\"content\\\":\\\"zh_CN\\\"}],[\\\"$\\\",\\\"meta\\\",\\\"13\\\",{\\\"property\\\":\\\"og:image\\\",\\\"content\\\":\\\"https://blog-site-template.vercel.app/static/images/twitter-card.png\\\"}],[\\\"$\\\",\\\"meta\\\",\\\"14\\\",{\\\"property\\\":\\\"og:type\\\",\\\"content\\\":\\\"article\\\"}],[\\\"$\\\",\\\"meta\\\",\\\"15\\\",{\\\"property\\\":\\\"article:published_time\\\",\\\"content\\\":\\\"2024-05-19T00:00:00.000Z\\\"}],[\\\"$\\\",\\\"meta\\\",\\\"16\\\",{\\\"property\\\":\\\"article:modified_time\\\",\\\"content\\\":\\\"2024-05-19T00:00:00.000Z\\\"}],[\\\"$\\\",\\\"meta\\\",\\\"17\\\",{\\\"property\\\":\\\"article:author\\\",\\\"content\\\":\\\"游戏人生\\\"}],[\\\"$\\\",\\\"meta\\\",\\\"18\\\",{\\\"name\\\":\\\"twitter:card\\\",\\\"content\\\":\\\"summary_large_image\\\"}],[\\\"$\\\",\\\"meta\\\",\\\"19\\\",{\\\"name\\\":\\\"twitter:title\\\",\\\"content\\\":\\\"Jupyter Notebook 基础\\\"}],[\\\"$\\\",\\\"meta\\\",\\\"20\\\",{\\\"name\\\":\\\"twitter:description\\\",\\\"content\\\":\\\"基于 Deno 与 Jupyter Notebook 链接开源模型\\\"}],[\\\"$\\\",\\\"meta\\\",\\\"21\\\",{\\\"name\\\":\\\"twitter:image\\\",\\\"content\\\":\\\"https://blog-site-template.vercel.app/static/images/twitter-card.png\\\"}],[\\\"$\\\",\\\"meta\\\",\\\"22\\\",{\\\"name\\\":\\\"next-size-adjust\\\"}]]\\n\"])self.__next_f.push([1,\"6:null\\n\"])\n"
     ]
    }
   ],
   "source": [
    "import \"cheerio\";\n",
    "import { CheerioWebBaseLoader } from \"langchain/document_loaders/web/cheerio\";\n",
    "// import { CheerioWebBaseLoader } from \"@langchain/community/document_loaders/web/cheerio\";\n",
    "\n",
    "const loader = new CheerioWebBaseLoader(\n",
    "\"https://blog.qxmall.store/blog/%E6%B5%8F%E8%A7%88%E5%99%A8%E5%9F%BA%E7%A1%80\"\n",
    ");\n",
    "\n",
    "const docs = await loader.load();\n",
    "console.log(docs[0].pageContent);"
   ]
  },
  {
   "cell_type": "code",
   "execution_count": 6,
   "id": "a7db24a3-4039-46d9-9c72-4f1cfad9032b",
   "metadata": {},
   "outputs": [
    {
     "name": "stdout",
     "output_type": "stream",
     "text": [
      "环境安装及配置获取模型链接模型Tags上一篇\n"
     ]
    }
   ],
   "source": [
    "import \"cheerio\";\n",
    "import { CheerioWebBaseLoader } from \"langchain/document_loaders/web/cheerio\";\n",
    "// import { CheerioWebBaseLoader } from \"@langchain/community/document_loaders/web/cheerio\";\n",
    "\n",
    "const loader = new CheerioWebBaseLoader(\n",
    "\"https://blog.qxmall.store/blog/ai-model/%E5%A4%A7%E6%A8%A1%E5%9E%8B%E5%9F%BA%E7%A1%80\",\n",
    "    {\n",
    "        selector: \"h2\",\n",
    "    },\n",
    ");\n",
    "\n",
    "const docs = await loader.load();\n",
    "console.log(docs[0].pageContent);"
   ]
  },
  {
   "cell_type": "code",
   "execution_count": 2,
   "id": "f20cff88-3035-489f-8128-0d7762747a5b",
   "metadata": {},
   "outputs": [
    {
     "name": "stderr",
     "output_type": "stream",
     "text": [
      "[WARNING]: Importing from \"langchain/document_loaders/web/serpapi\" is deprecated.\n",
      "\n",
      "Instead, please add the \"@langchain/community\" package to your project with e.g.\n",
      "\n",
      "    $ npm install @langchain/community\n",
      "\n",
      "and import from \"@langchain/community/document_loaders/web/serpapi\".\n",
      "\n",
      "This will be mandatory after the next \"langchain\" minor version bump to 0.3.\n"
     ]
    },
    {
     "name": "stdout",
     "output_type": "stream",
     "text": [
      "[\n",
      "  Document {\n",
      "    pageContent: \u001b[32m'{\"title\":\"GitHub\",\"type\":\"Software company\",\"entity_type\":\"companies, company\",\"kgmid\":\"/m/0ryppmg\",'\u001b[39m... 11896 more characters,\n",
      "    metadata: { source: \u001b[32m\"SerpAPI\"\u001b[39m, responseType: \u001b[32m\"knowledge_graph\"\u001b[39m }\n",
      "  },\n",
      "  Document {\n",
      "    pageContent: \u001b[32m'{\"position\":1,\"title\":\"GitHub - 维基百科，自由的百科全书\",\"link\":\"https://zh.wikipedia.org/zh-hans/GitHub\",\"redi'\u001b[39m... 767 more characters,\n",
      "    metadata: { source: \u001b[32m\"SerpAPI\"\u001b[39m, responseType: \u001b[32m\"organic_results\"\u001b[39m }\n",
      "  },\n",
      "  Document {\n",
      "    pageContent: \u001b[32m'{\"position\":2,\"title\":\"Github_百度百科\",\"link\":\"https://baike.baidu.com/item/Github/10145341\",\"redirect_'\u001b[39m... 548 more characters,\n",
      "    metadata: { source: \u001b[32m\"SerpAPI\"\u001b[39m, responseType: \u001b[32m\"organic_results\"\u001b[39m }\n",
      "  },\n",
      "  Document {\n",
      "    pageContent: \u001b[32m'{\"position\":3,\"title\":\"Github是什么？看完你就了解一些了\",\"link\":\"https://www.cnblogs.com/jiqing9006/p/5584848.htm'\u001b[39m... 564 more characters,\n",
      "    metadata: { source: \u001b[32m\"SerpAPI\"\u001b[39m, responseType: \u001b[32m\"organic_results\"\u001b[39m }\n",
      "  },\n",
      "  Document {\n",
      "    pageContent: \u001b[32m'{\"position\":4,\"title\":\"关于GitHub 和Git - GitHub 文档\",\"link\":\"https://docs.github.com/zh/get-started/sta'\u001b[39m... 983 more characters,\n",
      "    metadata: { source: \u001b[32m\"SerpAPI\"\u001b[39m, responseType: \u001b[32m\"organic_results\"\u001b[39m }\n",
      "  },\n",
      "  Document {\n",
      "    pageContent: \u001b[32m'{\"position\":5,\"title\":\"程序员常逛的Github，原来是个隐藏的学习网站\",\"link\":\"https://sspai.com/post/58120\",\"redirect_lin'\u001b[39m... 512 more characters,\n",
      "    metadata: { source: \u001b[32m\"SerpAPI\"\u001b[39m, responseType: \u001b[32m\"organic_results\"\u001b[39m }\n",
      "  },\n",
      "  Document {\n",
      "    pageContent: \u001b[32m'{\"position\":6,\"title\":\"github是干什么的\",\"link\":\"https://m.36kr.com/p/1546867994781704\",\"redirect_link\":\"'\u001b[39m... 520 more characters,\n",
      "    metadata: { source: \u001b[32m\"SerpAPI\"\u001b[39m, responseType: \u001b[32m\"organic_results\"\u001b[39m }\n",
      "  },\n",
      "  Document {\n",
      "    pageContent: \u001b[32m'{\"position\":7,\"title\":\"什么是GitHub？ - GitHub 使用指南\",\"link\":\"https://github.highlight.ink/hello-world/ab'\u001b[39m... 594 more characters,\n",
      "    metadata: { source: \u001b[32m\"SerpAPI\"\u001b[39m, responseType: \u001b[32m\"organic_results\"\u001b[39m }\n",
      "  },\n",
      "  Document {\n",
      "    pageContent: \u001b[32m'{\"position\":8,\"title\":\"GitHub 小白入门（一）初识界面#1\",\"link\":\"https://github.com/CatOneTwo/GitHub-Tutorial/is'\u001b[39m... 574 more characters,\n",
      "    metadata: { source: \u001b[32m\"SerpAPI\"\u001b[39m, responseType: \u001b[32m\"organic_results\"\u001b[39m }\n",
      "  },\n",
      "  Document {\n",
      "    pageContent: \u001b[32m'{\"position\":9,\"title\":\"什么是Git、Github?-腾讯云开发者社区\",\"link\":\"https://cloud.tencent.com/developer/article/'\u001b[39m... 569 more characters,\n",
      "    metadata: { source: \u001b[32m\"SerpAPI\"\u001b[39m, responseType: \u001b[32m\"organic_results\"\u001b[39m }\n",
      "  },\n",
      "  Document {\n",
      "    pageContent: \u001b[32m'{\"position\":10,\"title\":\"GitHub 简介_GitHub 入门教程\",\"link\":\"https://m.imooc.com/wiki/github\",\"redirect_li'\u001b[39m... 528 more characters,\n",
      "    metadata: { source: \u001b[32m\"SerpAPI\"\u001b[39m, responseType: \u001b[32m\"organic_results\"\u001b[39m }\n",
      "  }\n",
      "]\n"
     ]
    }
   ],
   "source": [
    "import { SerpAPILoader } from \"langchain/document_loaders/web/serpapi\";\n",
    "import { SerpAPILoader } from \"@langchain/community/document_loaders/web/serpapi\";\n",
    "\n",
    "const apiKey = env[\"SERP_KEY\"]\n",
    "const question = \"什么是 github\"\n",
    "const loader = new SerpAPILoader({ q: question, apiKey });\n",
    "const docs = await loader.load();\n",
    "console.log(docs);"
   ]
  },
  {
   "cell_type": "code",
   "execution_count": null,
   "id": "4b1fc97c-bbf2-4a9c-9509-e6ef77512d1b",
   "metadata": {},
   "outputs": [],
   "source": []
  }
 ],
 "metadata": {
  "kernelspec": {
   "display_name": "Deno",
   "language": "typescript",
   "name": "deno"
  },
  "language_info": {
   "file_extension": ".ts",
   "mimetype": "text/x.typescript",
   "name": "typescript",
   "nb_converter": "script",
   "pygments_lexer": "typescript",
   "version": "5.4.5"
  }
 },
 "nbformat": 4,
 "nbformat_minor": 5
}
