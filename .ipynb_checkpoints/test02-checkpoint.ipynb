{
 "cells": [
  {
   "cell_type": "code",
   "execution_count": null,
   "id": "530a7ad9-2daf-4edb-8e51-3b42cdeaf77d",
   "metadata": {},
   "outputs": [],
   "source": [
    "import { Ollama } from \"@langchain/community/llms/ollama\";\n",
    "import { HumanMessage } from \"@langchain/core/messages\";\n",
    "import { StringOutputParser } from \"@langchain/core/output_parsers\";\n",
    "\n",
    "const ollama = new Ollama({\n",
    "  baseUrl: \"http://localhost:11434\", \n",
    "  model: \"qwen\", \n",
    "});\n",
    "\n",
    "const outputPrase = new StringOutputParser();\n",
    "\n",
    "const simpleChain = ollama.pipe(outputPrase);\n",
    "const stream = await simpleChain.invoke([\n",
    "     new HumanMessage(\"讲个唐朝历史典故\")\n",
    "])\n",
    "\n",
    "console.log(stream);"
   ]
  },
  {
   "cell_type": "code",
   "execution_count": null,
   "id": "b8841dfc-4d9e-403b-bd92-f30eac2dc294",
   "metadata": {},
   "outputs": [],
   "source": []
  }
 ],
 "metadata": {
  "kernelspec": {
   "display_name": "Deno",
   "language": "typescript",
   "name": "deno"
  },
  "language_info": {
   "file_extension": ".ts",
   "mimetype": "text/x.typescript",
   "name": "typescript",
   "nb_converter": "script",
   "pygments_lexer": "typescript",
   "version": "5.4.5"
  }
 },
 "nbformat": 4,
 "nbformat_minor": 5
}
