{
 "cells": [
  {
   "cell_type": "code",
   "execution_count": 1,
   "id": "e4c1f273-208b-4e16-aa40-af6dbe9406f5",
   "metadata": {},
   "outputs": [],
   "source": [
    "import { load } from \"dotenv\";\n",
    "const env = await load();\n",
    "\n",
    "const process = {\n",
    "    env\n",
    "}"
   ]
  },
  {
   "cell_type": "code",
   "execution_count": 2,
   "id": "268b7e66-14d8-4663-b665-8753a985a11f",
   "metadata": {},
   "outputs": [],
   "source": [
    "import { ChatPromptTemplate, MessagesPlaceholder } from \"@langchain/core/prompts\";\n",
    "  \n",
    "const rephraseChainPrompt = ChatPromptTemplate.fromMessages([\n",
    "    [\n",
    "      \"system\",\n",
    "      \"给定以下对话和一个后续问题，请将后续问题重述为一个独立的问题。请注意，重述的问题应该包含足够的信息，使得没有看过对话历史的人也能理解。\",\n",
    "    ],\n",
    "    new MessagesPlaceholder(\"history\"),\n",
    "    [\"human\", \"将以下问题重述为一个独立的问题：{question}\"],\n",
    "]);"
   ]
  },
  {
   "cell_type": "code",
   "execution_count": 3,
   "id": "9d3b2f60-d180-489f-86ff-8edbc4385bd0",
   "metadata": {},
   "outputs": [],
   "source": [
    "import { ChatAlibabaTongyi } from \"@langchain/community/chat_models/alibaba_tongyi\";\n",
    "import { RunnableSequence } from \"@langchain/core/runnables\";\n",
    "import { StringOutputParser } from \"@langchain/core/output_parsers\";\n",
    "\n",
    "const rephraseChain = RunnableSequence.from([\n",
    "    rephraseChainPrompt,\n",
    "    new ChatAlibabaTongyi({\n",
    "      model: \"qwen-turbo\",\n",
    "      temperature: 0.2,\n",
    "    }),\n",
    "    new StringOutputParser(),\n",
    "]);"
   ]
  },
  {
   "cell_type": "code",
   "execution_count": 4,
   "id": "eaa531fe-8acd-48a5-ab03-2e83d7990cd4",
   "metadata": {},
   "outputs": [
    {
     "name": "stdout",
     "output_type": "stream",
     "text": [
      "你觉得“叮当猫”这个名字如何？\n"
     ]
    }
   ],
   "source": [
    "import { HumanMessage, AIMessage } from \"@langchain/core/messages\";\n",
    "\n",
    "const historyMessages = [new HumanMessage(\"你好，我是叮当猫\"), new AIMessage(\"你好，叮当猫\")];\n",
    "  \n",
    "const question = \"你觉得我的名字怎么样？\";\n",
    "const standaloneQuestion = await rephraseChain.invoke({ history: historyMessages, question });\n",
    "\n",
    "console.log(standaloneQuestion);"
   ]
  },
  {
   "cell_type": "code",
   "execution_count": null,
   "id": "9d117282-5f68-4cd9-8aac-a9c3bb6f4548",
   "metadata": {},
   "outputs": [],
   "source": []
  }
 ],
 "metadata": {
  "kernelspec": {
   "display_name": "Deno",
   "language": "typescript",
   "name": "deno"
  },
  "language_info": {
   "file_extension": ".ts",
   "mimetype": "text/x.typescript",
   "name": "typescript",
   "nb_converter": "script",
   "pygments_lexer": "typescript",
   "version": "5.4.5"
  }
 },
 "nbformat": 4,
 "nbformat_minor": 5
}
