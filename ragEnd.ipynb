{
 "cells": [
  {
   "cell_type": "code",
   "execution_count": 1,
   "id": "7a232e1f-3440-4c38-abf8-3500c070e686",
   "metadata": {},
   "outputs": [],
   "source": [
    "import { load } from \"dotenv\";\n",
    "const env = await load();\n",
    "\n",
    "const process = {\n",
    "    env\n",
    "}"
   ]
  },
  {
   "cell_type": "code",
   "execution_count": 7,
   "id": "791df177-3e4e-4915-8c84-ef35e11f93f5",
   "metadata": {},
   "outputs": [],
   "source": [
    "import { ChatAlibabaTongyi } from \"@langchain/community/chat_models/alibaba_tongyi\";\n",
    "import { RunnableSequence, RunnablePassthrough } from \"@langchain/core/runnables\";\n",
    "import { StringOutputParser } from \"@langchain/core/output_parsers\";\n",
    "import { HumanMessage, AIMessage } from \"@langchain/core/messages\";\n",
    "import { BufferMemory } from \"langchain/memory\";\n",
    "import { ChatPromptTemplate, MessagesPlaceholder } from \"@langchain/core/prompts\";\n",
    "// import { AlibabaTongyiEmbeddings } from \"@langchain/community/embeddings/alibaba_tongyi\";\n",
    "// import { BaiduQianfanEmbeddings } from \"@langchain/community/embeddings/baidu_qianfan\";\n",
    "// import { ChatBaiduWenxin } from \"@langchain/community/chat_models/baiduwenxin\";"
   ]
  },
  {
   "cell_type": "code",
   "execution_count": 4,
   "id": "64240fa9-b85b-4766-867b-b55a5a27d6b5",
   "metadata": {},
   "outputs": [],
   "source": [
    "const rephraseChainPrompt = ChatPromptTemplate.fromMessages([\n",
    "    [\n",
    "      \"system\",\n",
    "      \"给定以下对话和一个后续问题，请将后续问题重述为一个独立的问题。请注意，重述的问题应该包含足够的信息，使得没有看过对话历史的人也能理解。\",\n",
    "    ],\n",
    "    new MessagesPlaceholder(\"history\"),\n",
    "    [\"human\", \"将以下问题重述为一个独立的问题：\\n{question}\"],\n",
    "  ]);"
   ]
  },
  {
   "cell_type": "code",
   "execution_count": 5,
   "id": "5dfd43d2-383c-42fe-9333-2cade7301065",
   "metadata": {},
   "outputs": [],
   "source": [
    "const rephraseChain = RunnableSequence.from([\n",
    "    rephraseChainPrompt,\n",
    "    new ChatAlibabaTongyi({\n",
    "      temperature: 0.2,\n",
    "    }),\n",
    "    new StringOutputParser(),\n",
    "]);"
   ]
  },
  {
   "cell_type": "code",
   "execution_count": 8,
   "id": "a6cf6ce6-a280-4d12-837f-87f40a45bb24",
   "metadata": {},
   "outputs": [
    {
     "name": "stdout",
     "output_type": "stream",
     "text": [
      "你对我的名字有什么看法？\n"
     ]
    }
   ],
   "source": [
    "const historyMessages = [new HumanMessage(\"你好，我叫小明\"), new AIMessage(\"你好小明\")];\n",
    "  \n",
    "const question = \"你觉得我的名字怎么样？\";\n",
    "const standaloneQuestion = await rephraseChain.invoke({ history: historyMessages, question });\n",
    "\n",
    "console.log(standaloneQuestion);"
   ]
  },
  {
   "cell_type": "code",
   "execution_count": null,
   "id": "566d5bf6-3cae-4804-aeeb-d7528ad6f8f5",
   "metadata": {},
   "outputs": [],
   "source": []
  },
  {
   "cell_type": "code",
   "execution_count": null,
   "id": "b6c32818-3aab-418d-bc9c-d8183de821c1",
   "metadata": {},
   "outputs": [],
   "source": []
  }
 ],
 "metadata": {
  "kernelspec": {
   "display_name": "Deno",
   "language": "typescript",
   "name": "deno"
  },
  "language_info": {
   "file_extension": ".ts",
   "mimetype": "text/x.typescript",
   "name": "typescript",
   "nb_converter": "script",
   "pygments_lexer": "typescript",
   "version": "5.4.5"
  }
 },
 "nbformat": 4,
 "nbformat_minor": 5
}
