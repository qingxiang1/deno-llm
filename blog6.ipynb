{
 "cells": [
  {
   "cell_type": "code",
   "execution_count": 1,
   "id": "8710b725-ec32-49d1-800a-ed0ad4414bc1",
   "metadata": {},
   "outputs": [],
   "source": [
    "import { load } from \"dotenv\";\n",
    "const env = await load();\n",
    "\n",
    "const process = {\n",
    "    env\n",
    "}"
   ]
  },
  {
   "cell_type": "code",
   "execution_count": 2,
   "id": "46f00d42-aaab-458f-9fe8-fd72ce130c0f",
   "metadata": {},
   "outputs": [
    {
     "name": "stdout",
     "output_type": "stream",
     "text": [
      "Hello! How may I assist you today?\n"
     ]
    }
   ],
   "source": [
    "import OpenAI from \"openai\";\n",
    "\n",
    "const openai = new OpenAI({\n",
    "    apiKey: env[\"ALIBABA_API_KEY\"],\n",
    "    baseURL: `https://dashscope.aliyuncs.com/compatible-mode/v1`,\n",
    "});\n",
    "\n",
    "const result = await openai.chat.completions.create({\n",
    "    model: 'qwen-plus',\n",
    "    messages: [{ role: 'user', content: 'Say hello!' }],\n",
    "});\n",
    "\n",
    "console.log(result.choices[0]!.message?.content);"
   ]
  },
  {
   "cell_type": "code",
   "execution_count": 3,
   "id": "f73edc7d-42bc-499c-9d45-b702fab60bdc",
   "metadata": {},
   "outputs": [],
   "source": [
    "function getCurrentWeather({ location, unit=\"fahrenheit\"}){\n",
    "    const  weather_info = {\n",
    "      \"location\": location,\n",
    "      \"temperature\": \"72\",\n",
    "      \"unit\": unit,\n",
    "      \"forecast\": [\"sunny\", \"windy\"],\n",
    "    }\n",
    "    return JSON.stringify(weather_info);\n",
    "}"
   ]
  },
  {
   "cell_type": "code",
   "execution_count": 4,
   "id": "9f626034-f53e-42c6-a046-731262cf4f5c",
   "metadata": {},
   "outputs": [],
   "source": [
    "const tools = [\n",
    "    {\n",
    "      type: \"function\",\n",
    "      function: {\n",
    "        name: \"getCurrentWeather\",\n",
    "        description: \"获取指定地点的天气信息\",\n",
    "        parameters: {\n",
    "          type: \"object\",\n",
    "          properties: {\n",
    "            location: {\n",
    "              type: \"string\",\n",
    "              description: \"城市和地点\",\n",
    "            },\n",
    "            unit: { type: \"string\", enum: [\"celsius\", \"fahrenheit\"] },\n",
    "          },\n",
    "          required: [\"location\"],\n",
    "        },\n",
    "      },\n",
    "    }\n",
    "]"
   ]
  },
  {
   "cell_type": "code",
   "execution_count": 5,
   "id": "8597baed-100c-4aea-90db-1e8f1d9a4042",
   "metadata": {},
   "outputs": [
    {
     "ename": "Error",
     "evalue": "400  'tool_choice' is not support now",
     "output_type": "error",
     "traceback": [
      "Stack trace:",
      "Error: 400  'tool_choice' is not support now",
      "    at Function.generate (file:///Users/luoqingxiang/Library/Caches/deno/npm/registry.npmjs.org/openai/4.40.0/error.mjs:41:20)",
      "    at OpenAI.makeStatusError (file:///Users/luoqingxiang/Library/Caches/deno/npm/registry.npmjs.org/openai/4.40.0/core.mjs:256:25)",
      "    at OpenAI.makeRequest (file:///Users/luoqingxiang/Library/Caches/deno/npm/registry.npmjs.org/openai/4.40.0/core.mjs:299:30)",
      "    at eventLoopTick (ext:core/01_core.js:168:7)",
      "    at async <anonymous>:7:16"
     ]
    }
   ],
   "source": [
    "const messages = [\n",
    "    {\n",
    "        \"role\": \"user\",\n",
    "        \"content\": \"上海的天气怎么样\"\n",
    "    }\n",
    "];\n",
    "\n",
    "const result = await openai.chat.completions.create({\n",
    "    model: 'qwen-plus',\n",
    "    messages,\n",
    "    tools,\n",
    "    tool_choice: {\n",
    "        type: \"function\",\n",
    "        function: {\n",
    "           name: \"getCurrentWeather\"\n",
    "        }\n",
    "    },\n",
    "});\n",
    "\n",
    "console.log(result.choices[0]);"
   ]
  },
  {
   "cell_type": "code",
   "execution_count": 6,
   "id": "e14e5692-3bd0-4a72-aa6a-a8e2c17616a9",
   "metadata": {},
   "outputs": [],
   "source": [
    "function getCurrentTime({ format = \"iso\" } = {}) {\n",
    "    let currentTime;\n",
    "    switch (format) {\n",
    "      case \"iso\":\n",
    "        currentTime = new Date().toISOString();\n",
    "        break;\n",
    "      case \"locale\":\n",
    "        currentTime = new Date().toLocaleString();\n",
    "        break;\n",
    "      default:\n",
    "        currentTime = new Date().toString();\n",
    "        break;\n",
    "    }\n",
    "    return currentTime;\n",
    "}"
   ]
  },
  {
   "cell_type": "code",
   "execution_count": 7,
   "id": "db157161-f609-46e1-8844-72ce62f0bb99",
   "metadata": {},
   "outputs": [],
   "source": [
    "const tools = [\n",
    "    {\n",
    "      type: \"function\",\n",
    "      function: {\n",
    "        name: \"getCurrentTime\",\n",
    "        description: \"Get the current time in a given format\",\n",
    "        parameters: {\n",
    "          type: \"object\",\n",
    "          properties: {\n",
    "            format: {\n",
    "              type: \"string\",\n",
    "              enum: [\"iso\", \"locale\", \"string\"],\n",
    "              description: \"The format of the time, e.g. iso, locale, string\",\n",
    "            },\n",
    "          },\n",
    "          required: [\"format\"],\n",
    "        },\n",
    "      },\n",
    "    },\n",
    "    {\n",
    "      type: \"function\",\n",
    "      function: {\n",
    "        name: \"getCurrentWeather\",\n",
    "        description: \"Get the current weather in a given location\",\n",
    "        parameters: {\n",
    "          type: \"object\",\n",
    "          properties: {\n",
    "            location: {\n",
    "              type: \"string\",\n",
    "              description: \"The city and state, e.g. San Francisco, CA\",\n",
    "            },\n",
    "            unit: { type: \"string\", enum: [\"celsius\", \"fahrenheit\"] },\n",
    "          },\n",
    "          required: [\"location\", \"unit\"],\n",
    "        },\n",
    "      },\n",
    "    },\n",
    "  ]"
   ]
  },
  {
   "cell_type": "code",
   "execution_count": 17,
   "id": "343d9daf-0eb4-4f25-b7a4-79ffe59e7f6a",
   "metadata": {},
   "outputs": [
    {
     "name": "stdout",
     "output_type": "stream",
     "text": [
      "{\n",
      "  message: {\n",
      "    role: \u001b[32m\"assistant\"\u001b[39m,\n",
      "    tool_calls: [\n",
      "      {\n",
      "        function: { name: \u001b[32m\"getCurrentTime\"\u001b[39m, arguments: \u001b[32m'{\"format\": \"iso\"}'\u001b[39m },\n",
      "        id: \u001b[32m\"\"\u001b[39m,\n",
      "        type: \u001b[32m\"function\"\u001b[39m\n",
      "      }\n",
      "    ],\n",
      "    content: \u001b[32m\"\"\u001b[39m\n",
      "  },\n",
      "  finish_reason: \u001b[32m\"tool_calls\"\u001b[39m,\n",
      "  index: \u001b[33m0\u001b[39m,\n",
      "  logprobs: \u001b[1mnull\u001b[22m\n",
      "}\n"
     ]
    }
   ],
   "source": [
    "const messages = [\n",
    "    {\n",
    "        \"role\": \"user\",\n",
    "        \"content\": \"请同时告诉我当前的时间和上海的天气\"\n",
    "    }\n",
    "]\n",
    "\n",
    "const result = await openai.chat.completions.create({\n",
    "    model: 'qwen-plus',\n",
    "    messages,\n",
    "    tools,\n",
    "});\n",
    "\n",
    "console.log(result.choices[0]);"
   ]
  },
  {
   "cell_type": "code",
   "execution_count": 18,
   "id": "1a7229a4-ae41-4a91-9d2f-3838d283457d",
   "metadata": {},
   "outputs": [],
   "source": [
    "const messages = [\n",
    "    {\n",
    "      \"role\": \"user\",\n",
    "      \"content\": \"上海的天气怎么样\"\n",
    "    }\n",
    "];\n",
    "\n",
    "const result = await openai.chat.completions.create({\n",
    "    model: 'qwen-plus',\n",
    "    messages,\n",
    "    tools,\n",
    "});"
   ]
  },
  {
   "cell_type": "code",
   "execution_count": 19,
   "id": "f018b21c-811c-4c39-8002-a1d72dfbe6fd",
   "metadata": {},
   "outputs": [
    {
     "data": {
      "text/plain": [
       "\u001b[33m3\u001b[39m"
      ]
     },
     "execution_count": 19,
     "metadata": {},
     "output_type": "execute_result"
    }
   ],
   "source": [
    "  messages.push(result.choices[0].message)\n",
    "\n",
    "  const functions = {\n",
    "    \"getCurrentWeather\": getCurrentWeather\n",
    "  }\n",
    "\n",
    "  const cell = result.choices[0].message.tool_calls[0]\n",
    "  const functionInfo = cell.function\n",
    "  const functionName = functionInfo.name;\n",
    "  const functionParams = functionInfo.arguments\n",
    "  const functionResult = functions[functionName](functionParams);\n",
    "\n",
    "  messages.push({\n",
    "    tool_call_id: cell.id,\n",
    "    role: \"tool\",\n",
    "    name: functionName,\n",
    "    content: functionResult,\n",
    "  }); "
   ]
  },
  {
   "cell_type": "code",
   "execution_count": 20,
   "id": "55cfd670-86a2-4141-aca4-0c18419617c1",
   "metadata": {},
   "outputs": [
    {
     "name": "stdout",
     "output_type": "stream",
     "text": [
      "{ role: \u001b[32m\"assistant\"\u001b[39m, content: \u001b[32m\": 上海现在的天气是晴朗并有风，温度约为22℃。\"\u001b[39m }\n"
     ]
    }
   ],
   "source": [
    "  const response = await openai.chat.completions.create({\n",
    "    model: 'qwen-plus',\n",
    "    messages,\n",
    "  });\n",
    "\n",
    "  console.log(response.choices[0].message);"
   ]
  },
  {
   "cell_type": "code",
   "execution_count": 21,
   "id": "ac47ee9d-e01f-4705-9418-5fe402b73f5d",
   "metadata": {},
   "outputs": [],
   "source": [
    "import { z } from \"zod\";\n",
    "\n",
    "const getCurrentWeatherSchema = z.object({\n",
    "  location: z.string().describe(\"The city and state, e.g. San Francisco, CA\"), // string 类型\n",
    "  unit: z.enum([\"celsius\", \"fahrenheit\"]).describe(\"The unit of temperature\"), // 枚举类型\n",
    "});\n"
   ]
  },
  {
   "cell_type": "code",
   "execution_count": 22,
   "id": "08e22442-98f2-4269-8de5-1ce50e203e0b",
   "metadata": {},
   "outputs": [],
   "source": [
    "import { zodToJsonSchema } from \"zod-to-json-schema\";\n",
    "\n",
    "const paramSchema = zodToJsonSchema(getCurrentWeatherSchema);"
   ]
  },
  {
   "cell_type": "code",
   "execution_count": 27,
   "id": "f3ec64e5-38ec-4c23-b0ed-e8675596f260",
   "metadata": {},
   "outputs": [
    {
     "data": {
      "text/plain": [
       "AIMessage {\n",
       "  lc_serializable: \u001b[33mtrue\u001b[39m,\n",
       "  lc_kwargs: {\n",
       "    content: \u001b[32m\"作为一个AI模型，我无法实时获取当前天气信息。建议您查询可靠的天气预报网站或使用手机上的天气应用程序来获取上海最新的天气情况。\"\u001b[39m,\n",
       "    tool_calls: [],\n",
       "    invalid_tool_calls: [],\n",
       "    additional_kwargs: {},\n",
       "    response_metadata: {}\n",
       "  },\n",
       "  lc_namespace: [ \u001b[32m\"langchain_core\"\u001b[39m, \u001b[32m\"messages\"\u001b[39m ],\n",
       "  content: \u001b[32m\"作为一个AI模型，我无法实时获取当前天气信息。建议您查询可靠的天气预报网站或使用手机上的天气应用程序来获取上海最新的天气情况。\"\u001b[39m,\n",
       "  name: \u001b[90mundefined\u001b[39m,\n",
       "  additional_kwargs: {},\n",
       "  response_metadata: {\n",
       "    tokenUsage: { promptTokens: \u001b[33m12\u001b[39m, completionTokens: \u001b[33m32\u001b[39m, totalTokens: \u001b[33m44\u001b[39m }\n",
       "  },\n",
       "  tool_calls: [],\n",
       "  invalid_tool_calls: []\n",
       "}"
      ]
     },
     "execution_count": 27,
     "metadata": {},
     "output_type": "execute_result"
    }
   ],
   "source": [
    "import { ChatAlibabaTongyi } from \"@langchain/community/chat_models/alibaba_tongyi\";\n",
    "\n",
    "const model = new ChatAlibabaTongyi({\n",
    "  model: \"qwen-plus\",\n",
    "  temperature: 0,\n",
    "});\n",
    "\n",
    "// const model = new ChatOpenAI({\n",
    "//     temperature: 0 \n",
    "// })\n",
    "\n",
    "const modelWithTools = model.bind({\n",
    "    tools: [\n",
    "        {\n",
    "            type: \"function\",\n",
    "            function: {\n",
    "                name: \"getCurrentWeather\",\n",
    "                description: \"Get the current weather in a given location\",\n",
    "                parameters: zodToJsonSchema(getCurrentWeatherSchema),\n",
    "            }\n",
    "        }\n",
    "    ]\n",
    "})\n",
    "\n",
    "await modelWithTools.invoke(\"上海的天气怎么样\");\n",
    "// console.log(res);"
   ]
  },
  {
   "cell_type": "code",
   "execution_count": 28,
   "id": "2d4bbafe-275c-4bd8-86f2-63ce7a330bfa",
   "metadata": {},
   "outputs": [
    {
     "name": "stdout",
     "output_type": "stream",
     "text": [
      "AIMessage {\n",
      "  lc_serializable: \u001b[33mtrue\u001b[39m,\n",
      "  lc_kwargs: {\n",
      "    content: \u001b[32m\"作为一个AI模型，我无法实时获取当前天气信息。建议您可以通过查看各大天气预报网站，或者使用专业的天气预报应用来查询上海的实时天气情况。\"\u001b[39m,\n",
      "    tool_calls: [],\n",
      "    invalid_tool_calls: [],\n",
      "    additional_kwargs: {},\n",
      "    response_metadata: {}\n",
      "  },\n",
      "  lc_namespace: [ \u001b[32m\"langchain_core\"\u001b[39m, \u001b[32m\"messages\"\u001b[39m ],\n",
      "  content: \u001b[32m\"作为一个AI模型，我无法实时获取当前天气信息。建议您可以通过查看各大天气预报网站，或者使用专业的天气预报应用来查询上海的实时天气情况。\"\u001b[39m,\n",
      "  name: \u001b[90mundefined\u001b[39m,\n",
      "  additional_kwargs: {},\n",
      "  response_metadata: {\n",
      "    tokenUsage: { promptTokens: \u001b[33m12\u001b[39m, completionTokens: \u001b[33m35\u001b[39m, totalTokens: \u001b[33m47\u001b[39m }\n",
      "  },\n",
      "  tool_calls: [],\n",
      "  invalid_tool_calls: []\n",
      "}\n"
     ]
    }
   ],
   "source": [
    "import { ChatPromptTemplate } from \"@langchain/core/prompts\";\n",
    "\n",
    "  const prompt = ChatPromptTemplate.fromMessages([\n",
    "    [\"system\", \"You are a helpful assistant\"],\n",
    "    [\"human\", \"{input}\"]\n",
    "  ])\n",
    "\n",
    "  const chain = prompt.pipe(modelWithTools)\n",
    "\n",
    "  const res1 = await chain.invoke({\n",
    "    input: \"上海的天气怎么样\",\n",
    "  });\n",
    "\n",
    "  console.log(res);"
   ]
  },
  {
   "cell_type": "code",
   "execution_count": 29,
   "id": "cc5898be-4a7a-476e-a185-770b92d4a32c",
   "metadata": {},
   "outputs": [
    {
     "data": {
      "text/plain": [
       "{\n",
       "  type: \u001b[32m\"object\"\u001b[39m,\n",
       "  properties: {\n",
       "    format: {\n",
       "      type: \u001b[32m\"string\"\u001b[39m,\n",
       "      enum: [ \u001b[32m\"iso\"\u001b[39m, \u001b[32m\"locale\"\u001b[39m, \u001b[32m\"string\"\u001b[39m ],\n",
       "      description: \u001b[32m\"The format of the time, e.g. iso, locale, string\"\u001b[39m\n",
       "    }\n",
       "  },\n",
       "  additionalProperties: \u001b[33mfalse\u001b[39m,\n",
       "  \u001b[32m\"$schema\"\u001b[39m: \u001b[32m\"http://json-schema.org/draft-07/schema#\"\u001b[39m\n",
       "}"
      ]
     },
     "execution_count": 29,
     "metadata": {},
     "output_type": "execute_result"
    }
   ],
   "source": [
    "const getCurrentTimeSchema = z.object({\n",
    "  format: z\n",
    "    .enum([\"iso\", \"locale\", \"string\"])\n",
    "    .optional()\n",
    "    .describe(\"The format of the time, e.g. iso, locale, string\"),\n",
    "});\n",
    "\n",
    "zodToJsonSchema(getCurrentTimeSchema);"
   ]
  },
  {
   "cell_type": "code",
   "execution_count": 30,
   "id": "fe925273-0086-49d9-a75f-7ea40a75283c",
   "metadata": {},
   "outputs": [],
   "source": [
    "\n",
    "const modelWithMultiTools = model.bind({\n",
    "    tools: [\n",
    "        {\n",
    "            type: \"function\",\n",
    "            function: {\n",
    "                name: \"getCurrentWeather\",\n",
    "                description: \"Get the current weather in a given location\",\n",
    "                parameters: zodToJsonSchema(getCurrentWeatherSchema)\n",
    "            }\n",
    "        },\n",
    "        {\n",
    "            type: \"function\",\n",
    "            function: {\n",
    "                name: \"getCurrentTime\",\n",
    "                description: \"Get the current time in a given format\",\n",
    "                parameters: zodToJsonSchema(getCurrentTimeSchema)\n",
    "            }\n",
    "        }\n",
    "    ]\n",
    "});"
   ]
  },
  {
   "cell_type": "code",
   "execution_count": 31,
   "id": "2c075db2-c05c-4605-b27f-d2146aa11ea9",
   "metadata": {},
   "outputs": [
    {
     "name": "stdout",
     "output_type": "stream",
     "text": [
      "AIMessage {\n",
      "  lc_serializable: \u001b[33mtrue\u001b[39m,\n",
      "  lc_kwargs: {\n",
      "    content: \u001b[32m\"作为一个AI模型，我无法实时获取当前天气信息。建议您可以通过查看各大天气预报网站，或者使用专业的天气预报应用来查询上海的实时天气情况。\"\u001b[39m,\n",
      "    tool_calls: [],\n",
      "    invalid_tool_calls: [],\n",
      "    additional_kwargs: {},\n",
      "    response_metadata: {}\n",
      "  },\n",
      "  lc_namespace: [ \u001b[32m\"langchain_core\"\u001b[39m, \u001b[32m\"messages\"\u001b[39m ],\n",
      "  content: \u001b[32m\"作为一个AI模型，我无法实时获取当前天气信息。建议您可以通过查看各大天气预报网站，或者使用专业的天气预报应用来查询上海的实时天气情况。\"\u001b[39m,\n",
      "  name: \u001b[90mundefined\u001b[39m,\n",
      "  additional_kwargs: {},\n",
      "  response_metadata: {\n",
      "    tokenUsage: { promptTokens: \u001b[33m12\u001b[39m, completionTokens: \u001b[33m35\u001b[39m, totalTokens: \u001b[33m47\u001b[39m }\n",
      "  },\n",
      "  tool_calls: [],\n",
      "  invalid_tool_calls: []\n",
      "}\n"
     ]
    }
   ],
   "source": [
    "import { ChatPromptTemplate } from \"@langchain/core/prompts\";\n",
    "\n",
    "  const prompt = ChatPromptTemplate.fromMessages([\n",
    "    [\"system\", \"You are a helpful assistant\"],\n",
    "    [\"human\", \"{input}\"]\n",
    "  ])\n",
    "\n",
    "  const chain = prompt.pipe(modelWithMultiTools)\n",
    "\n",
    "  const res1 = await chain.invoke({\n",
    "    input: \"上海的天气怎么样\",\n",
    "  });\n",
    "\n",
    "  console.log(res);"
   ]
  },
  {
   "cell_type": "code",
   "execution_count": 32,
   "id": "7f9e8c1d-106c-4d0b-9fe6-ac591c9125e2",
   "metadata": {},
   "outputs": [],
   "source": [
    "const taggingSchema = z.object({\n",
    "    emotion:z.enum([\"pos\", \"neg\", \"neutral\"]).describe(\"文本的情感\"),\n",
    "    language: z.string().describe(\"文本的核心语言（应为ISO 639-1代码）\"),\n",
    "  });"
   ]
  },
  {
   "cell_type": "code",
   "execution_count": 33,
   "id": "899c1555-e3a9-483a-aadd-7303c9e1631c",
   "metadata": {},
   "outputs": [],
   "source": [
    "  const modelTagging = model.bind({\n",
    "    tools: [\n",
    "      {\n",
    "        type: \"function\",\n",
    "        function: {\n",
    "          name: \"tagging\",\n",
    "          description: \"为特定的文本片段打上标签\",\n",
    "          parameters: zodToJsonSchema(taggingSchema)\n",
    "        }\n",
    "      }\n",
    "    ],\n",
    "    tool_choice: {\n",
    "      type: \"function\",\n",
    "      function: {\n",
    "        name: \"tagging\"\n",
    "      }\n",
    "    }\n",
    "  });"
   ]
  },
  {
   "cell_type": "code",
   "execution_count": 34,
   "id": "628489af-35b8-4653-a1b2-0fd2a877b0e0",
   "metadata": {},
   "outputs": [],
   "source": [
    "import { JsonOutputToolsParser } from \"@langchain/core/output_parsers/openai_tools\";\n",
    "\n",
    "  const prompt = ChatPromptTemplate.fromMessages([\n",
    "    [\"system\", \"仔细思考，你有充足的时间进行严谨的思考，然后按照指示对文本进行标记\"],\n",
    "    [\"human\", \"{input}\"]\n",
    "  ])\n",
    "\n",
    "  const chain = prompt.pipe(modelTagging).pipe(new JsonOutputToolsParser());"
   ]
  },
  {
   "cell_type": "code",
   "execution_count": 35,
   "id": "3f80de8c-05be-4f7d-b6af-4187a175266e",
   "metadata": {},
   "outputs": [
    {
     "ename": "Error",
     "evalue": "No tools_call in message [{\"message\":{\"lc\":1,\"type\":\"constructor\",\"id\":[\"langchain_core\",\"messages\",\"AIMessage\"],\"kwargs\":{\"content\":\"hello <i>world</i>\",\"tool_calls\":[],\"invalid_tool_calls\":[],\"additional_kwargs\":{},\"response_metadata\":{\"tokenUsage\":{\"promptTokens\":34,\"completionTokens\":8,\"totalTokens\":42}}}},\"text\":\"hello <i>world</i>\"}]",
     "output_type": "error",
     "traceback": [
      "Stack trace:",
      "Error: No tools_call in message [{\"message\":{\"lc\":1,\"type\":\"constructor\",\"id\":[\"langchain_core\",\"messages\",\"AIMessage\"],\"kwargs\":{\"content\":\"hello <i>world</i>\",\"tool_calls\":[],\"invalid_tool_calls\":[],\"additional_kwargs\":{},\"response_metadata\":{\"tokenUsage\":{\"promptTokens\":34,\"completionTokens\":8,\"totalTokens\":42}}}},\"text\":\"hello <i>world</i>\"}]",
      "    at JsonOutputToolsParser.parseResult (file:///Users/luoqingxiang/Library/Caches/deno/npm/registry.npmjs.org/@langchain/core/0.1.48/dist/output_parsers/openai_tools/json_output_tools_parsers.js:40:19)",
      "    at JsonOutputToolsParser._callWithConfig (file:///Users/luoqingxiang/Library/Caches/deno/npm/registry.npmjs.org/@langchain/core/0.1.48/dist/output_parsers/base.js:42:72)",
      "    at JsonOutputToolsParser._callWithConfig (file:///Users/luoqingxiang/Library/Caches/deno/npm/registry.npmjs.org/@langchain/core/0.1.48/dist/runnables/base.js:187:33)",
      "    at eventLoopTick (ext:core/01_core.js:168:7)",
      "    at async RunnableSequence.invoke (file:///Users/luoqingxiang/Library/Caches/deno/npm/registry.npmjs.org/@langchain/core/0.1.48/dist/runnables/base.js:1040:27)",
      "    at async <anonymous>:1:34"
     ]
    }
   ],
   "source": [
    "const res = await chain.invoke({\n",
    "    input: \"hello world\"\n",
    "});\n",
    "console.log(res);"
   ]
  },
  {
   "cell_type": "code",
   "execution_count": 36,
   "id": "f1f0f66e-b30a-4dd0-832d-d863c672ad23",
   "metadata": {},
   "outputs": [],
   "source": [
    "  const personExtractionSchema = z.object({\n",
    "    name: z.string().describe(\"人的名字\"),\n",
    "    age: z.number().optional().describe(\"人的年龄\")\n",
    "  }).describe(\"提取关于一个人的信息\");\n",
    "\n",
    "  const relationExtractSchema = z.object({\n",
    "    people: z.array(personExtractionSchema).describe(\"提取所有人\"),\n",
    "    relation: z.string().describe(\"人之间的关系, 尽量简洁\")\n",
    "  });\n",
    "\n",
    "  const modelExtract = model.bind({\n",
    "    tools: [\n",
    "      {\n",
    "        type: \"function\",\n",
    "        function: {\n",
    "            name: \"relationExtract\",\n",
    "            description: \"提取数据中人的信息和人的关系\",\n",
    "            parameters: zodToJsonSchema(relationExtractSchema)\n",
    "        }\n",
    "      }\n",
    "    ],\n",
    "    tool_choice: {\n",
    "      type: \"function\",\n",
    "      function: {\n",
    "        name: \"relationExtract\"\n",
    "      }\n",
    "    }\n",
    "  });\n",
    "\n",
    "  const prompt = ChatPromptTemplate.fromMessages([\n",
    "    [\"system\", \"仔细思考，你有充足的时间进行严谨的思考，然后提取文中的相关信息，如果没有明确提供，请不要猜测，可以仅提取部分信息\"],\n",
    "    [\"human\", \"{input}\"]\n",
    "  ]);\n",
    "\n",
    "  const chain = prompt.pipe(modelExtract).pipe(new JsonOutputToolsParser());"
   ]
  },
  {
   "cell_type": "code",
   "execution_count": 37,
   "id": "ab9a798d-e57e-43d0-9226-e65ba2e1af11",
   "metadata": {},
   "outputs": [
    {
     "ename": "Error",
     "evalue": "No tools_call in message [{\"message\":{\"lc\":1,\"type\":\"constructor\",\"id\":[\"langchain_core\",\"messages\",\"AIMessage\"],\"kwargs\":{\"content\":\"小明妈妈：小丽\",\"tool_calls\":[],\"invalid_tool_calls\":[],\"additional_kwargs\":{},\"response_metadata\":{\"tokenUsage\":{\"promptTokens\":59,\"completionTokens\":6,\"totalTokens\":65}}}},\"text\":\"小明妈妈：小丽\"}]",
     "output_type": "error",
     "traceback": [
      "Stack trace:",
      "Error: No tools_call in message [{\"message\":{\"lc\":1,\"type\":\"constructor\",\"id\":[\"langchain_core\",\"messages\",\"AIMessage\"],\"kwargs\":{\"content\":\"小明妈妈：小丽\",\"tool_calls\":[],\"invalid_tool_calls\":[],\"additional_kwargs\":{},\"response_metadata\":{\"tokenUsage\":{\"promptTokens\":59,\"completionTokens\":6,\"totalTokens\":65}}}},\"text\":\"小明妈妈：小丽\"}]",
      "    at JsonOutputToolsParser.parseResult (file:///Users/luoqingxiang/Library/Caches/deno/npm/registry.npmjs.org/@langchain/core/0.1.48/dist/output_parsers/openai_tools/json_output_tools_parsers.js:40:19)",
      "    at JsonOutputToolsParser._callWithConfig (file:///Users/luoqingxiang/Library/Caches/deno/npm/registry.npmjs.org/@langchain/core/0.1.48/dist/output_parsers/base.js:42:72)",
      "    at JsonOutputToolsParser._callWithConfig (file:///Users/luoqingxiang/Library/Caches/deno/npm/registry.npmjs.org/@langchain/core/0.1.48/dist/runnables/base.js:187:33)",
      "    at eventLoopTick (ext:core/01_core.js:168:7)",
      "    at async RunnableSequence.invoke (file:///Users/luoqingxiang/Library/Caches/deno/npm/registry.npmjs.org/@langchain/core/0.1.48/dist/runnables/base.js:1040:27)",
      "    at async <anonymous>:1:22"
     ]
    }
   ],
   "source": [
    "  await chain.invoke({\n",
    "    input: \"小明现在 18 岁了，她妈妈是小丽\"\n",
    "  });"
   ]
  },
  {
   "cell_type": "code",
   "execution_count": null,
   "id": "3341b4a9-ab58-4fe8-80de-b7b54ff52fa4",
   "metadata": {},
   "outputs": [],
   "source": []
  }
 ],
 "metadata": {
  "kernelspec": {
   "display_name": "Deno",
   "language": "typescript",
   "name": "deno"
  },
  "language_info": {
   "file_extension": ".ts",
   "mimetype": "text/x.typescript",
   "name": "typescript",
   "nb_converter": "script",
   "pygments_lexer": "typescript",
   "version": "5.4.5"
  }
 },
 "nbformat": 4,
 "nbformat_minor": 5
}
