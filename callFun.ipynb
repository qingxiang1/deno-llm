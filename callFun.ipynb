{
 "cells": [
  {
   "cell_type": "code",
   "execution_count": 1,
   "metadata": {},
   "outputs": [],
   "source": [
    "import { load } from \"dotenv\";\n",
    "const env = await load();\n",
    "\n",
    "const process = {\n",
    "    env\n",
    "}"
   ]
  },
  {
   "cell_type": "code",
   "execution_count": 2,
   "metadata": {},
   "outputs": [],
   "source": [
    "import OpenAI from \"openai\";\n",
    "\n",
    "const openai = new OpenAI({\n",
    "    apiKey: env[\"ALIBABA_API_KEY\"],\n",
    "});"
   ]
  },
  {
   "cell_type": "code",
   "execution_count": 3,
   "metadata": {},
   "outputs": [],
   "source": [
    "function getCurrentWeather({ location, unit=\"fahrenheit\"}){\n",
    "   const  weather_info = {\n",
    "        \"location\": location,\n",
    "        \"temperature\": \"72\",\n",
    "        \"unit\": unit,\n",
    "        \"forecast\": [\"sunny\", \"windy\"],\n",
    "    }\n",
    "    return JSON.stringify(weather_info);\n",
    "}"
   ]
  },
  {
   "cell_type": "code",
   "execution_count": 4,
   "metadata": {},
   "outputs": [],
   "source": [
    "const tools = [\n",
    "    {\n",
    "      type: \"function\",\n",
    "      function: {\n",
    "        name: \"getCurrentWeather\",\n",
    "        description: \"Get the current weather in a given location\",\n",
    "        parameters: {\n",
    "          type: \"object\",\n",
    "          properties: {\n",
    "            location: {\n",
    "              type: \"string\",\n",
    "              description: \"The city and state, e.g. San Francisco, CA\",\n",
    "            },\n",
    "            unit: { type: \"string\", enum: [\"celsius\", \"fahrenheit\"] },\n",
    "          },\n",
    "          required: [\"location\"],\n",
    "        },\n",
    "      },\n",
    "    }\n",
    "]"
   ]
  },
  {
   "cell_type": "code",
   "execution_count": 5,
   "metadata": {},
   "outputs": [
    {
     "ename": "Error",
     "evalue": "Connection error.",
     "output_type": "error",
     "traceback": [
      "Stack trace:",
      "Error: Connection error.",
      "    at OpenAI.makeRequest (file:///Users/luoqingxiang/Library/Caches/deno/npm/registry.npmjs.org/openai/4.43.0/core.mjs:285:19)",
      "    at eventLoopTick (ext:core/01_core.js:168:7)",
      "    at async <anonymous>:7:16"
     ]
    }
   ],
   "source": [
    "const messages = [\n",
    "    {\n",
    "        \"role\": \"user\",\n",
    "        \"content\": \"北京的天气怎么样\"\n",
    "    }\n",
    "]\n",
    "\n",
    "const result = await openai.chat.completions.create({\n",
    "    model: 'qwen-turbo',\n",
    "    messages,\n",
    "    tools\n",
    "});\n",
    "console.log(result.choices[0]);"
   ]
  },
  {
   "cell_type": "code",
   "execution_count": 6,
   "metadata": {},
   "outputs": [
    {
     "data": {
      "text/plain": [
       "\u001b[32m\"Hello, Zod!\"\u001b[39m"
      ]
     },
     "execution_count": 6,
     "metadata": {},
     "output_type": "execute_result"
    }
   ],
   "source": [
    "// 基于 langchain 使用 tools\n",
    "\n",
    "import { z } from \"zod\";\n",
    "\n",
    "const stringSchema = z.string();\n",
    "stringSchema.parse(\"Hello, Zod!\");\n"
   ]
  },
  {
   "cell_type": "code",
   "execution_count": 7,
   "metadata": {},
   "outputs": [
    {
     "data": {
      "text/plain": [
       "\u001b[33m42\u001b[39m"
      ]
     },
     "execution_count": 7,
     "metadata": {},
     "output_type": "execute_result"
    }
   ],
   "source": [
    "// 基础类型\n",
    "const stringSchema = z.string();\n",
    "const numberSchema = z.number();\n",
    "const booleanSchema = z.boolean();\n",
    "\n",
    "// 数组\n",
    "const stringArraySchema = z.array(z.string());\n",
    "stringArraySchema.parse([\"apple\", \"banana\", \"cherry\"]); \n",
    "\n",
    "// 对象\n",
    "const personSchema = z.object({\n",
    "  name: z.string(),\n",
    "  age: z.number(),\n",
    "  // 可选类型\n",
    "  isStudent: z.boolean().optional(),\n",
    "  // 默认值\n",
    "  home: z.string().default(\"no home\")\n",
    "});\n",
    "\n",
    "// 联合类型\n",
    "const mixedTypeSchema = z.union([z.string(), z.number()]);\n",
    "mixedTypeSchema.parse(\"hello\"); \n",
    "mixedTypeSchema.parse(42); "
   ]
  },
  {
   "cell_type": "code",
   "execution_count": 8,
   "metadata": {},
   "outputs": [],
   "source": [
    "const getCurrentWeatherSchema = z.object({\n",
    "  location: z.string().describe(\"The city and state, e.g. San Francisco, CA\"),\n",
    "  unit: z.enum([\"celsius\", \"fahrenheit\"]).describe(\"The unit of temperature\"),\n",
    "});"
   ]
  },
  {
   "cell_type": "code",
   "execution_count": 9,
   "metadata": {},
   "outputs": [],
   "source": [
    "import { zodToJsonSchema } from \"zod-to-json-schema\";\n",
    "\n",
    "const paramSchema = zodToJsonSchema(getCurrentWeatherSchema);"
   ]
  },
  {
   "cell_type": "code",
   "execution_count": 15,
   "metadata": {},
   "outputs": [
    {
     "ename": "TypeError",
     "evalue": "Cannot read properties of undefined (reading '_def')",
     "output_type": "error",
     "traceback": [
      "Stack trace:",
      "TypeError: Cannot read properties of undefined (reading '_def')",
      "    at zodToJsonSchema (file:///Users/luoqingxiang/Library/Caches/deno/npm/registry.npmjs.org/zod-to-json-schema/3.23.0/dist/esm/zodToJsonSchema.js:15:34)",
      "    at convertToOpenAIFunction (file:///Users/luoqingxiang/Library/Caches/deno/npm/registry.npmjs.org/@langchain/core/0.1.48/dist/utils/function_calling.js:12:21)",
      "    at <anonymous>:18:32",
      "    at Array.map (<anonymous>)",
      "    at <anonymous>:18:20"
     ]
    }
   ],
   "source": [
    "import { ChatAlibabaTongyi } from \"@langchain/community/chat_models/alibaba_tongyi\";\n",
    "import { convertToOpenAIFunction } from \"@langchain/core/utils/function_calling\";\n",
    "\n",
    "const model = new ChatAlibabaTongyi({\n",
    "    model: \"qwen-turbo\",\n",
    "    temperature: 0,\n",
    "})\n",
    "\n",
    "const tools = [\n",
    "    {\n",
    "        type: \"function\",\n",
    "        function: {\n",
    "            name: \"getCurrentWeather\",\n",
    "            description: \"Get the current weather in a given location\",\n",
    "            parameters: zodToJsonSchema(getCurrentWeatherSchema),\n",
    "        }\n",
    "    }\n",
    "];\n",
    "\n",
    "const modelWithTools = model.bind({\n",
    "  functions: tools.map((tool) => convertToOpenAIFunction(tool)),\n",
    "});\n",
    "\n",
    "await modelWithTools.invoke(\"北京的天气怎么样\");"
   ]
  },
  {
   "cell_type": "code",
   "execution_count": 13,
   "metadata": {},
   "outputs": [
    {
     "data": {
      "text/plain": [
       "AIMessage {\n",
       "  lc_serializable: \u001b[33mtrue\u001b[39m,\n",
       "  lc_kwargs: {\n",
       "    content: \u001b[32m\"对不起，我无法获取实时的天气信息。你可以通过查看各大天气预报网站、使用专业的天气预报应用，或者询问本地的朋友来获得北京当前的天气情况。通常我会建议你关注气温、湿度、风向风力以及空气质量等信息，以做好适\"\u001b[39m... 5 more characters,\n",
       "    tool_calls: [],\n",
       "    invalid_tool_calls: [],\n",
       "    additional_kwargs: {},\n",
       "    response_metadata: {}\n",
       "  },\n",
       "  lc_namespace: [ \u001b[32m\"langchain_core\"\u001b[39m, \u001b[32m\"messages\"\u001b[39m ],\n",
       "  content: \u001b[32m\"对不起，我无法获取实时的天气信息。你可以通过查看各大天气预报网站、使用专业的天气预报应用，或者询问本地的朋友来获得北京当前的天气情况。通常我会建议你关注气温、湿度、风向风力以及空气质量等信息，以做好适\"\u001b[39m... 5 more characters,\n",
       "  name: \u001b[90mundefined\u001b[39m,\n",
       "  additional_kwargs: {},\n",
       "  response_metadata: {\n",
       "    tokenUsage: { promptTokens: \u001b[33m22\u001b[39m, completionTokens: \u001b[33m59\u001b[39m, totalTokens: \u001b[33m81\u001b[39m }\n",
       "  },\n",
       "  tool_calls: [],\n",
       "  invalid_tool_calls: []\n",
       "}"
      ]
     },
     "execution_count": 13,
     "metadata": {},
     "output_type": "execute_result"
    }
   ],
   "source": [
    "import { ChatPromptTemplate } from \"@langchain/core/prompts\";\n",
    "\n",
    "const prompt = ChatPromptTemplate.fromMessages([\n",
    "    [\"system\", \"You are a helpful assistant\"],\n",
    "    [\"human\", \"{input}\"]\n",
    "])\n",
    "\n",
    "const chain = prompt.pipe(modelWithTools)\n",
    "\n",
    "await chain.invoke({\n",
    "    input: \"北京的天气怎么样\"\n",
    "});"
   ]
  },
  {
   "cell_type": "code",
   "execution_count": null,
   "metadata": {},
   "outputs": [],
   "source": []
  }
 ],
 "metadata": {
  "kernelspec": {
   "display_name": "Deno",
   "language": "typescript",
   "name": "deno"
  },
  "language_info": {
   "file_extension": ".ts",
   "mimetype": "text/x.typescript",
   "name": "typescript",
   "nb_converter": "script",
   "pygments_lexer": "typescript",
   "version": "5.4.5"
  }
 },
 "nbformat": 4,
 "nbformat_minor": 4
}
