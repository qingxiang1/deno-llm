{
 "cells": [
  {
   "cell_type": "code",
   "execution_count": 1,
   "id": "0066197d-d7ed-4be0-a13b-58b15546b7df",
   "metadata": {},
   "outputs": [],
   "source": [
    "import { load } from \"dotenv\";\n",
    "const env = await load();\n",
    "\n",
    "const process = {\n",
    "    env\n",
    "}"
   ]
  },
  {
   "cell_type": "code",
   "execution_count": 2,
   "id": "a46ce663-05c6-4bda-ac36-5c0f97f97faa",
   "metadata": {},
   "outputs": [],
   "source": [
    "import { TextLoader } from \"langchain/document_loaders/fs/text\";\n",
    "\n",
    "const loader = new TextLoader(\"./data/qiu.txt\");\n",
    "const docs = await loader.load();"
   ]
  },
  {
   "cell_type": "code",
   "execution_count": 3,
   "id": "b23b4235-5d78-4f58-8fd0-d9a25c533c75",
   "metadata": {},
   "outputs": [],
   "source": [
    "import { RecursiveCharacterTextSplitter } from \"langchain/text_splitter\";\n",
    "\n",
    "const splitter = new RecursiveCharacterTextSplitter({\n",
    "    chunkSize: 500,\n",
    "    chunkOverlap: 10,\n",
    "  });\n",
    "\n",
    "const splitDocs = await splitter.splitDocuments(docs);"
   ]
  },
  {
   "cell_type": "code",
   "execution_count": 4,
   "id": "02781e79-5075-4070-9d47-9216cce59416",
   "metadata": {},
   "outputs": [],
   "source": [
    "import { AlibabaTongyiEmbeddings } from \"@langchain/community/embeddings/alibaba_tongyi\";\n",
    "\n",
    "const embeddings = new AlibabaTongyiEmbeddings({});"
   ]
  },
  {
   "cell_type": "code",
   "execution_count": 5,
   "id": "f99bdf89-064e-4913-90af-6d9aecf4df97",
   "metadata": {},
   "outputs": [],
   "source": [
    "import { MemoryVectorStore } from \"langchain/vectorstores/memory\";\n",
    "\n",
    "const vectorstore = new MemoryVectorStore(embeddings);\n",
    "await vectorstore.addDocuments(splitDocs);"
   ]
  },
  {
   "cell_type": "code",
   "execution_count": 6,
   "id": "83c32001-19d1-4d0b-940e-ff779b3a472b",
   "metadata": {},
   "outputs": [],
   "source": [
    "const retriever = vectorstore.asRetriever(2);"
   ]
  },
  {
   "cell_type": "code",
   "execution_count": 7,
   "id": "9deaa966-9346-4414-a7dc-15b9755fb1f7",
   "metadata": {},
   "outputs": [
    {
     "name": "stdout",
     "output_type": "stream",
     "text": [
      "[\n",
      "  Document {\n",
      "    pageContent: \u001b[32m\"“对于宏电子来说，波粒二象性中波的形态占很大比重，所以它的大小的意义与我们常识中的完全不同。它还有很多令人难以置信的特性，我们以后会慢慢看到的，我相信这会改变大家对世界的看法。不过现在，我们要先给这些\"\u001b[39m... 334 more characters,\n",
      "    metadata: {\n",
      "      source: \u001b[32m\"./data/qiu.txt\"\u001b[39m,\n",
      "      loc: { lines: { from: \u001b[33m1464\u001b[39m, to: \u001b[33m1471\u001b[39m } }\n",
      "    }\n",
      "  },\n",
      "  Document {\n",
      "    pageContent: \u001b[32m\"“如果人类生活在一个没有摩擦力的世界，牛顿三定律可能会在更早的时候由更普通的人来发现。当你本身已经成为一个量子态的宏粒子，理解那个世界自然比我们要容易得多。”\\n\"\u001b[39m +\n",
      "      \u001b[32m\"　　于是，基地开始了捕获宏原子核的工作。\"\u001b[39m... 167 more characters,\n",
      "    metadata: {\n",
      "      source: \u001b[32m\"./data/qiu.txt\"\u001b[39m,\n",
      "      loc: { lines: { from: \u001b[33m2222\u001b[39m, to: \u001b[33m2224\u001b[39m } }\n",
      "    }\n",
      "  }\n",
      "]\n"
     ]
    }
   ],
   "source": [
    "const res = await retriever.invoke(\"原文中，谁提出了宏原子的假设？并详细介绍宏原子假设的理论\");\n",
    "console.log(res);"
   ]
  },
  {
   "cell_type": "code",
   "execution_count": 8,
   "id": "41ab52c2-46c6-4c42-9b26-2c7869492a38",
   "metadata": {},
   "outputs": [],
   "source": [
    "import { RunnableSequence } from \"@langchain/core/runnables\";\n",
    "import { Document } from \"@langchain/core/documents\";\n",
    "\n",
    "const convertDocsToString = (list) => {\n",
    "return list.map((document) => document.pageContent).join(\"\\n\")\n",
    "};\n",
    "\n",
    "const contextRetriverChain = RunnableSequence.from([\n",
    "(input) => input.question,\n",
    "retriever,\n",
    "convertDocsToString\n",
    "]);"
   ]
  },
  {
   "cell_type": "code",
   "execution_count": 9,
   "id": "aa583845-79e3-4424-abee-1b5989aac3c2",
   "metadata": {},
   "outputs": [
    {
     "name": "stdout",
     "output_type": "stream",
     "text": [
      "“对于宏电子来说，波粒二象性中波的形态占很大比重，所以它的大小的意义与我们常识中的完全不同。它还有很多令人难以置信的特性，我们以后会慢慢看到的，我相信这会改变大家对世界的看法。不过现在，我们要先给这些大电子取一个名字，它们是宏观尺度的电子，就叫宏电子吧。”\n",
      "　　“那么，像刚才说的，是否存在宏质子和宏中子呢？”\n",
      "　　“应该存在，不过由于它们不能被激发，我们很难发现它们。”\n",
      "　　“丁教授，你的梦实现了。”林云说，除了丁仪和我，别的人还不太明白她这话的意思。\n",
      "　　“是啊是啊，真有西瓜这么大的基本粒子摆上物理学家的桌面了，下一步我们肯定要研究它们的内部结构，那也是由弯曲的空间构成的结构，虽然也很难，但我相信比研究微观粒子的结构不知要容易多少倍。”\n",
      "　　“那也存在宏原子了？三种宏粒子应该是能够组成原子的啊！”\n",
      "　　“是的，应该有宏原子。”\n",
      "　　“我们所捕获到的那个空泡，哦，那个宏电子，是自由电子呢，还是一个宏原子中的电子？如果是后者，那这个宏原子的原子核在哪里呢？”\n",
      "“如果人类生活在一个没有摩擦力的世界，牛顿三定律可能会在更早的时候由更普通的人来发现。当你本身已经成为一个量子态的宏粒子，理解那个世界自然比我们要容易得多。”\n",
      "　　于是，基地开始了捕获宏原子核的工作。\n",
      "　　首先，用空泡光学探测系统精确观测宏电子在空间中的自由运行状态，现在知道，宏电子或它被激发后形成的球状闪电那轨迹复杂的飘行，实际上是一种不断的量子跃迁，但在我们的视觉中它的运行是连续的。运用张彬墓碑上出现的那个伟大的数学模型，通过对这种跃迁运动各种参数的复杂计算，就能够确定宏原子核的位置，如果这个宏电子确实是属于某个宏原子的话。\n"
     ]
    }
   ],
   "source": [
    "const result = await contextRetriverChain.invoke({ question: \"原文中，谁提出了宏原子的假设？并详细介绍宏原子假设的理论\"});\n",
    "\n",
    "console.log(result);"
   ]
  },
  {
   "cell_type": "code",
   "execution_count": 10,
   "id": "1a056194-ec18-42b3-8094-f2eaf9f93f0a",
   "metadata": {},
   "outputs": [],
   "source": [
    "import { ChatPromptTemplate } from \"@langchain/core/prompts\";\n",
    "\n",
    "const TEMPLATE = `\n",
    "    你是一个熟读刘慈欣的《球状闪电》的终极原著党，精通根据作品原文详细解释和回答问题，你在回答时会引用作品原文。\n",
    "    并且回答时仅根据原文，尽可能回答用户问题，如果原文中没有相关内容，你可以回答“原文中没有相关内容”，\n",
    "    \n",
    "    以下是原文中跟用户回答相关的内容：\n",
    "    {context}\n",
    "    \n",
    "    现在，你需要基于原文，回答以下问题：\n",
    "    {question}`;\n",
    "\n",
    "const prompt = ChatPromptTemplate.fromTemplate(\n",
    "    TEMPLATE\n",
    ");"
   ]
  },
  {
   "cell_type": "code",
   "execution_count": 11,
   "id": "12827fc2-12db-4c50-81d7-58869a685a31",
   "metadata": {},
   "outputs": [],
   "source": [
    "import { ChatAlibabaTongyi } from \"@langchain/community/chat_models/alibaba_tongyi\";\n",
    "const model = new ChatAlibabaTongyi({\n",
    "  model: \"qwen-turbo\", // Available models: qwen-turbo, qwen-plus, qwen-max\n",
    "  temperature: 1,\n",
    "});"
   ]
  },
  {
   "cell_type": "code",
   "execution_count": 12,
   "id": "2f5b3145-d1c9-4100-a401-0f2857bf374d",
   "metadata": {},
   "outputs": [],
   "source": [
    "import { StringOutputParser } from \"@langchain/core/output_parsers\";\n",
    "  \n",
    "const ragChain = RunnableSequence.from([\n",
    "    {\n",
    "        context: contextRetriverChain,\n",
    "        question: (input) => input.question,\n",
    "    },\n",
    "    prompt,\n",
    "    model,\n",
    "    new StringOutputParser()\n",
    "]);"
   ]
  },
  {
   "cell_type": "code",
   "execution_count": 13,
   "id": "a40d8093-43fc-434d-ac64-0fa20b7c3e12",
   "metadata": {},
   "outputs": [
    {
     "name": "stdout",
     "output_type": "stream",
     "text": [
      "球状闪电是一种在《球状闪电》这部科幻小说中描述的自然现象，它并非严格意义上的科学术语，而是刘慈欣作品中的虚构概念。在书中，球状闪电被描绘为一种能产生量子态、具有神秘特性的能量体，它可以被技术手段如雷球机枪操控。尽管它的军事应用被提及，但其本质和工作原理并未详尽揭示，仅仅是宏电子技术让人类得以窥探物质微观世界的另一种方式。\n"
     ]
    }
   ],
   "source": [
    "const res = await ragChain.invoke({\n",
    "    question: \"什么是球状闪电\"\n",
    "});  \n",
    "console.log(res);"
   ]
  },
  {
   "cell_type": "code",
   "execution_count": 14,
   "id": "cc2650d7-d9a9-46d1-98b1-ac44318ad795",
   "metadata": {},
   "outputs": [
    {
     "name": "stdout",
     "output_type": "stream",
     "text": [
      "原文中并没有提到“静夜思”这首诗，所以无法提供相关的内容。\n"
     ]
    }
   ],
   "source": [
    "const res = await ragChain.invoke({\n",
    "    question: \"静夜思这首诗是什么\"\n",
    "});  \n",
    "console.log(res);"
   ]
  },
  {
   "cell_type": "code",
   "execution_count": null,
   "id": "54782e20-83c7-49f9-8b83-245d111b0587",
   "metadata": {},
   "outputs": [],
   "source": []
  }
 ],
 "metadata": {
  "kernelspec": {
   "display_name": "Deno",
   "language": "typescript",
   "name": "deno"
  },
  "language_info": {
   "file_extension": ".ts",
   "mimetype": "text/x.typescript",
   "name": "typescript",
   "nb_converter": "script",
   "pygments_lexer": "typescript",
   "version": "5.4.5"
  }
 },
 "nbformat": 4,
 "nbformat_minor": 5
}
