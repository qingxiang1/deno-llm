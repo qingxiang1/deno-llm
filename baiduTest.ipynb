{
 "cells": [
  {
   "cell_type": "code",
   "execution_count": 1,
   "id": "5b9495b5-6d7e-4bdb-8ab0-8fb1f84dd0e1",
   "metadata": {},
   "outputs": [],
   "source": [
    "import { load } from \"dotenv\";\n",
    "const env = await load();\n",
    "\n",
    "const process = {\n",
    "    env\n",
    "}"
   ]
  },
  {
   "cell_type": "code",
   "execution_count": 2,
   "id": "f8f5914f-3485-49e7-b61f-3cc1976f9d09",
   "metadata": {},
   "outputs": [
    {
     "name": "stdout",
     "output_type": "stream",
     "text": [
      "好的，我将为您讲述一个发生在唐朝的小故事——文成公主的嫁妆。\n",
      "\n",
      "唐朝时期，皇帝为了加强与吐蕃之间的友好关系，决定将他的女儿文成公主嫁给吐蕃的松赞干布。这是一件非常重大的事情，文成公主的嫁妆也因此变得十分豪华和珍贵。\n",
      "\n",
      "在公主出嫁前，皇帝下令准备了一份丰厚的嫁妆，其中包括了各种珍贵的珠宝、华丽的服饰、精美的工艺品以及大量的书籍和艺术品。此外，皇帝还特意安排了一些工匠和技师一同前往吐蕃，以帮助松赞干布建设和发展吐蕃的文化和经济。\n",
      "\n",
      "当嫁妆准备妥当后，公主踏上了前往吐蕃的路程。然而，在路上，她遇到了一只凶猛的怪兽，挡住了她的去路。公主十分害怕，但她并没有放弃，而是决定勇敢地面对这个挑战。在公主的聪明才智和勇敢的帮助下，她成功地战胜了怪兽，继续前行。\n",
      "\n",
      "最终，公主成功地到达了吐蕃，与松赞干布结婚，并将她的嫁妆带入了吐蕃。这些嫁妆不仅丰富了吐蕃的物质财富，更重要的是，它们也促进了吐蕃的文化和艺术发展。文成公主的智慧和勇气，以及她的嫁妆，都对吐蕃的发展产生了深远的影响。\n",
      "\n",
      "这个故事告诉我们，勇气、智慧和友谊是克服困难和促进发展的重要力量。文成公主的嫁妆也成为了唐朝与吐蕃友好关系的象征。\n"
     ]
    }
   ],
   "source": [
    "import { ChatBaiduWenxin } from \"@langchain/community/chat_models/baiduwenxin\";\n",
    "import { HumanMessage } from \"@langchain/core/messages\";\n",
    "import { StringOutputParser } from \"@langchain/core/output_parsers\";\n",
    "\n",
    "const model = new ChatBaiduWenxin({\n",
    "  model: \"ERNIE-Speed-8K\", // ERNIE-Bot,ERNIE-Bot-turbo,ERNIE-Bot-4,ERNIE-Speed-8K,ERNIE-Speed-128K,ERNIE-4.0-8K, ERNIE-4.0-8K-Preview,ERNIE-3.5-8K,ERNIE-3.5-8K-Preview,ERNIE-Lite-8K,ERNIE-Tiny-8K,ERNIE-Character-8K, ERNIE Speed-AppBuilder\n",
    "  temperature: 1,\n",
    "});\n",
    "\n",
    "const outputPrase = new StringOutputParser();\n",
    "const messages = [new HumanMessage(\"Hello\")];\n",
    "\n",
    "const simpleChain = model.pipe(outputPrase);\n",
    "\n",
    "const stream = await simpleChain.invoke([\n",
    "     new HumanMessage(\"讲个唐朝的小故事\"),\n",
    "])\n",
    "\n",
    "console.log(stream);"
   ]
  },
  {
   "cell_type": "code",
   "execution_count": 3,
   "id": "3b1dd261-fb5b-41d4-946c-2148c667ea45",
   "metadata": {},
   "outputs": [],
   "source": [
    "function getCurrentWeather({ location, unit=\"fahrenheit\"}){\n",
    "   const  weather_info = {\n",
    "        \"location\": location,\n",
    "        \"temperature\": \"72\",\n",
    "        \"unit\": unit,\n",
    "        \"forecast\": [\"sunny\", \"windy\"],\n",
    "    }\n",
    "    return JSON.stringify(weather_info);\n",
    "}"
   ]
  },
  {
   "cell_type": "code",
   "execution_count": 4,
   "id": "56058f5c-d211-4018-b885-93c5fd001f35",
   "metadata": {},
   "outputs": [],
   "source": [
    "const tools = [\n",
    "    {\n",
    "      type: \"function\",\n",
    "      function: {\n",
    "        name: \"getCurrentWeather\",\n",
    "        description: \"Get the current weather in a given location\",\n",
    "        parameters: {\n",
    "          type: \"object\",\n",
    "          properties: {\n",
    "            location: {\n",
    "              type: \"string\",\n",
    "              description: \"The city and state, e.g. San Francisco, CA\",\n",
    "            },\n",
    "            unit: { type: \"string\", enum: [\"celsius\", \"fahrenheit\"] },\n",
    "          },\n",
    "          required: [\"location\"],\n",
    "        },\n",
    "      },\n",
    "    }\n",
    "]"
   ]
  },
  {
   "cell_type": "code",
   "execution_count": 5,
   "id": "374486b4-bccc-4636-8a65-4b611ac18a65",
   "metadata": {},
   "outputs": [
    {
     "ename": "TypeError",
     "evalue": "Cannot read properties of undefined (reading 'completions')",
     "output_type": "error",
     "traceback": [
      "Stack trace:",
      "TypeError: Cannot read properties of undefined (reading 'completions')",
      "    at <anonymous>:8:33"
     ]
    }
   ],
   "source": [
    "const model = new ChatBaiduWenxin();\n",
    "\n",
    "const messages = [\n",
    "    {\n",
    "        \"role\": \"user\",\n",
    "        \"content\": \"北京的天气怎么样\"\n",
    "    }\n",
    "]\n",
    "\n",
    "const result = await model.chat.completions.create({\n",
    "    model: \"ERNIE-Speed-8K\", \n",
    "    messages,\n",
    "    tools\n",
    "});\n",
    "console.log(result.choices[0]);"
   ]
  },
  {
   "cell_type": "code",
   "execution_count": null,
   "id": "0f89c03e-9b68-4e82-b8a1-64e92608f5a8",
   "metadata": {},
   "outputs": [],
   "source": []
  }
 ],
 "metadata": {
  "kernelspec": {
   "display_name": "Deno",
   "language": "typescript",
   "name": "deno"
  },
  "language_info": {
   "file_extension": ".ts",
   "mimetype": "text/x.typescript",
   "name": "typescript",
   "nb_converter": "script",
   "pygments_lexer": "typescript",
   "version": "5.4.5"
  }
 },
 "nbformat": 4,
 "nbformat_minor": 5
}
