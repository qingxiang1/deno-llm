{
 "cells": [
  {
   "cell_type": "code",
   "execution_count": 1,
   "id": "6c80a102-f360-4885-9531-2e5348dcfdc8",
   "metadata": {},
   "outputs": [],
   "source": [
    "import { ChatMessageHistory } from \"langchain/stores/message/in_memory\";\n",
    "import { HumanMessage, AIMessage } from \"@langchain/core/messages\";\n",
    "\n",
    "const history = new ChatMessageHistory();\n"
   ]
  },
  {
   "cell_type": "code",
   "execution_count": 2,
   "id": "266af075-99ee-4d9a-9890-91db46f94e93",
   "metadata": {},
   "outputs": [],
   "source": [
    "await history.addMessage(new HumanMessage(\"你好\"));\n",
    "await history.addMessage(new AIMessage(\"你好啊！\"));"
   ]
  },
  {
   "cell_type": "code",
   "execution_count": 3,
   "id": "3de70230-4845-4e1b-886d-695366dda91d",
   "metadata": {},
   "outputs": [
    {
     "name": "stdout",
     "output_type": "stream",
     "text": [
      "[\n",
      "  HumanMessage {\n",
      "    lc_serializable: \u001b[33mtrue\u001b[39m,\n",
      "    lc_kwargs: { content: \u001b[32m\"你好\"\u001b[39m, additional_kwargs: {}, response_metadata: {} },\n",
      "    lc_namespace: [ \u001b[32m\"langchain_core\"\u001b[39m, \u001b[32m\"messages\"\u001b[39m ],\n",
      "    content: \u001b[32m\"你好\"\u001b[39m,\n",
      "    name: \u001b[90mundefined\u001b[39m,\n",
      "    additional_kwargs: {},\n",
      "    response_metadata: {}\n",
      "  },\n",
      "  AIMessage {\n",
      "    lc_serializable: \u001b[33mtrue\u001b[39m,\n",
      "    lc_kwargs: { content: \u001b[32m\"你好啊！\"\u001b[39m, additional_kwargs: {}, response_metadata: {} },\n",
      "    lc_namespace: [ \u001b[32m\"langchain_core\"\u001b[39m, \u001b[32m\"messages\"\u001b[39m ],\n",
      "    content: \u001b[32m\"你好啊！\"\u001b[39m,\n",
      "    name: \u001b[90mundefined\u001b[39m,\n",
      "    additional_kwargs: {},\n",
      "    response_metadata: {}\n",
      "  }\n",
      "]\n"
     ]
    }
   ],
   "source": [
    "const messages = await history.getMessages();\n",
    "\n",
    "console.log(messages);"
   ]
  },
  {
   "cell_type": "code",
   "execution_count": 1,
   "id": "1a8f739c-cec9-4a98-bef1-dc0a730e16f2",
   "metadata": {},
   "outputs": [],
   "source": [
    "import { load } from \"dotenv\";\n",
    "const env = await load();\n",
    "\n",
    "const process = {\n",
    "    env\n",
    "}"
   ]
  },
  {
   "cell_type": "code",
   "execution_count": 5,
   "id": "13edd1a5-eff0-43b4-b5f7-c6f528e5f56a",
   "metadata": {},
   "outputs": [],
   "source": [
    "import { ChatPromptTemplate, MessagesPlaceholder } from \"@langchain/core/prompts\";\n",
    "import { ChatAlibabaTongyi } from \"@langchain/community/chat_models/alibaba_tongyi\";\n",
    "\n",
    "const chatModel = new ChatAlibabaTongyi({\n",
    "model: \"qwen-turbo\", // Available models: qwen-turbo, qwen-plus, qwen-max\n",
    "temperature: 1,\n",
    "});\n",
    "\n",
    "const prompt = ChatPromptTemplate.fromMessages([\n",
    "  [\"system\", `你是一个乐于助人的助手，尽你所能地回答所有问题。\n",
    "  你很健谈，能从上下文中提供大量具体细节。\n",
    "  如果你不知道问题的答案，那就如实地说你不知道。`],\n",
    "  new MessagesPlaceholder(\"history_message\"),\n",
    "]);\n",
    "\n",
    "const chain = prompt.pipe(chatModel);"
   ]
  },
  {
   "cell_type": "code",
   "execution_count": 7,
   "id": "7a60e20c-4356-4eae-b945-60a7b1643aa7",
   "metadata": {},
   "outputs": [
    {
     "name": "stdout",
     "output_type": "stream",
     "text": [
      "AIMessage {\n",
      "  lc_serializable: \u001b[33mtrue\u001b[39m,\n",
      "  lc_kwargs: {\n",
      "    content: \u001b[32m\"你好，叮当猫！很高兴见到你。如果你有任何问题或者需要帮助，请随时告诉我。\"\u001b[39m,\n",
      "    tool_calls: [],\n",
      "    invalid_tool_calls: [],\n",
      "    additional_kwargs: {},\n",
      "    response_metadata: {}\n",
      "  },\n",
      "  lc_namespace: [ \u001b[32m\"langchain_core\"\u001b[39m, \u001b[32m\"messages\"\u001b[39m ],\n",
      "  content: \u001b[32m\"你好，叮当猫！很高兴见到你。如果你有任何问题或者需要帮助，请随时告诉我。\"\u001b[39m,\n",
      "  name: \u001b[90mundefined\u001b[39m,\n",
      "  additional_kwargs: {},\n",
      "  response_metadata: {\n",
      "    tokenUsage: { promptTokens: \u001b[33m64\u001b[39m, completionTokens: \u001b[33m20\u001b[39m, totalTokens: \u001b[33m84\u001b[39m }\n",
      "  },\n",
      "  tool_calls: [],\n",
      "  invalid_tool_calls: []\n",
      "}\n"
     ]
    }
   ],
   "source": [
    "import { ChatMessageHistory } from \"langchain/stores/message/in_memory\";\n",
    "import { HumanMessage, AIMessage } from \"@langchain/core/messages\";\n",
    "\n",
    "const history = new ChatMessageHistory();\n",
    "await history.addMessage(new HumanMessage(\"你好，我是叮当猫\"));\n",
    "\n",
    "const res1 = await chain.invoke({\n",
    "    history_message: await history.getMessages(),\n",
    "});\n",
    "\n",
    "console.log(res1);"
   ]
  },
  {
   "cell_type": "code",
   "execution_count": 8,
   "id": "b9c7e8ab-4677-4200-9c24-0aac66afdd6e",
   "metadata": {},
   "outputs": [],
   "source": [
    "await history.addMessage(res1)\n",
    "await history.addMessage(new HumanMessage(\"我是谁\"));"
   ]
  },
  {
   "cell_type": "code",
   "execution_count": 9,
   "id": "1f449505-0e22-4cbc-8eb3-80ffee143349",
   "metadata": {},
   "outputs": [
    {
     "name": "stdout",
     "output_type": "stream",
     "text": [
      "AIMessage {\n",
      "  lc_serializable: \u001b[33mtrue\u001b[39m,\n",
      "  lc_kwargs: {\n",
      "    content: \u001b[32m\"你自称是叮当猫，这通常指的是卡通角色《蓝皮鼠和大脸猫》中的角色，或者在一些衍生作品中，也可能指代哆啦A梦（Doraemon）系列里的叮当猫（Ding Dong Bell）。如果你在玩某个角色扮演游戏或\"\u001b[39m... 20 more characters,\n",
      "    tool_calls: [],\n",
      "    invalid_tool_calls: [],\n",
      "    additional_kwargs: {},\n",
      "    response_metadata: {}\n",
      "  },\n",
      "  lc_namespace: [ \u001b[32m\"langchain_core\"\u001b[39m, \u001b[32m\"messages\"\u001b[39m ],\n",
      "  content: \u001b[32m\"你自称是叮当猫，这通常指的是卡通角色《蓝皮鼠和大脸猫》中的角色，或者在一些衍生作品中，也可能指代哆啦A梦（Doraemon）系列里的叮当猫（Ding Dong Bell）。如果你在玩某个角色扮演游戏或\"\u001b[39m... 20 more characters,\n",
      "  name: \u001b[90mundefined\u001b[39m,\n",
      "  additional_kwargs: {},\n",
      "  response_metadata: {\n",
      "    tokenUsage: { promptTokens: \u001b[33m96\u001b[39m, completionTokens: \u001b[33m73\u001b[39m, totalTokens: \u001b[33m169\u001b[39m }\n",
      "  },\n",
      "  tool_calls: [],\n",
      "  invalid_tool_calls: []\n",
      "}\n"
     ]
    }
   ],
   "source": [
    "const res2 = await chain.invoke({\n",
    "    history_message: await history.getMessages(),\n",
    "});\n",
    "console.log(res2);"
   ]
  },
  {
   "cell_type": "code",
   "execution_count": 10,
   "id": "136c0be5-e363-4eca-80e8-de78893f16f3",
   "metadata": {},
   "outputs": [],
   "source": [
    "import { RunnableWithMessageHistory } from \"@langchain/core/runnables\";\n",
    "\n",
    "const chatModel = new ChatAlibabaTongyi({\n",
    "model: \"qwen-turbo\", // Available models: qwen-turbo, qwen-plus, qwen-max\n",
    "temperature: 1,\n",
    "});\n",
    "\n",
    "const prompt = ChatPromptTemplate.fromMessages([\n",
    "[\"system\", \"你是一个乐于助人的助手，尽你所能地回答所有问题。\"],\n",
    "new MessagesPlaceholder(\"history_message\"),\n",
    "[\"human\",\"{input}\"]\n",
    "]);\n",
    "\n",
    "const history = new ChatMessageHistory();\n",
    "const chain = prompt.pipe(chatModel)\n",
    "\n",
    "const chainWithHistory = new RunnableWithMessageHistory({\n",
    "runnable: chain,\n",
    "getMessageHistory: (_sessionId) => history,\n",
    "inputMessagesKey: \"input\",\n",
    "historyMessagesKey: \"history_message\",\n",
    "});"
   ]
  },
  {
   "cell_type": "code",
   "execution_count": 11,
   "id": "0252e644-4fec-4144-8dda-8d02ba7aca19",
   "metadata": {},
   "outputs": [
    {
     "name": "stdout",
     "output_type": "stream",
     "text": [
      "AIMessage {\n",
      "  lc_serializable: \u001b[33mtrue\u001b[39m,\n",
      "  lc_kwargs: {\n",
      "    content: \u001b[32m\"你好，叮当猫！很高兴认识你。如果你有任何问题或者需要帮助，请随时告诉我，我会尽力提供支持。\"\u001b[39m,\n",
      "    tool_calls: [],\n",
      "    invalid_tool_calls: [],\n",
      "    additional_kwargs: {},\n",
      "    response_metadata: {}\n",
      "  },\n",
      "  lc_namespace: [ \u001b[32m\"langchain_core\"\u001b[39m, \u001b[32m\"messages\"\u001b[39m ],\n",
      "  content: \u001b[32m\"你好，叮当猫！很高兴认识你。如果你有任何问题或者需要帮助，请随时告诉我，我会尽力提供支持。\"\u001b[39m,\n",
      "  name: \u001b[90mundefined\u001b[39m,\n",
      "  additional_kwargs: {},\n",
      "  response_metadata: {\n",
      "    tokenUsage: { promptTokens: \u001b[33m35\u001b[39m, completionTokens: \u001b[33m25\u001b[39m, totalTokens: \u001b[33m60\u001b[39m }\n",
      "  },\n",
      "  tool_calls: [],\n",
      "  invalid_tool_calls: []\n",
      "}\n"
     ]
    }
   ],
   "source": [
    "const res1 = await chainWithHistory.invoke({\n",
    "    input: \"你好，我是叮当猫\",\n",
    "},{\n",
    "    configurable: { sessionId: \"none\" }\n",
    "});\n",
    "console.log(res1);"
   ]
  },
  {
   "cell_type": "code",
   "execution_count": 12,
   "id": "125ee38a-60eb-46fd-9827-ac3b61a4f0d7",
   "metadata": {},
   "outputs": [
    {
     "name": "stdout",
     "output_type": "stream",
     "text": [
      "AIMessage {\n",
      "  lc_serializable: \u001b[33mtrue\u001b[39m,\n",
      "  lc_kwargs: {\n",
      "    content: \u001b[32m\"你自称是叮当猫，这通常是指卡通角色《蓝猫淘气三千问》中的主角之一，或者指《哆啦A梦》（Doraemon）中的重要角色，哆啦A梦的神奇小口袋里的道具“叮当”（铜锣）。如果你在玩角色扮演游戏或者有其他特定\"\u001b[39m... 36 more characters,\n",
      "    tool_calls: [],\n",
      "    invalid_tool_calls: [],\n",
      "    additional_kwargs: {},\n",
      "    response_metadata: {}\n",
      "  },\n",
      "  lc_namespace: [ \u001b[32m\"langchain_core\"\u001b[39m, \u001b[32m\"messages\"\u001b[39m ],\n",
      "  content: \u001b[32m\"你自称是叮当猫，这通常是指卡通角色《蓝猫淘气三千问》中的主角之一，或者指《哆啦A梦》（Doraemon）中的重要角色，哆啦A梦的神奇小口袋里的道具“叮当”（铜锣）。如果你在玩角色扮演游戏或者有其他特定\"\u001b[39m... 36 more characters,\n",
      "  name: \u001b[90mundefined\u001b[39m,\n",
      "  additional_kwargs: {},\n",
      "  response_metadata: {\n",
      "    tokenUsage: { promptTokens: \u001b[33m72\u001b[39m, completionTokens: \u001b[33m90\u001b[39m, totalTokens: \u001b[33m162\u001b[39m }\n",
      "  },\n",
      "  tool_calls: [],\n",
      "  invalid_tool_calls: []\n",
      "}\n"
     ]
    }
   ],
   "source": [
    "const res2 = await chainWithHistory.invoke({\n",
    "  input: \"我是谁\",\n",
    "},{\n",
    "  configurable: { sessionId: \"none\" }\n",
    "});\n",
    "console.log(res2);"
   ]
  },
  {
   "cell_type": "code",
   "execution_count": 3,
   "id": "f2013d23-265c-400e-88c2-aeb67916cce6",
   "metadata": {},
   "outputs": [],
   "source": [
    "import { RunnableWithMessageHistory } from \"@langchain/core/runnables\";\n",
    "import { ChatPromptTemplate, MessagesPlaceholder } from \"@langchain/core/prompts\";\n",
    "import { ChatAlibabaTongyi } from \"@langchain/community/chat_models/alibaba_tongyi\";\n",
    "import { ChatMessageHistory } from \"langchain/stores/message/in_memory\";\n",
    "import { RunnableSequence, RunnablePassthrough } from \"@langchain/core/runnables\";\n",
    "import { StringOutputParser } from \"@langchain/core/output_parsers\";\n",
    "import { getBufferString } from \"@langchain/core/messages\";"
   ]
  },
  {
   "cell_type": "code",
   "execution_count": 16,
   "id": "8d6aea96-f26c-47a4-95dd-cc6aee46aa72",
   "metadata": {},
   "outputs": [],
   "source": [
    "const summaryModel = new ChatAlibabaTongyi({\n",
    "    model: \"qwen-turbo\", // Available models: qwen-turbo, qwen-plus, qwen-max\n",
    "    temperature: 1,\n",
    "});\n",
    "\n",
    "const summaryPrompt = ChatPromptTemplate.fromTemplate(`\n",
    "    逐步总结所提供的对话内容，在之前的总结基础上添加新的总结\n",
    "    \n",
    "    当前摘要:\n",
    "    {summary}\n",
    "    \n",
    "    新的对话方式:\n",
    "    {new_lines}\n",
    "    \n",
    "    新摘要:\n",
    "    `); \n",
    "\n",
    "const summaryChain = RunnableSequence.from([\n",
    "    summaryPrompt,\n",
    "    summaryModel,\n",
    "    new StringOutputParser(),\n",
    "]);"
   ]
  },
  {
   "cell_type": "code",
   "execution_count": 17,
   "id": "e2b5831d-b930-4432-94fb-b4fe11036c4c",
   "metadata": {},
   "outputs": [],
   "source": [
    "const newSummary = await summaryChain.invoke({\n",
    "    summary: \"\",\n",
    "    new_lines: \"我是叮当猫\"\n",
    "});"
   ]
  },
  {
   "cell_type": "code",
   "execution_count": 18,
   "id": "ca949a55-b0fd-4541-8f59-cfb986d979bc",
   "metadata": {},
   "outputs": [
    {
     "data": {
      "text/plain": [
       "\u001b[32m'在先前的对话总结中，我们主要探讨了整体情况和可能的话题范围。随着新角色\"我是叮当猫\"的加入，对话可能转向与超自然能力、冒险、童话世界或者科幻元素相关的内容，特别是如果\"我会飞\"的能力成为讨论的核心。然'\u001b[39m... 40 more characters"
      ]
     },
     "execution_count": 18,
     "metadata": {},
     "output_type": "execute_result"
    }
   ],
   "source": [
    "await summaryChain.invoke({\n",
    "  summary: newSummary,\n",
    "  new_lines: \"我会飞\"\n",
    "});"
   ]
  },
  {
   "cell_type": "code",
   "execution_count": 19,
   "id": "87bc89a9-561f-4721-a8e6-a0e3cf3eec5f",
   "metadata": {},
   "outputs": [],
   "source": [
    "const chatModel = new ChatAlibabaTongyi({\n",
    "    model: \"qwen-turbo\", // Available models: qwen-turbo, qwen-plus, qwen-max\n",
    "    temperature: 1,\n",
    "});\n",
    "\n",
    "const chatPrompt = ChatPromptTemplate.fromMessages([\n",
    "    [\"system\", `你是一个乐于助人的助手，尽你所能地回答所有问题。\n",
    "\n",
    "    以下是聊天记录摘要：\n",
    "    {history_summary}\n",
    "    `],\n",
    "    [\"human\",\"{input}\"]\n",
    "]);\n",
    "\n",
    "let summary = \"\"\n",
    "const history = new ChatMessageHistory();"
   ]
  },
  {
   "cell_type": "code",
   "execution_count": 20,
   "id": "b65afec7-e293-4a19-a19f-ab857a87728b",
   "metadata": {},
   "outputs": [],
   "source": [
    "const chatChain = RunnableSequence.from([\n",
    "    {\n",
    "        input: new RunnablePassthrough({\n",
    "             func: (input) => history.addUserMessage(input)\n",
    "        })\n",
    "    },\n",
    "    RunnablePassthrough.assign({\n",
    "        history_summary: () => summary\n",
    "    }),\n",
    "    chatPrompt,\n",
    "    chatModel,\n",
    "    new StringOutputParser(),\n",
    "    new RunnablePassthrough({\n",
    "        func: async (input) => {\n",
    "            history.addAIChatMessage(input);\n",
    "            const messages = await history.getMessages();\n",
    "            const new_lines = getBufferString(messages);\n",
    "            const newSummary = await summaryChain.invoke({\n",
    "                summary,\n",
    "                new_lines\n",
    "            });\n",
    "            history.clear();\n",
    "            summary = newSummary;   \n",
    "        }\n",
    "    })\n",
    "]);"
   ]
  },
  {
   "cell_type": "code",
   "execution_count": 21,
   "id": "df69d25d-1399-4a6b-a90d-371021866d48",
   "metadata": {},
   "outputs": [
    {
     "name": "stdout",
     "output_type": "stream",
     "text": [
      "如果你饿了，可以考虑吃点东西。你可以选择制作简单的三明治、热汤或者是一碗方便面，如果你在家；外出的话，可以去附近的餐馆、便利店或者点外卖。别忘了喝点水哦。\n"
     ]
    }
   ],
   "source": [
    "const res1 = await chatChain.invoke(\"我现在饿了\");\n",
    "console.log(res1);"
   ]
  },
  {
   "cell_type": "code",
   "execution_count": 22,
   "id": "c8230e65-6131-4944-bf45-1368c836e61f",
   "metadata": {},
   "outputs": [
    {
     "name": "stdout",
     "output_type": "stream",
     "text": [
      "当然可以！如果你想要吃方便面，这里有一些建议：\n",
      "\n",
      "1. **选择口味**：确保挑选你喜欢的口味，比如经典的红烧牛肉、豚骨、泡椒凤爪或者蔬菜味等。\n",
      "\n",
      "2. **准备材料**：根据包装上的指示，准备好所需的配料，如调料包、蔬菜、鸡蛋（如果需要）等。\n",
      "\n",
      "3. **烧水煮面**：烧一锅开水，按照方便面包装上的时间煮面，通常大约3-5分钟。\n",
      "\n",
      "4. **添加配料**：煮好面后，把调料包、蔬菜或其他喜欢的配料加入，搅拌均匀。\n",
      "\n",
      "5. **享受美食**：你的快速方便面就完成了，记得配一碗热水或茶，补充一下水分。\n",
      "\n",
      "6. **健康小贴士**：虽然方便面快捷，但为了均衡营养，偶尔可以搭配一些蔬菜、水果或低脂酸奶来提升饱腹感和营养。\n",
      "\n",
      "享用你的方便面时，别忘了适时休息，补充能量哦！\n"
     ]
    }
   ],
   "source": [
    "const res2 = await chatChain.invoke(\"我今天想吃方便面\");\n",
    "console.log(res2);"
   ]
  },
  {
   "cell_type": "code",
   "execution_count": 24,
   "id": "842ec3bf-52d9-407a-bc4b-fd09ddf69001",
   "metadata": {},
   "outputs": [
    {
     "name": "stdout",
     "output_type": "stream",
     "text": [
      "[]\n"
     ]
    }
   ],
   "source": [
    "const res3 = await history.getMessages();\n",
    "console.log(res3);"
   ]
  },
  {
   "cell_type": "code",
   "execution_count": 5,
   "id": "aa03e5b3-404c-4b42-8c35-98b26571439f",
   "metadata": {},
   "outputs": [],
   "source": [
    "import { BufferMemory } from \"langchain/memory\";\n",
    "import { ChatAlibabaTongyi } from \"@langchain/community/chat_models/alibaba_tongyi\";\n",
    "\n",
    "const chatModel = new ChatAlibabaTongyi({\n",
    "    model: \"qwen-turbo\", // Available models: qwen-turbo, qwen-plus, qwen-max\n",
    "    temperature: 1,\n",
    "    verbose:true\n",
    "});\n",
    "\n",
    "const memory = new BufferMemory();\n",
    "\n",
    "const TEMPLATE = `\n",
    "你是一个乐于助人的 ai 助手，尽你所能回答所有问题。\n",
    "\n",
    "这是跟人类沟通的聊天历史:\n",
    "{history}\n",
    "\n",
    "据此回答人类的问题:\n",
    "{input}\n",
    "`\n",
    "const prompt = ChatPromptTemplate.fromTemplate(TEMPLATE);"
   ]
  },
  {
   "cell_type": "code",
   "execution_count": 6,
   "id": "a58692a0-d112-44b3-9d7b-c2eb0797abf7",
   "metadata": {},
   "outputs": [],
   "source": [
    "let tempInput = \"\"\n",
    "\n",
    "  const chain =  RunnableSequence.from([\n",
    "    {\n",
    "      input: new RunnablePassthrough(),\n",
    "      memoryObject: async (input) => {\n",
    "        const history = await memory.loadMemoryVariables({\n",
    "          input,\n",
    "        });\n",
    "        tempInput = input;\n",
    "        return history;\n",
    "      }\n",
    "    },\n",
    "\n",
    "    RunnablePassthrough.assign({\n",
    "      history: (input) => input.memoryObject.history\n",
    "    }),\n",
    "\n",
    "    prompt,\n",
    "    chatModel,\n",
    "    new StringOutputParser(),\n",
    "    new RunnablePassthrough({\n",
    "      func: async (output) => {\n",
    "        await memory.saveContext({\n",
    "          input: tempInput,\n",
    "        }, {\n",
    "          output,\n",
    "        })\n",
    "      }\n",
    "    }),\n",
    "  ]);"
   ]
  },
  {
   "cell_type": "code",
   "execution_count": 3,
   "id": "0d3fd435-fe5d-4fd2-9a20-f1d82b5bdbfb",
   "metadata": {},
   "outputs": [
    {
     "name": "stdout",
     "output_type": "stream",
     "text": [
      "[\n",
      "  HumanMessage {\n",
      "    lc_serializable: \u001b[33mtrue\u001b[39m,\n",
      "    lc_kwargs: {\n",
      "      content: \u001b[32m\"你好，我是叮当猫\"\u001b[39m,\n",
      "      additional_kwargs: {},\n",
      "      response_metadata: {}\n",
      "    },\n",
      "    lc_namespace: [ \u001b[32m\"langchain_core\"\u001b[39m, \u001b[32m\"messages\"\u001b[39m ],\n",
      "    content: \u001b[32m\"你好，我是叮当猫\"\u001b[39m,\n",
      "    name: \u001b[90mundefined\u001b[39m,\n",
      "    additional_kwargs: {},\n",
      "    response_metadata: {}\n",
      "  },\n",
      "  AIMessage {\n",
      "    lc_serializable: \u001b[33mtrue\u001b[39m,\n",
      "    lc_kwargs: { content: \u001b[32m\"你好\"\u001b[39m, additional_kwargs: {}, response_metadata: {} },\n",
      "    lc_namespace: [ \u001b[32m\"langchain_core\"\u001b[39m, \u001b[32m\"messages\"\u001b[39m ],\n",
      "    content: \u001b[32m\"你好\"\u001b[39m,\n",
      "    name: \u001b[90mundefined\u001b[39m,\n",
      "    additional_kwargs: {},\n",
      "    response_metadata: {}\n",
      "  }\n",
      "]\n"
     ]
    }
   ],
   "source": [
    "import { JSONChatHistory } from \"./JSONChatHistory/index.ts\"\n",
    "import { AIMessage, HumanMessage } from \"@langchain/core/messages\";\n",
    "\n",
    "const history = new JSONChatHistory({\n",
    "    dir: \"chat_data\",\n",
    "    sessionId: \"test\"\n",
    "})\n",
    "\n",
    "\n",
    "await history.addMessages([\n",
    "  new HumanMessage(\"你好，我是叮当猫\"),\n",
    "  new AIMessage(\"你好\"),\n",
    "]);\n",
    "\n",
    "const messages = await history.getMessages();\n",
    "console.log(messages)"
   ]
  },
  {
   "cell_type": "code",
   "execution_count": 4,
   "id": "789cccf1-bbf7-4168-bc85-d73396cb4c57",
   "metadata": {},
   "outputs": [
    {
     "name": "stdout",
     "output_type": "stream",
     "text": [
      "{\n",
      "  response: \u001b[32m\"你是在说中文的“叮当猫”，这通常是中国动画《哆啦A梦》中的主角，一个来自22世纪的机器猫，以你的名字“Ding Dang”进行交流。\"\u001b[39m\n",
      "}\n"
     ]
    }
   ],
   "source": [
    "import { ChatAlibabaTongyi } from \"@langchain/community/chat_models/alibaba_tongyi\";\n",
    "import { BufferMemory } from \"langchain/memory\";\n",
    "import { ConversationChain } from \"langchain/chains\";\n",
    "\n",
    "\n",
    "const chatModel = new ChatAlibabaTongyi({\n",
    "    model: \"qwen-turbo\", // Available models: qwen-turbo, qwen-plus, qwen-max\n",
    "    temperature: 1,\n",
    "});\n",
    "const memory = new BufferMemory({\n",
    "    chatHistory: history\n",
    "});\n",
    "const chain = new ConversationChain({ llm: chatModel, memory: memory });\n",
    "const res1 = await chain.call({ input: \"我是谁？\" });\n",
    "console.log(res1);"
   ]
  },
  {
   "cell_type": "code",
   "execution_count": null,
   "id": "88b30167-3bb8-4867-816b-dda6af1647d8",
   "metadata": {},
   "outputs": [],
   "source": []
  }
 ],
 "metadata": {
  "kernelspec": {
   "display_name": "Deno",
   "language": "typescript",
   "name": "deno"
  },
  "language_info": {
   "file_extension": ".ts",
   "mimetype": "text/x.typescript",
   "name": "typescript",
   "nb_converter": "script",
   "pygments_lexer": "typescript",
   "version": "5.4.5"
  }
 },
 "nbformat": 4,
 "nbformat_minor": 5
}
