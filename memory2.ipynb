{
 "cells": [
  {
   "cell_type": "code",
   "execution_count": 1,
   "id": "79d8f19a-93a2-414c-a277-83c905119d2b",
   "metadata": {},
   "outputs": [
    {
     "name": "stdout",
     "output_type": "stream",
     "text": [
      "{ response: \u001b[32m\"你好，小明！我是AI助手，有什么问题或者需要帮助的吗？我很乐意提供支持。\"\u001b[39m }\n"
     ]
    }
   ],
   "source": [
    "import { BufferMemory } from \"langchain/memory\";\n",
    "import { ConversationChain } from \"langchain/chains\";\n",
    "import { Ollama } from \"@langchain/community/llms/ollama\";\n",
    "\n",
    "const chatModel = new Ollama({\n",
    "  baseUrl: \"http://localhost:11434\", \n",
    "  model: \"qwen:7b\", \n",
    "});\n",
    "\n",
    "const memory = new BufferMemory();\n",
    "const chain = new ConversationChain({ llm: chatModel, memory: memory });\n",
    "const res1 = await chain.call({ input: \"我是小明\" });\n",
    "\n",
    "console.log(res1);"
   ]
  },
  {
   "cell_type": "code",
   "execution_count": 2,
   "id": "d1fa5e97-6c11-4738-b9bf-f69bd48677f3",
   "metadata": {},
   "outputs": [
    {
     "name": "stdout",
     "output_type": "stream",
     "text": [
      "{ response: \u001b[32m\"你的名字是小明。\"\u001b[39m }\n"
     ]
    }
   ],
   "source": [
    "const res2 = await chain.call({ input: \"我叫什么？\" });\n",
    "console.log(res2);"
   ]
  },
  {
   "cell_type": "code",
   "execution_count": 3,
   "id": "aafb5a7a-90b0-4b0f-83ad-4326fd545d20",
   "metadata": {},
   "outputs": [],
   "source": [
    "import { ConversationSummaryBufferMemory } from \"langchain/memory\";\n",
    "import { ConversationChain } from \"langchain/chains\";\n",
    "import { Ollama } from \"@langchain/community/llms/ollama\";\n",
    "\n",
    "const model = new Ollama({\n",
    "  baseUrl: \"http://localhost:11434\", \n",
    "  model: \"qwen:7b\", \n",
    "});\n",
    "\n",
    "const memory = new ConversationSummaryBufferMemory({\n",
    "  llm: model,\n",
    "  maxTokenLimit: 200\n",
    "});\n",
    "const chain = new ConversationChain({ llm: model, memory: memory, verbose: true });"
   ]
  },
  {
   "cell_type": "code",
   "execution_count": 4,
   "id": "17c576e2-bd3d-4a9a-8370-491434d197a3",
   "metadata": {},
   "outputs": [],
   "source": [
    "import { EntityMemory, ENTITY_MEMORY_CONVERSATION_TEMPLATE } from \"langchain/memory\";\n",
    "import { ConversationChain } from \"langchain/chains\";\n",
    "\n",
    "\n",
    "const model = new Ollama({\n",
    "  baseUrl: \"http://localhost:11434\", \n",
    "  model: \"qwen:7b\", \n",
    "});\n",
    "const memory = new EntityMemory({\n",
    "    llm: model,\n",
    "    chatHistoryKey: \"history\",\n",
    "    entitiesKey: \"entities\"\n",
    "});\n",
    "const chain = new ConversationChain({ \n",
    "    llm: model, \n",
    "    prompt: ENTITY_MEMORY_CONVERSATION_TEMPLATE,\n",
    "    memory: memory, \n",
    "    verbose: true \n",
    "});"
   ]
  },
  {
   "cell_type": "code",
   "execution_count": 7,
   "id": "8adb0e95-5ea7-4fb5-ba6f-8e4537ffe262",
   "metadata": {},
   "outputs": [
    {
     "name": "stdout",
     "output_type": "stream",
     "text": [
      "\u001b[32m[chain/start]\u001b[39m [\u001b[90m\u001b[1m1:chain:ConversationChain\u001b[22m\u001b[39m] Entering Chain run with input: {\n",
      "  \"input\": \"我叫小明，今年 18 岁\",\n",
      "  \"history\": \"Human: 我叫小明，今年 18 岁\\nAI: 你好，小明！很高兴认识你。既然你今年18岁，是不是正处在人生的黄金时期呢？有什么打算或者对未来有什么憧憬吗？我们可以聊聊。\\nHuman: ABC 是一家互联网公司，主要是售卖方便面的公司\\nAI: AI: 哦，明白了，ABC是一家专注于销售方便面的互联网公司。这样的企业通常会通过线上平台进行商品销售，可能还会包括方便面的生产或者其他相关服务。\\n\\n对于ABC公司来说，他们可能会面临市场竞争、产品更新、营销策略制定等问题。如果你对ABC公司的某个具体问题感兴趣，或者是想了解方便面行业的趋势和发展，我们可以继续深入讨论。\",\n",
      "  \"entities\": {\n",
      "    \"小明\": \"No current information known.\",\n",
      "    \"18岁\": \"No current information known.\"\n",
      "  }\n",
      "}\n",
      "\u001b[32m[llm/start]\u001b[39m [\u001b[90m1:chain:ConversationChain > \u001b[1m2:llm:Ollama\u001b[22m\u001b[39m] Entering LLM run with input: {\n",
      "  \"prompts\": [\n",
      "    \"You are an assistant to a human, powered by a large language model trained by OpenAI.\\n\\nYou are designed to be able to assist with a wide range of tasks, from answering simple questions to providing in-depth explanations and discussions on a wide range of topics. As a language model, you are able to generate human-like text based on the input you receive, allowing you to engage in natural-sounding conversations and provide responses that are coherent and relevant to the topic at hand.\\n\\nYou are constantly learning and improving, and your capabilities are constantly evolving. You are able to process and understand large amounts of text, and can use this knowledge to provide accurate and informative responses to a wide range of questions. You have access to some personalized information provided by the human in the Context section below. Additionally, you are able to generate your own text based on the input you receive, allowing you to engage in discussions and provide explanations and descriptions on a wide range of topics.\\n\\nOverall, you are a powerful tool that can help with a wide range of tasks and provide valuable insights and information on a wide range of topics. Whether the human needs help with a specific question or just wants to have a conversation about a particular topic, you are here to assist.\\n\\nContext:\\n[object Object]\\n\\nCurrent conversation:\\nHuman: 我叫小明，今年 18 岁\\nAI: 你好，小明！很高兴认识你。既然你今年18岁，是不是正处在人生的黄金时期呢？有什么打算或者对未来有什么憧憬吗？我们可以聊聊。\\nHuman: ABC 是一家互联网公司，主要是售卖方便面的公司\\nAI: AI: 哦，明白了，ABC是一家专注于销售方便面的互联网公司。这样的企业通常会通过线上平台进行商品销售，可能还会包括方便面的生产或者其他相关服务。\\n\\n对于ABC公司来说，他们可能会面临市场竞争、产品更新、营销策略制定等问题。如果你对ABC公司的某个具体问题感兴趣，或者是想了解方便面行业的趋势和发展，我们可以继续深入讨论。\\nLast line:\\nHuman: 我叫小明，今年 18 岁\\nYou:\"\n",
      "  ]\n",
      "}\n",
      "\u001b[36m[llm/end]\u001b[39m [\u001b[90m1:chain:ConversationChain > \u001b[1m2:llm:Ollama\u001b[22m\u001b[39m] [44.07s] Exiting LLM run with output: {\n",
      "  \"generations\": [\n",
      "    [\n",
      "      {\n",
      "        \"text\": \"你好，小明！很高兴再次见到你。今年你18岁了，是不是正处在人生中充满活力和可能性的阶段呢？对未来有什么规划或者梦想吗？我们可以聊聊这些话题。\"\n",
      "      }\n",
      "    ]\n",
      "  ]\n",
      "}\n",
      "\u001b[36m[chain/end]\u001b[39m [\u001b[90m\u001b[1m1:chain:ConversationChain\u001b[22m\u001b[39m] [97.48s] Exiting Chain run with output: {\n",
      "  \"response\": \"你好，小明！很高兴再次见到你。今年你18岁了，是不是正处在人生中充满活力和可能性的阶段呢？对未来有什么规划或者梦想吗？我们可以聊聊这些话题。\"\n",
      "}\n",
      "\u001b[32m[chain/start]\u001b[39m [\u001b[90m\u001b[1m1:chain:ConversationChain\u001b[22m\u001b[39m] Entering Chain run with input: {\n",
      "  \"input\": \"ABC 是一家互联网公司，主要是售卖方便面的公司\",\n",
      "  \"history\": \"Human: 我叫小明，今年 18 岁\\nAI: 你好，小明！很高兴认识你。既然你今年18岁，是不是正处在人生的黄金时期呢？有什么打算或者对未来有什么憧憬吗？我们可以聊聊。\\nHuman: ABC 是一家互联网公司，主要是售卖方便面的公司\\nAI: AI: 哦，明白了，ABC是一家专注于销售方便面的互联网公司。这样的企业通常会通过线上平台进行商品销售，可能还会包括方便面的生产或者其他相关服务。\\n\\n对于ABC公司来说，他们可能会面临市场竞争、产品更新、营销策略制定等问题。如果你对ABC公司的某个具体问题感兴趣，或者是想了解方便面行业的趋势和发展，我们可以继续深入讨论。\\nHuman: 我叫小明，今年 18 岁\\nAI: 你好，小明！很高兴再次见到你。今年你18岁了，是不是正处在人生中充满活力和可能性的阶段呢？对未来有什么规划或者梦想吗？我们可以聊聊这些话题。\",\n",
      "  \"entities\": {\n",
      "    \"ABC\": \"No current information known.\",\n",
      "    \"互联网公司\": \"No current information known.\",\n",
      "    \"方便面销售\": \"No current information known.\"\n",
      "  }\n",
      "}\n",
      "\u001b[32m[llm/start]\u001b[39m [\u001b[90m1:chain:ConversationChain > \u001b[1m2:llm:Ollama\u001b[22m\u001b[39m] Entering LLM run with input: {\n",
      "  \"prompts\": [\n",
      "    \"You are an assistant to a human, powered by a large language model trained by OpenAI.\\n\\nYou are designed to be able to assist with a wide range of tasks, from answering simple questions to providing in-depth explanations and discussions on a wide range of topics. As a language model, you are able to generate human-like text based on the input you receive, allowing you to engage in natural-sounding conversations and provide responses that are coherent and relevant to the topic at hand.\\n\\nYou are constantly learning and improving, and your capabilities are constantly evolving. You are able to process and understand large amounts of text, and can use this knowledge to provide accurate and informative responses to a wide range of questions. You have access to some personalized information provided by the human in the Context section below. Additionally, you are able to generate your own text based on the input you receive, allowing you to engage in discussions and provide explanations and descriptions on a wide range of topics.\\n\\nOverall, you are a powerful tool that can help with a wide range of tasks and provide valuable insights and information on a wide range of topics. Whether the human needs help with a specific question or just wants to have a conversation about a particular topic, you are here to assist.\\n\\nContext:\\n[object Object]\\n\\nCurrent conversation:\\nHuman: 我叫小明，今年 18 岁\\nAI: 你好，小明！很高兴认识你。既然你今年18岁，是不是正处在人生的黄金时期呢？有什么打算或者对未来有什么憧憬吗？我们可以聊聊。\\nHuman: ABC 是一家互联网公司，主要是售卖方便面的公司\\nAI: AI: 哦，明白了，ABC是一家专注于销售方便面的互联网公司。这样的企业通常会通过线上平台进行商品销售，可能还会包括方便面的生产或者其他相关服务。\\n\\n对于ABC公司来说，他们可能会面临市场竞争、产品更新、营销策略制定等问题。如果你对ABC公司的某个具体问题感兴趣，或者是想了解方便面行业的趋势和发展，我们可以继续深入讨论。\\nHuman: 我叫小明，今年 18 岁\\nAI: 你好，小明！很高兴再次见到你。今年你18岁了，是不是正处在人生中充满活力和可能性的阶段呢？对未来有什么规划或者梦想吗？我们可以聊聊这些话题。\\nLast line:\\nHuman: ABC 是一家互联网公司，主要是售卖方便面的公司\\nYou:\"\n",
      "  ]\n",
      "}\n",
      "\u001b[36m[llm/end]\u001b[39m [\u001b[90m1:chain:ConversationChain > \u001b[1m2:llm:Ollama\u001b[22m\u001b[39m] [73.68s] Exiting LLM run with output: {\n",
      "  \"generations\": [\n",
      "    [\n",
      "      {\n",
      "        \"text\": \"AI: 哦，我明白了。ABC是一家专注于销售方便面的互联网公司。这样的企业通常会通过线上平台如自己的网站或者第三方电商平台进行商品的购买和销售，可能还包括方便面的生产或者其他相关服务。\\n\\n对于ABC这样的公司来说，他们可能会面临市场竞争、产品更新速度（因为方便面市场变化较快）、营销策略制定、以及如何利用互联网技术提升销售渠道和客户体验等问题。\\n\\n如果你对ABC公司的某个具体问题感兴趣，或者是想了解方便面行业的整体发展趋势，我们可以继续深入探讨。\"\n",
      "      }\n",
      "    ]\n",
      "  ]\n",
      "}\n",
      "\u001b[36m[chain/end]\u001b[39m [\u001b[90m\u001b[1m1:chain:ConversationChain\u001b[22m\u001b[39m] [151.36s] Exiting Chain run with output: {\n",
      "  \"response\": \"AI: 哦，我明白了。ABC是一家专注于销售方便面的互联网公司。这样的企业通常会通过线上平台如自己的网站或者第三方电商平台进行商品的购买和销售，可能还包括方便面的生产或者其他相关服务。\\n\\n对于ABC这样的公司来说，他们可能会面临市场竞争、产品更新速度（因为方便面市场变化较快）、营销策略制定、以及如何利用互联网技术提升销售渠道和客户体验等问题。\\n\\n如果你对ABC公司的某个具体问题感兴趣，或者是想了解方便面行业的整体发展趋势，我们可以继续深入探讨。\"\n",
      "}\n",
      "{\n",
      "  response: \u001b[32m\"你好，小明！很高兴再次见到你。今年你18岁了，是不是正处在人生中充满活力和可能性的阶段呢？对未来有什么规划或者梦想吗？我们可以聊聊这些话题。\"\u001b[39m\n",
      "}\n",
      "{\n",
      "  response: \u001b[32m\"AI: 哦，我明白了。ABC是一家专注于销售方便面的互联网公司。这样的企业通常会通过线上平台如自己的网站或者第三方电商平台进行商品的购买和销售，可能还包括方便面的生产或者其他相关服务。\\n\"\u001b[39m +\n",
      "    \u001b[32m\"\\n\"\u001b[39m +\n",
      "    \u001b[32m\"对于ABC这\"\u001b[39m... 124 more characters\n",
      "}\n"
     ]
    }
   ],
   "source": [
    "// process.env.LANGCHAIN_VERBOSE = \"false\";\n",
    "\n",
    "const res1 = await chain.call({ input: \"我叫小明，今年 18 岁\" });\n",
    "const res2 = await chain.call({ input: \"ABC 是一家互联网公司，主要是售卖方便面的公司\" });\n",
    "\n",
    "console.log(res1);\n",
    "console.log(res2);"
   ]
  },
  {
   "cell_type": "code",
   "execution_count": 8,
   "id": "a14a7575-fc90-420e-805c-80f8fe7ef62e",
   "metadata": {},
   "outputs": [
    {
     "name": "stdout",
     "output_type": "stream",
     "text": [
      "\u001b[32m[chain/start]\u001b[39m [\u001b[90m\u001b[1m1:chain:ConversationChain\u001b[22m\u001b[39m] Entering Chain run with input: {\n",
      "  \"input\": \"介绍小明和 ABC\",\n",
      "  \"history\": \"Human: ABC 是一家互联网公司，主要是售卖方便面的公司\\nAI: AI: 哦，明白了，ABC是一家专注于销售方便面的互联网公司。这样的企业通常会通过线上平台进行商品销售，可能还会包括方便面的生产或者其他相关服务。\\n\\n对于ABC公司来说，他们可能会面临市场竞争、产品更新、营销策略制定等问题。如果你对ABC公司的某个具体问题感兴趣，或者是想了解方便面行业的趋势和发展，我们可以继续深入讨论。\\nHuman: 我叫小明，今年 18 岁\\nAI: 你好，小明！很高兴再次见到你。今年你18岁了，是不是正处在人生中充满活力和可能性的阶段呢？对未来有什么规划或者梦想吗？我们可以聊聊这些话题。\\nHuman: ABC 是一家互联网公司，主要是售卖方便面的公司\\nAI: AI: 哦，我明白了。ABC是一家专注于销售方便面的互联网公司。这样的企业通常会通过线上平台如自己的网站或者第三方电商平台进行商品的购买和销售，可能还包括方便面的生产或者其他相关服务。\\n\\n对于ABC这样的公司来说，他们可能会面临市场竞争、产品更新速度（因为方便面市场变化较快）、营销策略制定、以及如何利用互联网技术提升销售渠道和客户体验等问题。\\n\\n如果你对ABC公司的某个具体问题感兴趣，或者是想了解方便面行业的整体发展趋势，我们可以继续深入探讨。\",\n",
      "  \"entities\": {\n",
      "    \"小明是一名18岁的年轻人，他自称叫小明。而ABC则是一家专注于销售方便面的互联网公司。两者在当前的交流中并没有直接关联。\": \"No current information known.\"\n",
      "  }\n",
      "}\n",
      "\u001b[32m[llm/start]\u001b[39m [\u001b[90m1:chain:ConversationChain > \u001b[1m2:llm:Ollama\u001b[22m\u001b[39m] Entering LLM run with input: {\n",
      "  \"prompts\": [\n",
      "    \"You are an assistant to a human, powered by a large language model trained by OpenAI.\\n\\nYou are designed to be able to assist with a wide range of tasks, from answering simple questions to providing in-depth explanations and discussions on a wide range of topics. As a language model, you are able to generate human-like text based on the input you receive, allowing you to engage in natural-sounding conversations and provide responses that are coherent and relevant to the topic at hand.\\n\\nYou are constantly learning and improving, and your capabilities are constantly evolving. You are able to process and understand large amounts of text, and can use this knowledge to provide accurate and informative responses to a wide range of questions. You have access to some personalized information provided by the human in the Context section below. Additionally, you are able to generate your own text based on the input you receive, allowing you to engage in discussions and provide explanations and descriptions on a wide range of topics.\\n\\nOverall, you are a powerful tool that can help with a wide range of tasks and provide valuable insights and information on a wide range of topics. Whether the human needs help with a specific question or just wants to have a conversation about a particular topic, you are here to assist.\\n\\nContext:\\n[object Object]\\n\\nCurrent conversation:\\nHuman: ABC 是一家互联网公司，主要是售卖方便面的公司\\nAI: AI: 哦，明白了，ABC是一家专注于销售方便面的互联网公司。这样的企业通常会通过线上平台进行商品销售，可能还会包括方便面的生产或者其他相关服务。\\n\\n对于ABC公司来说，他们可能会面临市场竞争、产品更新、营销策略制定等问题。如果你对ABC公司的某个具体问题感兴趣，或者是想了解方便面行业的趋势和发展，我们可以继续深入讨论。\\nHuman: 我叫小明，今年 18 岁\\nAI: 你好，小明！很高兴再次见到你。今年你18岁了，是不是正处在人生中充满活力和可能性的阶段呢？对未来有什么规划或者梦想吗？我们可以聊聊这些话题。\\nHuman: ABC 是一家互联网公司，主要是售卖方便面的公司\\nAI: AI: 哦，我明白了。ABC是一家专注于销售方便面的互联网公司。这样的企业通常会通过线上平台如自己的网站或者第三方电商平台进行商品的购买和销售，可能还包括方便面的生产或者其他相关服务。\\n\\n对于ABC这样的公司来说，他们可能会面临市场竞争、产品更新速度（因为方便面市场变化较快）、营销策略制定、以及如何利用互联网技术提升销售渠道和客户体验等问题。\\n\\n如果你对ABC公司的某个具体问题感兴趣，或者是想了解方便面行业的整体发展趋势，我们可以继续深入探讨。\\nLast line:\\nHuman: 介绍小明和 ABC\\nYou:\"\n",
      "  ]\n",
      "}\n",
      "\u001b[36m[llm/end]\u001b[39m [\u001b[90m1:chain:ConversationChain > \u001b[1m2:llm:Ollama\u001b[22m\u001b[39m] [93.67s] Exiting LLM run with output: {\n",
      "  \"generations\": [\n",
      "    [\n",
      "      {\n",
      "        \"text\": \"当然可以，让我们来介绍一下小明以及ABC公司。\\n\\n首先，我们有小明，他今年18岁，是个活力四溢的年轻人。他的生活可能充满了对未来的憧憬和探索未知的好奇心。\\n\\n接下来是ABC公司，这是一家专注于互联网销售方便面的公司。他们可能是通过建立自己的网站或是利用第三方电商平台来实现商品的购买和销售。同时，ABC公司还可能涉及到方便面的生产或者其他相关服务。\\n\\n对于小明来说，他可能会对ABC公司的业务感兴趣，特别是如果他对方便面行业有所了解或者个人生活中有吃方便面的经历的话。我们可以探讨这个可能性，看看小明是否有机会与ABC公司产生联系。\"\n",
      "      }\n",
      "    ]\n",
      "  ]\n",
      "}\n",
      "\u001b[36m[chain/end]\u001b[39m [\u001b[90m\u001b[1m1:chain:ConversationChain\u001b[22m\u001b[39m] [174.75s] Exiting Chain run with output: {\n",
      "  \"response\": \"当然可以，让我们来介绍一下小明以及ABC公司。\\n\\n首先，我们有小明，他今年18岁，是个活力四溢的年轻人。他的生活可能充满了对未来的憧憬和探索未知的好奇心。\\n\\n接下来是ABC公司，这是一家专注于互联网销售方便面的公司。他们可能是通过建立自己的网站或是利用第三方电商平台来实现商品的购买和销售。同时，ABC公司还可能涉及到方便面的生产或者其他相关服务。\\n\\n对于小明来说，他可能会对ABC公司的业务感兴趣，特别是如果他对方便面行业有所了解或者个人生活中有吃方便面的经历的话。我们可以探讨这个可能性，看看小明是否有机会与ABC公司产生联系。\"\n",
      "}\n",
      "{\n",
      "  response: \u001b[32m\"当然可以，让我们来介绍一下小明以及ABC公司。\\n\"\u001b[39m +\n",
      "    \u001b[32m\"\\n\"\u001b[39m +\n",
      "    \u001b[32m\"首先，我们有小明，他今年18岁，是个活力四溢的年轻人。他的生活可能充满了对未来的憧憬和探索未知的好奇心。\\n\"\u001b[39m +\n",
      "    \u001b[32m\"\\n\"\u001b[39m +\n",
      "    \u001b[32m\"接下来是ABC公司，这是一家专注于互联网销\"\u001b[39m... 166 more characters\n",
      "}\n"
     ]
    }
   ],
   "source": [
    "const res3 = await chain.call({ input: \"介绍小明和 ABC\" });\n",
    "console.log(res3);"
   ]
  },
  {
   "cell_type": "code",
   "execution_count": null,
   "id": "e3fbdd25-3456-4ad6-823c-2117cce124c5",
   "metadata": {},
   "outputs": [],
   "source": []
  }
 ],
 "metadata": {
  "kernelspec": {
   "display_name": "Deno",
   "language": "typescript",
   "name": "deno"
  },
  "language_info": {
   "file_extension": ".ts",
   "mimetype": "text/x.typescript",
   "name": "typescript",
   "nb_converter": "script",
   "pygments_lexer": "typescript",
   "version": "5.4.5"
  }
 },
 "nbformat": 4,
 "nbformat_minor": 5
}
